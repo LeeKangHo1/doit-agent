{
 "cells": [
  {
   "cell_type": "markdown",
   "id": "e46cee52",
   "metadata": {},
   "source": [
    "### 랭그래프로 간단한 챗봇 만들기\n",
    " - 단순한 챗봇이면 랭그래프의 장점이 느껴지지 않으나 랭그래프 구조를 알아야 함"
   ]
  },
  {
   "cell_type": "code",
   "execution_count": 1,
   "id": "63fcaa5d",
   "metadata": {},
   "outputs": [
    {
     "name": "stdout",
     "output_type": "stream",
     "text": [
      "Requirement already satisfied: langgraph in c:\\workspace\\doit-agent\\venv\\lib\\site-packages (0.2.74)\n",
      "Requirement already satisfied: langchain-core!=0.3.0,!=0.3.1,!=0.3.10,!=0.3.11,!=0.3.12,!=0.3.13,!=0.3.14,!=0.3.15,!=0.3.16,!=0.3.17,!=0.3.18,!=0.3.19,!=0.3.2,!=0.3.20,!=0.3.21,!=0.3.22,!=0.3.3,!=0.3.4,!=0.3.5,!=0.3.6,!=0.3.7,!=0.3.8,!=0.3.9,<0.4.0,>=0.2.43 in c:\\workspace\\doit-agent\\venv\\lib\\site-packages (from langgraph) (0.3.67)\n",
      "Requirement already satisfied: langgraph-checkpoint<3.0.0,>=2.0.10 in c:\\workspace\\doit-agent\\venv\\lib\\site-packages (from langgraph) (2.1.0)\n",
      "Requirement already satisfied: langgraph-sdk<0.2.0,>=0.1.42 in c:\\workspace\\doit-agent\\venv\\lib\\site-packages (from langgraph) (0.1.72)\n",
      "Requirement already satisfied: langsmith>=0.3.45 in c:\\workspace\\doit-agent\\venv\\lib\\site-packages (from langchain-core!=0.3.0,!=0.3.1,!=0.3.10,!=0.3.11,!=0.3.12,!=0.3.13,!=0.3.14,!=0.3.15,!=0.3.16,!=0.3.17,!=0.3.18,!=0.3.19,!=0.3.2,!=0.3.20,!=0.3.21,!=0.3.22,!=0.3.3,!=0.3.4,!=0.3.5,!=0.3.6,!=0.3.7,!=0.3.8,!=0.3.9,<0.4.0,>=0.2.43->langgraph) (0.3.45)\n",
      "Requirement already satisfied: tenacity!=8.4.0,<10.0.0,>=8.1.0 in c:\\workspace\\doit-agent\\venv\\lib\\site-packages (from langchain-core!=0.3.0,!=0.3.1,!=0.3.10,!=0.3.11,!=0.3.12,!=0.3.13,!=0.3.14,!=0.3.15,!=0.3.16,!=0.3.17,!=0.3.18,!=0.3.19,!=0.3.2,!=0.3.20,!=0.3.21,!=0.3.22,!=0.3.3,!=0.3.4,!=0.3.5,!=0.3.6,!=0.3.7,!=0.3.8,!=0.3.9,<0.4.0,>=0.2.43->langgraph) (9.1.2)\n",
      "Requirement already satisfied: jsonpatch<2.0,>=1.33 in c:\\workspace\\doit-agent\\venv\\lib\\site-packages (from langchain-core!=0.3.0,!=0.3.1,!=0.3.10,!=0.3.11,!=0.3.12,!=0.3.13,!=0.3.14,!=0.3.15,!=0.3.16,!=0.3.17,!=0.3.18,!=0.3.19,!=0.3.2,!=0.3.20,!=0.3.21,!=0.3.22,!=0.3.3,!=0.3.4,!=0.3.5,!=0.3.6,!=0.3.7,!=0.3.8,!=0.3.9,<0.4.0,>=0.2.43->langgraph) (1.33)\n",
      "Requirement already satisfied: PyYAML>=5.3 in c:\\workspace\\doit-agent\\venv\\lib\\site-packages (from langchain-core!=0.3.0,!=0.3.1,!=0.3.10,!=0.3.11,!=0.3.12,!=0.3.13,!=0.3.14,!=0.3.15,!=0.3.16,!=0.3.17,!=0.3.18,!=0.3.19,!=0.3.2,!=0.3.20,!=0.3.21,!=0.3.22,!=0.3.3,!=0.3.4,!=0.3.5,!=0.3.6,!=0.3.7,!=0.3.8,!=0.3.9,<0.4.0,>=0.2.43->langgraph) (6.0.2)\n",
      "Requirement already satisfied: packaging<25,>=23.2 in c:\\workspace\\doit-agent\\venv\\lib\\site-packages (from langchain-core!=0.3.0,!=0.3.1,!=0.3.10,!=0.3.11,!=0.3.12,!=0.3.13,!=0.3.14,!=0.3.15,!=0.3.16,!=0.3.17,!=0.3.18,!=0.3.19,!=0.3.2,!=0.3.20,!=0.3.21,!=0.3.22,!=0.3.3,!=0.3.4,!=0.3.5,!=0.3.6,!=0.3.7,!=0.3.8,!=0.3.9,<0.4.0,>=0.2.43->langgraph) (24.2)\n",
      "Requirement already satisfied: typing-extensions>=4.7 in c:\\workspace\\doit-agent\\venv\\lib\\site-packages (from langchain-core!=0.3.0,!=0.3.1,!=0.3.10,!=0.3.11,!=0.3.12,!=0.3.13,!=0.3.14,!=0.3.15,!=0.3.16,!=0.3.17,!=0.3.18,!=0.3.19,!=0.3.2,!=0.3.20,!=0.3.21,!=0.3.22,!=0.3.3,!=0.3.4,!=0.3.5,!=0.3.6,!=0.3.7,!=0.3.8,!=0.3.9,<0.4.0,>=0.2.43->langgraph) (4.14.0)\n",
      "Requirement already satisfied: pydantic>=2.7.4 in c:\\workspace\\doit-agent\\venv\\lib\\site-packages (from langchain-core!=0.3.0,!=0.3.1,!=0.3.10,!=0.3.11,!=0.3.12,!=0.3.13,!=0.3.14,!=0.3.15,!=0.3.16,!=0.3.17,!=0.3.18,!=0.3.19,!=0.3.2,!=0.3.20,!=0.3.21,!=0.3.22,!=0.3.3,!=0.3.4,!=0.3.5,!=0.3.6,!=0.3.7,!=0.3.8,!=0.3.9,<0.4.0,>=0.2.43->langgraph) (2.11.7)\n",
      "Requirement already satisfied: ormsgpack>=1.10.0 in c:\\workspace\\doit-agent\\venv\\lib\\site-packages (from langgraph-checkpoint<3.0.0,>=2.0.10->langgraph) (1.10.0)\n",
      "Requirement already satisfied: httpx>=0.25.2 in c:\\workspace\\doit-agent\\venv\\lib\\site-packages (from langgraph-sdk<0.2.0,>=0.1.42->langgraph) (0.28.1)\n",
      "Requirement already satisfied: orjson>=3.10.1 in c:\\workspace\\doit-agent\\venv\\lib\\site-packages (from langgraph-sdk<0.2.0,>=0.1.42->langgraph) (3.10.18)\n",
      "Requirement already satisfied: anyio in c:\\workspace\\doit-agent\\venv\\lib\\site-packages (from httpx>=0.25.2->langgraph-sdk<0.2.0,>=0.1.42->langgraph) (4.9.0)\n",
      "Requirement already satisfied: certifi in c:\\workspace\\doit-agent\\venv\\lib\\site-packages (from httpx>=0.25.2->langgraph-sdk<0.2.0,>=0.1.42->langgraph) (2025.6.15)\n",
      "Requirement already satisfied: httpcore==1.* in c:\\workspace\\doit-agent\\venv\\lib\\site-packages (from httpx>=0.25.2->langgraph-sdk<0.2.0,>=0.1.42->langgraph) (1.0.9)\n",
      "Requirement already satisfied: idna in c:\\workspace\\doit-agent\\venv\\lib\\site-packages (from httpx>=0.25.2->langgraph-sdk<0.2.0,>=0.1.42->langgraph) (3.10)\n",
      "Requirement already satisfied: h11>=0.16 in c:\\workspace\\doit-agent\\venv\\lib\\site-packages (from httpcore==1.*->httpx>=0.25.2->langgraph-sdk<0.2.0,>=0.1.42->langgraph) (0.16.0)\n",
      "Requirement already satisfied: jsonpointer>=1.9 in c:\\workspace\\doit-agent\\venv\\lib\\site-packages (from jsonpatch<2.0,>=1.33->langchain-core!=0.3.0,!=0.3.1,!=0.3.10,!=0.3.11,!=0.3.12,!=0.3.13,!=0.3.14,!=0.3.15,!=0.3.16,!=0.3.17,!=0.3.18,!=0.3.19,!=0.3.2,!=0.3.20,!=0.3.21,!=0.3.22,!=0.3.3,!=0.3.4,!=0.3.5,!=0.3.6,!=0.3.7,!=0.3.8,!=0.3.9,<0.4.0,>=0.2.43->langgraph) (3.0.0)\n",
      "Requirement already satisfied: requests<3,>=2 in c:\\workspace\\doit-agent\\venv\\lib\\site-packages (from langsmith>=0.3.45->langchain-core!=0.3.0,!=0.3.1,!=0.3.10,!=0.3.11,!=0.3.12,!=0.3.13,!=0.3.14,!=0.3.15,!=0.3.16,!=0.3.17,!=0.3.18,!=0.3.19,!=0.3.2,!=0.3.20,!=0.3.21,!=0.3.22,!=0.3.3,!=0.3.4,!=0.3.5,!=0.3.6,!=0.3.7,!=0.3.8,!=0.3.9,<0.4.0,>=0.2.43->langgraph) (2.32.4)\n",
      "Requirement already satisfied: requests-toolbelt<2.0.0,>=1.0.0 in c:\\workspace\\doit-agent\\venv\\lib\\site-packages (from langsmith>=0.3.45->langchain-core!=0.3.0,!=0.3.1,!=0.3.10,!=0.3.11,!=0.3.12,!=0.3.13,!=0.3.14,!=0.3.15,!=0.3.16,!=0.3.17,!=0.3.18,!=0.3.19,!=0.3.2,!=0.3.20,!=0.3.21,!=0.3.22,!=0.3.3,!=0.3.4,!=0.3.5,!=0.3.6,!=0.3.7,!=0.3.8,!=0.3.9,<0.4.0,>=0.2.43->langgraph) (1.0.0)\n",
      "Requirement already satisfied: zstandard<0.24.0,>=0.23.0 in c:\\workspace\\doit-agent\\venv\\lib\\site-packages (from langsmith>=0.3.45->langchain-core!=0.3.0,!=0.3.1,!=0.3.10,!=0.3.11,!=0.3.12,!=0.3.13,!=0.3.14,!=0.3.15,!=0.3.16,!=0.3.17,!=0.3.18,!=0.3.19,!=0.3.2,!=0.3.20,!=0.3.21,!=0.3.22,!=0.3.3,!=0.3.4,!=0.3.5,!=0.3.6,!=0.3.7,!=0.3.8,!=0.3.9,<0.4.0,>=0.2.43->langgraph) (0.23.0)\n",
      "Requirement already satisfied: annotated-types>=0.6.0 in c:\\workspace\\doit-agent\\venv\\lib\\site-packages (from pydantic>=2.7.4->langchain-core!=0.3.0,!=0.3.1,!=0.3.10,!=0.3.11,!=0.3.12,!=0.3.13,!=0.3.14,!=0.3.15,!=0.3.16,!=0.3.17,!=0.3.18,!=0.3.19,!=0.3.2,!=0.3.20,!=0.3.21,!=0.3.22,!=0.3.3,!=0.3.4,!=0.3.5,!=0.3.6,!=0.3.7,!=0.3.8,!=0.3.9,<0.4.0,>=0.2.43->langgraph) (0.7.0)\n",
      "Requirement already satisfied: pydantic-core==2.33.2 in c:\\workspace\\doit-agent\\venv\\lib\\site-packages (from pydantic>=2.7.4->langchain-core!=0.3.0,!=0.3.1,!=0.3.10,!=0.3.11,!=0.3.12,!=0.3.13,!=0.3.14,!=0.3.15,!=0.3.16,!=0.3.17,!=0.3.18,!=0.3.19,!=0.3.2,!=0.3.20,!=0.3.21,!=0.3.22,!=0.3.3,!=0.3.4,!=0.3.5,!=0.3.6,!=0.3.7,!=0.3.8,!=0.3.9,<0.4.0,>=0.2.43->langgraph) (2.33.2)\n",
      "Requirement already satisfied: typing-inspection>=0.4.0 in c:\\workspace\\doit-agent\\venv\\lib\\site-packages (from pydantic>=2.7.4->langchain-core!=0.3.0,!=0.3.1,!=0.3.10,!=0.3.11,!=0.3.12,!=0.3.13,!=0.3.14,!=0.3.15,!=0.3.16,!=0.3.17,!=0.3.18,!=0.3.19,!=0.3.2,!=0.3.20,!=0.3.21,!=0.3.22,!=0.3.3,!=0.3.4,!=0.3.5,!=0.3.6,!=0.3.7,!=0.3.8,!=0.3.9,<0.4.0,>=0.2.43->langgraph) (0.4.1)\n",
      "Requirement already satisfied: charset_normalizer<4,>=2 in c:\\workspace\\doit-agent\\venv\\lib\\site-packages (from requests<3,>=2->langsmith>=0.3.45->langchain-core!=0.3.0,!=0.3.1,!=0.3.10,!=0.3.11,!=0.3.12,!=0.3.13,!=0.3.14,!=0.3.15,!=0.3.16,!=0.3.17,!=0.3.18,!=0.3.19,!=0.3.2,!=0.3.20,!=0.3.21,!=0.3.22,!=0.3.3,!=0.3.4,!=0.3.5,!=0.3.6,!=0.3.7,!=0.3.8,!=0.3.9,<0.4.0,>=0.2.43->langgraph) (3.4.2)\n",
      "Requirement already satisfied: urllib3<3,>=1.21.1 in c:\\workspace\\doit-agent\\venv\\lib\\site-packages (from requests<3,>=2->langsmith>=0.3.45->langchain-core!=0.3.0,!=0.3.1,!=0.3.10,!=0.3.11,!=0.3.12,!=0.3.13,!=0.3.14,!=0.3.15,!=0.3.16,!=0.3.17,!=0.3.18,!=0.3.19,!=0.3.2,!=0.3.20,!=0.3.21,!=0.3.22,!=0.3.3,!=0.3.4,!=0.3.5,!=0.3.6,!=0.3.7,!=0.3.8,!=0.3.9,<0.4.0,>=0.2.43->langgraph) (2.5.0)\n",
      "Requirement already satisfied: sniffio>=1.1 in c:\\workspace\\doit-agent\\venv\\lib\\site-packages (from anyio->httpx>=0.25.2->langgraph-sdk<0.2.0,>=0.1.42->langgraph) (1.3.1)\n",
      "Note: you may need to restart the kernel to use updated packages.\n"
     ]
    },
    {
     "name": "stderr",
     "output_type": "stream",
     "text": [
      "\n",
      "[notice] A new release of pip is available: 24.3.1 -> 25.1.1\n",
      "[notice] To update, run: python.exe -m pip install --upgrade pip\n"
     ]
    }
   ],
   "source": [
    "# 랭그래프 설치하기\n",
    "%pip install langgraph"
   ]
  },
  {
   "cell_type": "code",
   "execution_count": 2,
   "id": "1f98759d",
   "metadata": {},
   "outputs": [
    {
     "data": {
      "text/plain": [
       "AIMessage(content='안녕하세요! 어떻게 도와드릴까요?', additional_kwargs={'refusal': None}, response_metadata={'token_usage': {'completion_tokens': 10, 'prompt_tokens': 10, 'total_tokens': 20, 'completion_tokens_details': {'accepted_prediction_tokens': 0, 'audio_tokens': 0, 'reasoning_tokens': 0, 'rejected_prediction_tokens': 0}, 'prompt_tokens_details': {'audio_tokens': 0, 'cached_tokens': 0}}, 'model_name': 'gpt-4o-mini-2024-07-18', 'system_fingerprint': 'fp_34a54ae93c', 'id': 'chatcmpl-Bqaj9Nk7Wz3biCLtI3aNV03108zEb', 'service_tier': 'default', 'finish_reason': 'stop', 'logprobs': None}, id='run--8d4b6f92-051b-4db2-9850-745ffd0a44a5-0', usage_metadata={'input_tokens': 10, 'output_tokens': 10, 'total_tokens': 20, 'input_token_details': {'audio': 0, 'cache_read': 0}, 'output_token_details': {'audio': 0, 'reasoning': 0}})"
      ]
     },
     "execution_count": 2,
     "metadata": {},
     "output_type": "execute_result"
    }
   ],
   "source": [
    "# gpt 모델 설정\n",
    "from langchain_openai import ChatOpenAI\n",
    "model = ChatOpenAI(model=\"gpt-4o-mini\")\n",
    "model.invoke(\"안녕하세요!\")"
   ]
  },
  {
   "cell_type": "markdown",
   "id": "48dcb420",
   "metadata": {},
   "source": [
    "### 상태 정의하기"
   ]
  },
  {
   "cell_type": "code",
   "execution_count": 3,
   "id": "01df12e1",
   "metadata": {},
   "outputs": [],
   "source": [
    "# 상태 클래스 정의하기\n",
    "from typing import Annotated # annotated는 타입 힌트를 사용할 때 사용하는 함수\n",
    "from typing_extensions import TypedDict # TypedDict는 딕셔너리 타입을 정의할 때 사용하는 함수\n",
    "\n",
    "from langgraph.graph import StateGraph, START, END\n",
    "from langgraph.graph.message import add_messages\n",
    "\n",
    "class State(TypedDict): # State 클래스는 TypedDict를 사용하여 딕셔너리 형태로 관리됩니다.\n",
    "    \"\"\"\n",
    "    State 클래스는 TypedDict를 상속받습니다.\n",
    "\n",
    "    속성:\n",
    "        messages (Annotated[list[str], add_messages]): 메시지들은 \"list\" 타입을 가집니다.\n",
    "        'add_messages' 함수는 이 상태 키가 어떻게 업데이트되어야 하는지를 정의합니다.\n",
    "        (이 경우, 메시지를 덮어쓰는 대신 리스트에 추가합니다)\n",
    "    \"\"\"\n",
    "    messages: Annotated[list[str], add_messages]\n",
    "\n",
    "graph_builder = StateGraph(State)"
   ]
  },
  {
   "cell_type": "markdown",
   "id": "9563c7c3",
   "metadata": {},
   "source": [
    "### 노드 생성하기\n",
    " - 각 노드에서 처리한 결과를 상태에서 관리하고, 각 노드를 엣지로 연결하는 그래프 형태로 표현하여 대화나 데이터 흐름을 관리합니다."
   ]
  },
  {
   "cell_type": "code",
   "execution_count": 4,
   "id": "fe8e9a74",
   "metadata": {},
   "outputs": [
    {
     "data": {
      "text/plain": [
       "<langgraph.graph.state.StateGraph at 0x232aceafce0>"
      ]
     },
     "execution_count": 4,
     "metadata": {},
     "output_type": "execute_result"
    }
   ],
   "source": [
    "# 노드 생성 함수\n",
    "def generate(state: State):\n",
    "    \"\"\"\n",
    "    주어진 상태를 기반으로 챗봇의 응답 메시지를 생성합니다.\n",
    "\n",
    "    매개변수:\n",
    "    state (State): 현재 대화 상태를 나타내는 객체로, 이전 메시지들이 포함되어 있습니다.\n",
    "\n",
    "    반환값:\n",
    "    dict: 모델이 생성한 응답 메시지를 포함하는 딕셔너리.\n",
    "        형식은 {\"messages\": [model.invoke(state[\"messages])]}\n",
    "    \"\"\"\n",
    "    return {\"messages\": [model.invoke(state[\"messages\"])]}\n",
    "\n",
    "graph_builder.add_node(\"generate\", generate)"
   ]
  },
  {
   "cell_type": "markdown",
   "id": "5bdbee44",
   "metadata": {},
   "source": [
    "### 엣지 설정하기"
   ]
  },
  {
   "cell_type": "code",
   "execution_count": 5,
   "id": "42674e9d",
   "metadata": {},
   "outputs": [],
   "source": [
    "# graph 선언하기\n",
    "graph_builder.add_edge(START, \"generate\")\n",
    "graph_builder.add_edge(\"generate\", END)\n",
    "\n",
    "graph = graph_builder.compile()"
   ]
  },
  {
   "cell_type": "code",
   "execution_count": 6,
   "id": "2d64bf2a",
   "metadata": {},
   "outputs": [
    {
     "data": {
      "image/png": "[encoded data removed]",
      "text/plain": [
       "<IPython.core.display.Image object>"
      ]
     },
     "metadata": {},
     "output_type": "display_data"
    }
   ],
   "source": [
    "# 그래프 도식화하기 (그림으로 보기)\n",
    "from IPython.display import Image, display\n",
    "\n",
    "try:\n",
    "    display(Image(graph.get_graph().draw_mermaid_png()))\n",
    "except Exception:\n",
    "    pass"
   ]
  },
  {
   "cell_type": "code",
   "execution_count": 7,
   "id": "26f0dba5",
   "metadata": {},
   "outputs": [
    {
     "name": "stdout",
     "output_type": "stream",
     "text": [
      "<class 'langgraph.pregel.io.AddableValuesDict'>\n"
     ]
    },
    {
     "data": {
      "text/plain": [
       "{'messages': [HumanMessage(content='안녕하세요! 저는 이성용입니다.', additional_kwargs={}, response_metadata={}, id='379cd1b5-d198-4e66-aeaa-e75305a5f262'),\n",
       "  AIMessage(content='안녕하세요, 이성용님! 어떻게 도와드릴까요?', additional_kwargs={'refusal': None}, response_metadata={'token_usage': {'completion_tokens': 15, 'prompt_tokens': 16, 'total_tokens': 31, 'completion_tokens_details': {'accepted_prediction_tokens': 0, 'audio_tokens': 0, 'reasoning_tokens': 0, 'rejected_prediction_tokens': 0}, 'prompt_tokens_details': {'audio_tokens': 0, 'cached_tokens': 0}}, 'model_name': 'gpt-4o-mini-2024-07-18', 'system_fingerprint': 'fp_34a54ae93c', 'id': 'chatcmpl-BqajBFX7DYNAmaxxy4TmxrEe3rJbU', 'service_tier': 'default', 'finish_reason': 'stop', 'logprobs': None}, id='run--4082a07e-355d-4c8a-82e0-4e35b78e4dc5-0', usage_metadata={'input_tokens': 16, 'output_tokens': 15, 'total_tokens': 31, 'input_token_details': {'audio': 0, 'cache_read': 0}, 'output_token_details': {'audio': 0, 'reasoning': 0}})]}"
      ]
     },
     "execution_count": 7,
     "metadata": {},
     "output_type": "execute_result"
    }
   ],
   "source": [
    "# messages의 리스트에 문장 추가\n",
    "response = graph.invoke({\"messages\": [\"안녕하세요! 저는 이성용입니다.\"]})\n",
    "\n",
    "print(type(response))\n",
    "response"
   ]
  },
  {
   "cell_type": "code",
   "execution_count": 8,
   "id": "bf0815ee",
   "metadata": {},
   "outputs": [
    {
     "data": {
      "text/plain": [
       "{'messages': [HumanMessage(content='안녕하세요! 저는 이성용입니다.', additional_kwargs={}, response_metadata={}, id='379cd1b5-d198-4e66-aeaa-e75305a5f262'),\n",
       "  AIMessage(content='안녕하세요, 이성용님! 어떻게 도와드릴까요?', additional_kwargs={'refusal': None}, response_metadata={'token_usage': {'completion_tokens': 15, 'prompt_tokens': 16, 'total_tokens': 31, 'completion_tokens_details': {'accepted_prediction_tokens': 0, 'audio_tokens': 0, 'reasoning_tokens': 0, 'rejected_prediction_tokens': 0}, 'prompt_tokens_details': {'audio_tokens': 0, 'cached_tokens': 0}}, 'model_name': 'gpt-4o-mini-2024-07-18', 'system_fingerprint': 'fp_34a54ae93c', 'id': 'chatcmpl-BqajBFX7DYNAmaxxy4TmxrEe3rJbU', 'service_tier': 'default', 'finish_reason': 'stop', 'logprobs': None}, id='run--4082a07e-355d-4c8a-82e0-4e35b78e4dc5-0', usage_metadata={'input_tokens': 16, 'output_tokens': 15, 'total_tokens': 31, 'input_token_details': {'audio': 0, 'cache_read': 0}, 'output_token_details': {'audio': 0, 'reasoning': 0}}),\n",
       "  HumanMessage(content='제 이름을 아시나요?', additional_kwargs={}, response_metadata={}, id='24d42f83-ae8b-4aed-9fea-a09ddc74cc10'),\n",
       "  AIMessage(content='네, 이성용님이라고 하셨죠! 어떻게 도와드릴까요?', additional_kwargs={'refusal': None}, response_metadata={'token_usage': {'completion_tokens': 18, 'prompt_tokens': 46, 'total_tokens': 64, 'completion_tokens_details': {'accepted_prediction_tokens': 0, 'audio_tokens': 0, 'reasoning_tokens': 0, 'rejected_prediction_tokens': 0}, 'prompt_tokens_details': {'audio_tokens': 0, 'cached_tokens': 0}}, 'model_name': 'gpt-4o-mini-2024-07-18', 'system_fingerprint': 'fp_34a54ae93c', 'id': 'chatcmpl-BqajBUCjbKtQj5wgcQpXNMzIuNts2', 'service_tier': 'default', 'finish_reason': 'stop', 'logprobs': None}, id='run--eaa80bd2-5119-43b2-bb5d-6d755f923f04-0', usage_metadata={'input_tokens': 46, 'output_tokens': 18, 'total_tokens': 64, 'input_token_details': {'audio': 0, 'cache_read': 0}, 'output_token_details': {'audio': 0, 'reasoning': 0}})]}"
      ]
     },
     "execution_count": 8,
     "metadata": {},
     "output_type": "execute_result"
    }
   ],
   "source": [
    "# 이전 대화 내용에 새 메시지 추가하기\n",
    "response[\"messages\"].append(\"제 이름을 아시나요?\")\n",
    "graph.invoke(response)"
   ]
  },
  {
   "cell_type": "code",
   "execution_count": 12,
   "id": "0432b03d",
   "metadata": {},
   "outputs": [
    {
     "name": "stdout",
     "output_type": "stream",
     "text": [
      "한국과 일본의 관계는 역사적으로 매우 복잡하고, 여러 갈등과 협력이 얽혀 있는 성격을 띠고 있습니다. 두 나라의 관계는 역사적, 정치적, 경제적, 문화적 요소들이 서로 얽혀 있으며, 다음은 그 주요 측면을 정리한 것입니다.\n",
      "\n",
      "### 역사적 배경\n",
      "1. **일제강점기**: 1910년부터 1945년까지 한국은 일본의 식민지였습니다. 이 시기 동안 한국은 일본의 다양한 억압과 착취를 경험하게 되었고, 이로 인해 양국 간의 감정이 매우 좋지 않게 형성되었습니다. 문화와 언어의 억압, 강제 노동, 위안부 문제 등이 그 대표적인 예입니다.\n",
      "\n",
      "2. **제2차 세계대전 이후**: 1945년 일본의 패전 이후, 한국은 1948년에 대한민국(남한)과 조선민주주의인민공화국(북한)으로 분단되었습니다. 이 시기 일본은 한국과의 관계 회복을 위해 노력하지만, 과거의 식민지 경험이 장애물이 됩니다.\n",
      "\n",
      "### 정치적 측면\n",
      "1. **한일 조약**: 1965년, 한국과 일본은 기본 조약을 체결하고, 외교 관계를 정상화했습니다. 이 조약은 일본의 경제 지원과 한국의 노동력 제공에 관한 내용을 포함하고 있습니다. 그러나 역사 문제와 관련된 논란이 여전히 존재합니다.\n",
      "\n",
      "2. **영토 문제**: 독도(일본에서는 다케시마라고 부름)는 두 나라 간의 영토 갈등이 있는 지역입니다. 이 문제로 인해 양국의 외교적 긴장이 종종 고조됩니다.\n",
      "\n",
      "3. **위안부 문제**: 일본 제국이 전쟁 중 강제로 성 착취한 여성들을 '위안부'라 부르며, 이 문제로 인해 한국과 일본 간의 갈등은 계속되고 있습니다. 일본 정부의 공식 사과와 배상 문제는 여전히 해결되지 않은 주요 쟁점 중 하나입니다.\n",
      "\n",
      "### 경제적 관계\n",
      "1. **무역**: 한국과 일본은 서로 중대한 경제 파트너입니다. 일본은 한국의 주요 수입국 중 하나이며, 한국 역시 일본에 제품을 수출하고 있습니다. 그러나 정치적 갈등이 경제 관계에 부정적인 영향을 미칠 때도 있습니다.\n",
      "\n",
      "2. **기술 협력**: 두 국가는 기술 및 산업 분야에서도 협력하고 있으며, 특히 반도체, 자동차, 전자 등 분야에서 상호 의존적인 관계를 형성하고 있습니다.\n",
      "\n",
      "### 문화적 교류\n",
      "1. **한류와 일본의 문화**: 한국의 드라마, 음악(K-Pop) 등은 일본에서 큰 인기를 얻었으며, 일본의 애니메이션과 문화도 한국에서 널리 소비되고 있습니다. 이러한 문화적 교류는 양국 간의 이해를 증진시킬 수 있는 긍정적인 요소로 작용합니다.\n",
      "\n",
      "2. **일상적인 교류**: 크고 작은 관광, 학생 교환 프로그램 등이 이루어지며, 이를 통해 양국 국민 간의 상호 이해가 깊어지고 있습니다.\n",
      "\n",
      "### 최근 동향\n",
      "최근 몇 년간 정치적 긴장이 증가하는 모습을 보이고 있으며, 이는 역사 문제, 무역 분쟁, 군사적 협력 등 여러 요인에 기인하고 있습니다. 이에 따른 양국 정부의 외교적 노력이 필요하며, 미래지향적인 관계 구축을 위한 다양한 시도가 이뤄지고 있습니다.\n",
      "\n",
      "결론적으로 한국과 일본의 관계는 역사적 상처와 경제적 협력을 동시에 지니고 있으며, 이를 극복하고 발전시키기 위한 노력이 지속적으로 필요합니다."
     ]
    }
   ],
   "source": [
    "# 스트림 방식으로 출력하기\n",
    "inputs = {\"messages\": [(\"human\", \"한국과 일본의 관계에 대해 자세히 알려 줘.\")]}\n",
    "for chunk, _ in graph.stream(inputs, stream_mode=\"messages\"):\n",
    "    print(chunk.content, end=\"\")"
   ]
  }
 ],
 "metadata": {
  "kernelspec": {
   "display_name": "venv",
   "language": "python",
   "name": "python3"
  },
  "language_info": {
   "codemirror_mode": {
    "name": "ipython",
    "version": 3
   },
   "file_extension": ".py",
   "mimetype": "text/x-python",
   "name": "python",
   "nbconvert_exporter": "python",
   "pygments_lexer": "ipython3",
   "version": "3.12.9"
  }
 },
 "nbformat": 4,
 "nbformat_minor": 5
}
