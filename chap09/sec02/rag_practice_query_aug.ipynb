{
 "cells": [
  {
   "cell_type": "code",
   "execution_count": 1,
   "id": "c2ef60b9",
   "metadata": {},
   "outputs": [],
   "source": [
    "# 문자열 출력 파서 불러오기\n",
    "from langchain_core.output_parsers import StrOutputParser\n",
    "\n",
    "# 질의 확장을 적용할 사용자의 질문\n",
    "query_for_nyc = \"뉴욕은?\"\n",
    "\n",
    "# query augmentation\n",
    "from langchain_core.prompts import ChatPromptTemplate, MessagesPlaceholder\n",
    "query_augmentation_prompt = ChatPromptTemplate.from_messages(\n",
    "    [\n",
    "        MessagesPlaceholder(variable_name=\"messages\",),\n",
    "        (\n",
    "            \"system\",\n",
    "            \"기존의 대화 내용을 활용하여 사용자가 질문한 의도를 파악해서 한 문장의 명료한 질문으로 변환하라. 대명사나 이, 저, 그와 같은 표현을 명확한 명사로 표현하라. :\\n\\n{query}\"\n",
    "        )\n",
    "    ]\n",
    ")"
   ]
  },
  {
   "cell_type": "code",
   "execution_count": 4,
   "id": "7eeb4a56",
   "metadata": {},
   "outputs": [],
   "source": [
    "# 확장 쿼리 프롬프트와 챗봇과 StrOutputParser 로 체인 형성\n",
    "from langchain_openai import ChatOpenAI\n",
    "\n",
    "chat = ChatOpenAI(model=\"gpt-4o-mini\")\n",
    "query_augmentation_chain = query_augmentation_prompt | chat | StrOutputParser() # StrOutputParser 인스턴스를 생성해서 넣어야 한다."
   ]
  },
  {
   "cell_type": "code",
   "execution_count": 12,
   "id": "996d3bcb",
   "metadata": {},
   "outputs": [
    {
     "name": "stdout",
     "output_type": "stream",
     "text": [
      "Loading existing Chroma store\n",
      "서울시는 온실가스 저감을 위해 다양한 정책을 추진하고 있습니다. 주요 내용은 다음과 같습니다:\n",
      "\n",
      "1. **정량적 감축 목표**: 서울시는 2050년 탄소중립을 목표로 하며, 2030년까지 2005년 대비 40%, 2040년까지 70%의 온실가스를 감축할 계획입니다.\n",
      "\n",
      "2. **건물 부문 감축**: 서울의 온실가스 배출량의 90%를 차지하는 건물과 수송 부문에서 적극적인 대책을 마련하고 있습니다. 이를 위해 2026년까지 100만 호의 건물 에너지효율화 사업을 추진하고, 제로에너지 건물(ZEB) 의무화를 통해 에너지 절약을 촉진합니다.\n",
      "\n",
      "3. **수송 부문 감소 조치**: 전기차 비중을 2026년까지 10%로 확대하고, 22만기의 전기차 충전 인프라를 구축할 예정입니다.\n",
      "\n",
      "4. **기후예산제 도입**: 서울시는 모든 예산 사업에 온실가스 감축 방안을 고려하여 2021년부터 기후예산제 시범사업을 진행 중입니다.\n",
      "\n",
      "5. **시민 참여와 협력적 거버넌스 구축**: 시민, 기업 등 다양한 도시 내 행위자와의 협력을 통해 탄소중립 목표를 달성할 수 있는 포용적인 거버넌스 체계를 구축하고 있습니다.\n",
      "\n",
      "6. **녹색 인프라 확충**: 도심 속 녹색공간 조성 및 자원 순환 기반을 마련해 온실가스와 미세먼지 배출량을 저감하려고 하고 있습니다.\n",
      "\n",
      "이와 같은 정책을 통해 서울시는 지속 가능한 도시로 거듭나기 위해 노력하고 있습니다.\n",
      "content='서울시의 온실가스 저감 정책에 대해 알려줘.' additional_kwargs={} response_metadata={}\n",
      "content='서울시는 온실가스 저감을 위해 다양한 정책을 추진하고 있습니다. 주요 내용은 다음과 같습니다:\\n\\n1. **정량적 감축 목표**: 서울시는 2050년 탄소중립을 목표로 하며, 2030년까지 2005년 대비 40%, 2040년까지 70%의 온실가스를 감축할 계획입니다.\\n\\n2. **건물 부문 감축**: 서울의 온실가스 배출량의 90%를 차지하는 건물과 수송 부문에서 적극적인 대책을 마련하고 있습니다. 이를 위해 2026년까지 100만 호의 건물 에너지효율화 사업을 추진하고, 제로에너지 건물(ZEB) 의무화를 통해 에너지 절약을 촉진합니다.\\n\\n3. **수송 부문 감소 조치**: 전기차 비중을 2026년까지 10%로 확대하고, 22만기의 전기차 충전 인프라를 구축할 예정입니다.\\n\\n4. **기후예산제 도입**: 서울시는 모든 예산 사업에 온실가스 감축 방안을 고려하여 2021년부터 기후예산제 시범사업을 진행 중입니다.\\n\\n5. **시민 참여와 협력적 거버넌스 구축**: 시민, 기업 등 다양한 도시 내 행위자와의 협력을 통해 탄소중립 목표를 달성할 수 있는 포용적인 거버넌스 체계를 구축하고 있습니다.\\n\\n6. **녹색 인프라 확충**: 도심 속 녹색공간 조성 및 자원 순환 기반을 마련해 온실가스와 미세먼지 배출량을 저감하려고 하고 있습니다.\\n\\n이와 같은 정책을 통해 서울시는 지속 가능한 도시로 거듭나기 위해 노력하고 있습니다.' additional_kwargs={} response_metadata={}\n"
     ]
    }
   ],
   "source": [
    "# %pip install nbformat \n",
    "\n",
    "# query_augmentation_chain 사용을 위해 사용자의 질문과 이전 대화 내용을 함께 제공해야 한다.\n",
    "%run rag_practice_usedb.ipynb\n",
    "# 이제 이 파일에서 정의된 chat_history 사용 가능\n"
   ]
  },
  {
   "cell_type": "code",
   "execution_count": null,
   "id": "1a004cfb",
   "metadata": {},
   "outputs": [
    {
     "name": "stdout",
     "output_type": "stream",
     "text": [
      "뉴욕시의 온실가스 저감 정책에 대해 알려주세요.\n"
     ]
    }
   ],
   "source": [
    "# 질문을 더 명확하게\n",
    "# 확장 쿼리(query augmentation)는 chat history 기반으로 GPT가 질문을 더 명확하게 재작성해주는 것이에요.\n",
    "augmented_query = query_augmentation_chain.invoke({\n",
    "    \"messages\": chat_history.messages,\n",
    "    \"query\": query_for_nyc,\n",
    "})\n",
    "\n",
    "print(augmented_query)"
   ]
  },
  {
   "cell_type": "code",
   "execution_count": 14,
   "id": "73136848",
   "metadata": {},
   "outputs": [],
   "source": [
    "from langchain_chroma import Chroma\n",
    "import os\n",
    "\n",
    "from langchain_openai import OpenAIEmbeddings\n",
    "from dotenv import load_dotenv\n",
    "import os\n",
    "\n",
    "load_dotenv()\n",
    "OPEN_API_KEY = os.getenv(\"OPEN_API_KEY\")\n",
    "\n",
    "embedding = OpenAIEmbeddings(model='text-embedding-3-large', api_key=OPEN_API_KEY)\n",
    "\n",
    "persist_directory = '../chroma_store'\n",
    "\n",
    "vectorstore = Chroma(\n",
    "    persist_directory=persist_directory,\n",
    "    embedding_function=embedding\n",
    "    )\n",
    "\n",
    "# 리트리버 생성\n",
    "retriever = vectorstore.as_retriever(k=3)"
   ]
  },
  {
   "cell_type": "code",
   "execution_count": 15,
   "id": "5109cb97",
   "metadata": {},
   "outputs": [
    {
     "name": "stdout",
     "output_type": "stream",
     "text": [
      "page_content='New York City, because of its density and public transportation \n",
      "system, has long had a smaller per capita carbon footprint than \n",
      "any other big city in the United States — and we have made \n",
      "significant progress reducing GHG emissions over the last decade, \n",
      "using new technologies and innovations to get us there. The City \n",
      "has assumed a leading global role in fighting climate change, \n",
      "and the actions we take can become a national and global model. \n",
      "However, the lack of commitment by the federal government \n",
      "to the Paris Agreement has placed New York and the world in a \n",
      "precarious position. Time is running out.\n",
      "While New York City has made strides to achieve a reduction in \n",
      "greenhouse gas emissions, global emissions continue to rise, \n",
      "putting New Yorkers at risk. \n",
      "CHANGE IN GHG EMISSIONS, 2005-2017\n",
      "Source: Mayor’s Office, International Energy Agency\n",
      "0%\n",
      "5%\n",
      "GLOBAL\n",
      "NEW YORK CITY-5%\n",
      "15%\n",
      "-15%\n",
      "-20%\n",
      "2005 2006 2007 2008 2009 2010 2011 2012 2013 2014 2015 2016 2017\n",
      "10%\n",
      "-10%\n",
      "20%\n",
      "25%' metadata={'page_label': '32', 'creationdate': '2019-04-30T13:48:30-04:00', 'page': 31, 'title': '', 'total_pages': 332, 'trapped': '/False', 'moddate': '2020-01-03T15:55:12-05:00', 'producer': 'Adobe PDF Library 15.0', 'creator': 'Adobe InDesign 14.0 (Windows)', 'source': '../data\\\\OneNYC_2050_Strategic_Plan.pdf'}\n",
      "-----\n",
      "page_content='New York City agencies and institutions accountable to \n",
      "the 1.5 Degree Climate Action Plan.” Respondents also \n",
      "encouraged the City to enforce “environmental justice \n",
      "guidelines for all projects.”  \n",
      "City with the Paris Climate Agreement, which, alongside near-\n",
      "term action commitments, provided a vision and a plan for how \n",
      "the City and its partners can both reach carbon neutrality and \n",
      "aggressively reduce GHG emissions as soon as possible.\n",
      " \n",
      "The City has been actively working to reduce GHG emissions. \n",
      "As of 2017, we have reduced municipal GHG emissions by \n",
      "nearly 30 percent, and citywide emissions by 17 percent, from \n",
      "a 2005 baseline. The City has committed billions of dollars to \n",
      "energy-efficiency measures in municipal buildings, resulting in \n",
      "more than $60 million per year in recurring annual savings. To \n",
      "date, these measures are in place in more than 1,600 municipal \n",
      "buildings. Our Retrofit Accelerator and Community Retrofit NYC' metadata={'title': '', 'creationdate': '2019-04-30T13:48:30-04:00', 'creator': 'Adobe InDesign 14.0 (Windows)', 'page_label': '235', 'page': 234, 'total_pages': 332, 'moddate': '2020-01-03T15:55:12-05:00', 'producer': 'Adobe PDF Library 15.0', 'trapped': '/False', 'source': '../data\\\\OneNYC_2050_Strategic_Plan.pdf'}\n",
      "-----\n",
      "page_content='hospitals, multi-family buildings, \n",
      "commercial building owners and \n",
      "tenants, and hotels to cut greenhouse gas \n",
      "emissions, improve air quality, and reduce \n",
      "the impact of climate change.\n",
      "1\n",
      "2\n",
      "3\n",
      "REDUCE YOUR CARBON FOOTPRINT  \n",
      "through GreeNYC. Visit GreeNYC to \n",
      "learn how to live a green lifestyle and \n",
      "reduce your carbon footprint at home, at \n",
      "work, and on the go. Help New York City \n",
      "achieve Zero Waste by signing up to stop \n",
      "junk mail, taking the B.Y.O. pledge, and \n",
      "drinking tap water, rather than bottled \n",
      "water. Spread the word by signing up as a \n",
      "GreeNYC volunteer.' metadata={'title': '', 'creationdate': '2019-04-30T13:48:30-04:00', 'moddate': '2020-01-03T15:55:12-05:00', 'source': '../data\\\\OneNYC_2050_Strategic_Plan.pdf', 'page_label': '263', 'producer': 'Adobe PDF Library 15.0', 'creator': 'Adobe InDesign 14.0 (Windows)', 'total_pages': 332, 'page': 262, 'trapped': '/False'}\n",
      "-----\n",
      "page_content='an emissions trading regime. This first-of-its-kind program will \n",
      "provide an alternate pathway for mandate compliance while \n",
      "encouraging building owners to achieve even deeper savings than \n",
      "required by law. \n",
      "• REQUIRE NEW BUILDINGS BE BUILT TO  \n",
      "NET-ZERO ENERGY  \n",
      "Local Law 32 of 2017 introduced performance-based stretch-\n",
      "energy codes that require new construction be built to the \n",
      "latest energy efficiency standards. To meet the commitment of \n",
      "the Net-Zero Buildings Declaration, signed alongside 19 global \n",
      "cities in 2018, we will continue to work toward net-zero energy \n",
      "for all newly constructed buildings by 2030. The City will also \n",
      "pursue legislation to further regulate glass-walled buildings. \n",
      "• ACHIEVE DEEP EMISSIONS REDUCTIONS  \n",
      "FROM CITY-OWNED BUILDINGS  \n",
      "We will continue to lead by example and reduce GHG \n",
      "emissions using a portfolio-based approach for City buildings. \n",
      "Through creative and ambitious energy efficiency, clean energy,' metadata={'title': '', 'producer': 'Adobe PDF Library 15.0', 'source': '../data\\\\OneNYC_2050_Strategic_Plan.pdf', 'trapped': '/False', 'total_pages': 332, 'creator': 'Adobe InDesign 14.0 (Windows)', 'page_label': '244', 'creationdate': '2019-04-30T13:48:30-04:00', 'page': 243, 'moddate': '2020-01-03T15:55:12-05:00'}\n",
      "-----\n"
     ]
    }
   ],
   "source": [
    "# 확장 커리로 벡터 db에서 docs 가져오기\n",
    "docs = retriever.invoke(augmented_query)\n",
    "\n",
    "for d in docs:\n",
    "    print(d)\n",
    "    print('-----')"
   ]
  },
  {
   "cell_type": "code",
   "execution_count": null,
   "id": "20dccc1c",
   "metadata": {},
   "outputs": [
    {
     "name": "stdout",
     "output_type": "stream",
     "text": [
      "뉴욕시는 온실가스 저감을 위한 여러 가지 정책과 프로그램을 시행하고 있습니다. 주요 내용은 다음과 같습니다:\n",
      "\n",
      "1. **온실가스 감축 목표**: 뉴욕시는 2050년까지 탄소 중립을 달성하고, 2030년까지 2005년 대비 40%의 온실가스를 감축하겠다는 목표를 설정했습니다.\n",
      "\n",
      "2. **예산 투자 및 에너지 효율성**: 뉴욕시는 에너지 효율성 개선을 위해 수십억 달러를 투자하고 있으며, 1,600개 이상의 공공건물에서 에너지 절약 조치를 시행하여 연간 6천만 달러 이상의 비용 절감 효과를 보고 있습니다.\n",
      "\n",
      "3. **청정 에너지 및 건물 규정**: 2017년에는 새로운 건물이 제로 에너지 기준에 맞춰 건설되도록 요구하는 법안을 도입했습니다. 또한, 모든 신축 건물에서 최신 에너지 효율성을 적용하도록 하고 있습니다.\n",
      "\n",
      "4. **커뮤니티 리트로핏 프로그램**: 뉴욕시는 여러 프로그램을 통해 중소형 건물, 병원 및 다세대 주택 등이 온실가스를 줄이도록 지원하고 있습니다.\n",
      "\n",
      "5. **GreeNYC 캠페인**: 개인과 기업이 탄소 발자국을 줄이도록 장려하는 GreeNYC 캠페인을 통해, 시민들이 환경을 보호하고 친환경적인 삶을 살도록 유도하고 있습니다.\n",
      "\n",
      "6. **시민 참여**: 환경정의 지침을 모든 프로젝트에 적용하고, 시민의 참여를 촉진하여 기후 변화에 대한 대응 방안을 마련하고 있습니다.\n",
      "\n",
      "이러한 노력들을 통해 뉴욕시는 지속 가능한 도시로 나아가고 있으며, 전 세계의 기후 변화 대응 모델이 되고자 하고 있습니다.\n"
     ]
    }
   ],
   "source": [
    "# 언어 모델에서 답변 생성하기\n",
    "chat_history.add_user_message(query_for_nyc) # 사용자의 질문 원본 \"뉴욕은?\" 추가\n",
    "\n",
    "# 똑같이 뉴욕은? 이라고 질문해도 docs에 찾아둔 청크를 참조하기 때문에 제대로 된 대답 가능\n",
    "answer = document_chain.invoke(\n",
    "    {\n",
    "        \"messages\": chat_history.messages,\n",
    "        \"context\": docs\n",
    "    }\n",
    ")\n",
    "\n",
    "chat_history.add_ai_message(answer)\n",
    "\n",
    "print(answer)"
   ]
  }
 ],
 "metadata": {
  "kernelspec": {
   "display_name": "venv",
   "language": "python",
   "name": "python3"
  },
  "language_info": {
   "codemirror_mode": {
    "name": "ipython",
    "version": 3
   },
   "file_extension": ".py",
   "mimetype": "text/x-python",
   "name": "python",
   "nbconvert_exporter": "python",
   "pygments_lexer": "ipython3",
   "version": "3.12.9"
  }
 },
 "nbformat": 4,
 "nbformat_minor": 5
}
