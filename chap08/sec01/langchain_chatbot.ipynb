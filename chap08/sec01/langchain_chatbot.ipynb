{
 "cells": [
  {
   "cell_type": "code",
   "execution_count": null,
   "id": "b3c6263e",
   "metadata": {},
   "outputs": [],
   "source": [
    "### 랭체인 공식 웹 사이트 튜토리얼의 'Build a Chatbot' 내용을 기반으로 재구성"
   ]
  },
  {
   "cell_type": "code",
   "execution_count": null,
   "id": "0b13dd78",
   "metadata": {},
   "outputs": [],
   "source": [
    "# 랭체인으로 첫 챗봇 만들기 - openai 모델 설정\n",
    "\n",
    "# .env에 설정이 되어 있다면 생략 가능\n",
    "# import os\n",
    "# os.environ[\"OPENAI_API_KEY\"] = \"YOUR-OPENAI-API-KEY\" \n",
    "\n",
    "from langchain_openai import ChatOpenAI\n",
    "model = ChatOpenAI(model=\"gpt-4o-mini\")"
   ]
  },
  {
   "cell_type": "code",
   "execution_count": null,
   "id": "c6ac84c1",
   "metadata": {},
   "outputs": [
    {
     "data": {
      "text/plain": [
       "AIMessage(content='안녕하세요, 이성용님! 어떻게 도와드릴까요?', additional_kwargs={'refusal': None}, response_metadata={'token_usage': {'completion_tokens': 15, 'prompt_tokens': 17, 'total_tokens': 32, 'completion_tokens_details': {'accepted_prediction_tokens': 0, 'audio_tokens': 0, 'reasoning_tokens': 0, 'rejected_prediction_tokens': 0}, 'prompt_tokens_details': {'audio_tokens': 0, 'cached_tokens': 0}}, 'model_name': 'gpt-4o-mini-2024-07-18', 'system_fingerprint': 'fp_34a54ae93c', 'id': 'chatcmpl-BomKDMxVf6dKUd1AuFT0NtbKOu5kz', 'service_tier': 'default', 'finish_reason': 'stop', 'logprobs': None}, id='run--e63ad745-e674-4194-8815-ac9e60ea936b-0', usage_metadata={'input_tokens': 17, 'output_tokens': 15, 'total_tokens': 32, 'input_token_details': {'audio': 0, 'cache_read': 0}, 'output_token_details': {'audio': 0, 'reasoning': 0}})"
      ]
     },
     "execution_count": 2,
     "metadata": {},
     "output_type": "execute_result"
    }
   ],
   "source": [
    "# 사용자 메세지(HumanMessage) 불러오기 (role = 'user')\n",
    "from langchain_core.messages import HumanMessage\n",
    "model.invoke([HumanMessage(content=\"안녕? 나는 이성용이야.\")]) # invoke(): 모델에게 메시지를 보내고 응답을 받는 함수\n",
    "\n",
    "# AIMessage는 인공지능의 답변 (role = 'assistant')"
   ]
  },
  {
   "cell_type": "code",
   "execution_count": null,
   "id": "1233ef14",
   "metadata": {},
   "outputs": [
    {
     "data": {
      "text/plain": [
       "AIMessage(content='죄송하지만, 당신의 이름은 알 수 없습니다. 이름을 알려주시면 기억해둘 수 있습니다!', additional_kwargs={'refusal': None}, response_metadata={'token_usage': {'completion_tokens': 23, 'prompt_tokens': 13, 'total_tokens': 36, 'completion_tokens_details': {'accepted_prediction_tokens': 0, 'audio_tokens': 0, 'reasoning_tokens': 0, 'rejected_prediction_tokens': 0}, 'prompt_tokens_details': {'audio_tokens': 0, 'cached_tokens': 0}}, 'model_name': 'gpt-4o-mini-2024-07-18', 'system_fingerprint': 'fp_34a54ae93c', 'id': 'chatcmpl-BomMtdyBV4L9KcBwzaJpAw8h37log', 'service_tier': 'default', 'finish_reason': 'stop', 'logprobs': None}, id='run--c4bad6ef-28d1-407d-951c-739204d0e58f-0', usage_metadata={'input_tokens': 13, 'output_tokens': 23, 'total_tokens': 36, 'input_token_details': {'audio': 0, 'cache_read': 0}, 'output_token_details': {'audio': 0, 'reasoning': 0}})"
      ]
     },
     "execution_count": 3,
     "metadata": {},
     "output_type": "execute_result"
    }
   ],
   "source": [
    "model.invoke([HumanMessage(content=\"내 이름이 뭐지?\")])\n",
    "# 랭체인을 통해 대화를 이어 나가도 이전 대화 내용 기억 x"
   ]
  }
 ],
 "metadata": {
  "kernelspec": {
   "display_name": "venv",
   "language": "python",
   "name": "python3"
  },
  "language_info": {
   "codemirror_mode": {
    "name": "ipython",
    "version": 3
   },
   "file_extension": ".py",
   "mimetype": "text/x-python",
   "name": "python",
   "nbconvert_exporter": "python",
   "pygments_lexer": "ipython3",
   "version": "3.12.9"
  }
 },
 "nbformat": 4,
 "nbformat_minor": 5
}
