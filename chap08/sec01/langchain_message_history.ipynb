{
 "cells": [
  {
   "cell_type": "markdown",
   "id": "b9846a01",
   "metadata": {},
   "source": [
    "### 랭체인으로 멀티턴 대화하기(이전 대화 내용 기억하도록)"
   ]
  },
  {
   "cell_type": "code",
   "execution_count": 2,
   "id": "9b5a78b9",
   "metadata": {},
   "outputs": [],
   "source": [
    "# 랭체인에서 제공하는 메시지 히스토리 활용하기\n",
    "from langchain_openai import ChatOpenAI\n",
    "from langchain_core.messages import HumanMessage\n",
    "\n",
    "# 메모리 내에서 메시지를 리스트 형태로 보관합니다. 앱 종료시 삭제\n",
    "from langchain_core.chat_history import InMemoryChatMessageHistory\n",
    "# 모델 생성 시 대화 기록을 함께 전달 가능\n",
    "from langchain_core.runnables.history import RunnableWithMessageHistory\n",
    "\n",
    "model = ChatOpenAI(model=\"gpt-4o-mini\")\n",
    "\n",
    "# session_id를 기준으로 사용자의 대화 기록을 저장하는 딕셔너리\n",
    "store = {}\n",
    "\n",
    "def get_session_history(session_id: str):\n",
    "    if session_id not in store:\n",
    "        store[session_id] = InMemoryChatMessageHistory()\n",
    "    return store[session_id]\n",
    "\n",
    "with_message_history = RunnableWithMessageHistory(model, get_session_history)\n"
   ]
  },
  {
   "cell_type": "code",
   "execution_count": null,
   "id": "49c7d9a7",
   "metadata": {},
   "outputs": [
    {
     "name": "stdout",
     "output_type": "stream",
     "text": [
      "안녕하세요, 이성용님! 만나서 반갑습니다. 어떻게 도와드릴까요?\n"
     ]
    }
   ],
   "source": [
    "config = {\"configurable\": {\"session_id\": \"abc2\"}} # config로 제공한 session_id에 따라 고유의 대화 내용이 기록\n",
    "\n",
    "response = with_message_history.invoke(\n",
    "    [HumanMessage(content=\"안녕? 난 이성용이야\")],\n",
    "    config=config,\n",
    ")\n",
    "\n",
    "print(response.content)"
   ]
  },
  {
   "cell_type": "code",
   "execution_count": 4,
   "id": "a033f2e6",
   "metadata": {},
   "outputs": [
    {
     "name": "stdout",
     "output_type": "stream",
     "text": [
      "당신의 이름은 이성용입니다! 제가 도와드릴 일이 있을까요?\n"
     ]
    }
   ],
   "source": [
    "response = with_message_history.invoke(\n",
    "    [HumanMessage(content=\"내 이름이 뭐지?\")],\n",
    "    config=config,\n",
    ")\n",
    "\n",
    "print(response.content)"
   ]
  },
  {
   "cell_type": "code",
   "execution_count": 5,
   "id": "0f7ffd6b",
   "metadata": {},
   "outputs": [
    {
     "name": "stdout",
     "output_type": "stream",
     "text": [
      "저는 당신의 이름을 알 수 없습니다. 하지만 당신이 원하신다면 이름을 알려주시면 반갑게 대화할 수 있습니다!\n"
     ]
    }
   ],
   "source": [
    "# 세션id를 바꿀 경우 이름을 기억하지 못함\n",
    "config = {\"configurable\": {\"session_id\": \"abc3\"}} \n",
    "\n",
    "response = with_message_history.invoke(\n",
    "    [HumanMessage(content=\"내 이름이 뭐지?\")],\n",
    "    config=config,\n",
    ")\n",
    "\n",
    "print(response.content)"
   ]
  },
  {
   "cell_type": "code",
   "execution_count": 6,
   "id": "b0afca8e",
   "metadata": {},
   "outputs": [
    {
     "name": "stdout",
     "output_type": "stream",
     "text": [
      "당신의 이름은 이성용입니다. 더 궁금한 점이 있으신가요?\n"
     ]
    }
   ],
   "source": [
    "# 세션id를 원래대로 돌리면 기억함\n",
    "config = {\"configurable\": {\"session_id\": \"abc2\"}} \n",
    "\n",
    "response = with_message_history.invoke(\n",
    "    [HumanMessage(content=\"내 이름이 뭐지?\")],\n",
    "    config=config,\n",
    ")\n",
    "\n",
    "print(response.content)"
   ]
  },
  {
   "cell_type": "code",
   "execution_count": 8,
   "id": "d3a5336b",
   "metadata": {},
   "outputs": [
    {
     "name": "stdout",
     "output_type": "stream",
     "text": [
      "|이|성|용|님|에| 대한| 구|체|적인| 정보|는| 알| 수| 없|지만|,| 이름|에서| 유|추|해|보|면| 한국|분|이|실| 가능|성이| 높|습니다|.| 그렇|다면| 한국|의| 국가|인| \"|애|국|가|\"|를| 언|급|할| 수| 있|겠습니다|.| \n",
      "\n",
      "|\"|애|국|가|\"|의| 가|사| 내용|은| 조|국|에| 대한| 사랑|과| 자|긍|심|을| 담|고| 있습니다|.| 더| 궁|금|한| 점|이| 있으|시면| 말씀|해| 주세요|!||"
     ]
    }
   ],
   "source": [
    "config = {\"configurable\": {\"session_id\": \"abc2\"}} \n",
    "\n",
    "# invoke를 stream으로 바꾸면 스트림 방식으로 출력\n",
    "for r in with_message_history.stream(\n",
    "    [HumanMessage(content=\"내가 어느 사람인지 맞춰보고, 그 나라의 국가를 불러줘.\")],\n",
    "    config=config,\n",
    "):\n",
    "    print(r.content, end=\"|\")\n"
   ]
  }
 ],
 "metadata": {
  "kernelspec": {
   "display_name": "venv",
   "language": "python",
   "name": "python3"
  },
  "language_info": {
   "codemirror_mode": {
    "name": "ipython",
    "version": 3
   },
   "file_extension": ".py",
   "mimetype": "text/x-python",
   "name": "python",
   "nbconvert_exporter": "python",
   "pygments_lexer": "ipython3",
   "version": "3.12.9"
  }
 },
 "nbformat": 4,
 "nbformat_minor": 5
}
