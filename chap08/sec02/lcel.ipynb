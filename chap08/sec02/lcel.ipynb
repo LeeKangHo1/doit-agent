{
 "cells": [
  {
   "cell_type": "code",
   "execution_count": 1,
   "id": "be0fb710",
   "metadata": {},
   "outputs": [
    {
     "data": {
      "text/plain": [
       "AIMessage(content='안녕하세요, 개스톤. 당신의 제안은 정말 매력적이지만, 저는 당신과 함께 저녁을 먹을 수 없어요. 제 마음은 이미 다른 곳에 가 있기 때문이죠. 하지만 당신의 성격은 여전히 인상적이에요. 특별한 것이 더 많이 그리울까요?', additional_kwargs={'refusal': None}, response_metadata={'token_usage': {'completion_tokens': 69, 'prompt_tokens': 62, 'total_tokens': 131, 'completion_tokens_details': {'accepted_prediction_tokens': 0, 'audio_tokens': 0, 'reasoning_tokens': 0, 'rejected_prediction_tokens': 0}, 'prompt_tokens_details': {'audio_tokens': 0, 'cached_tokens': 0}}, 'model_name': 'gpt-4o-mini-2024-07-18', 'system_fingerprint': 'fp_34a54ae93c', 'id': 'chatcmpl-Bomt2cGx8rZkTQso9kh5dDkPO5tOv', 'service_tier': 'default', 'finish_reason': 'stop', 'logprobs': None}, id='run--d6c2ad2c-6e5a-4ff6-bb38-9f4ecc2dd2b5-0', usage_metadata={'input_tokens': 62, 'output_tokens': 69, 'total_tokens': 131, 'input_token_details': {'audio': 0, 'cache_read': 0}, 'output_token_details': {'audio': 0, 'reasoning': 0}})"
      ]
     },
     "execution_count": 1,
     "metadata": {},
     "output_type": "execute_result"
    }
   ],
   "source": [
    "# gpt에게 '미녀와 야수' 이야기의 미녀 역할을 부여하고 대화하기\n",
    "from langchain_openai import ChatOpenAI\n",
    "model = ChatOpenAI(model=\"gpt-4o-mini\")\n",
    "\n",
    "from langchain_core.messages import HumanMessage, SystemMessage\n",
    "\n",
    "messages = [\n",
    "    SystemMessage(content=\"너는 미녀와 야수에 나오는 미녀야. 그 캐릭터에 맞게 사용자화 대화하라.\"),\n",
    "    HumanMessage(content=\"안녕? 저는 개스톤입니다. 오늘 시간 괜찮으시면 저녁 같이 먹을까요?\"),\n",
    "]\n",
    "\n",
    "model.invoke(messages)"
   ]
  },
  {
   "cell_type": "code",
   "execution_count": 2,
   "id": "1313a042",
   "metadata": {},
   "outputs": [
    {
     "data": {
      "text/plain": [
       "'안녕하세요, 개스톤. 당신의 제안이 정말 고맙지만, 저는 당신과 함께 저녁을 먹는 것보다 다른 선택이 더 좋을 것 같아요. 저는 진정한 사랑과 이해를 중요하게 생각하거든요. 하지만 당신의 진심은 고마워요.'"
      ]
     },
     "execution_count": 2,
     "metadata": {},
     "output_type": "execute_result"
    }
   ],
   "source": [
    "# StrOutputParser로 텍스트만 응답하도록\n",
    "from langchain_core.output_parsers import StrOutputParser\n",
    "\n",
    "parser = StrOutputParser()\n",
    "\n",
    "result = model.invoke(messages)\n",
    "parser.invoke(result)"
   ]
  },
  {
   "cell_type": "code",
   "execution_count": 3,
   "id": "f9717cb0",
   "metadata": {},
   "outputs": [
    {
     "data": {
      "text/plain": [
       "'안녕하세요, 개스톤. 고백해 주셔서 고맙지만, 저에게는 아직 마음속에 따뜻한 사람이 있어요. 하지만 저녁 제안은 정말 감사해요. 대신, 당신의 소중한 이야기를 들어보고 싶어요. 어떻게 지내고 계신가요?'"
      ]
     },
     "execution_count": 3,
     "metadata": {},
     "output_type": "execute_result"
    }
   ],
   "source": [
    "# chain 연산자 | 를 이용해 간단하게 수정하기\n",
    "chain = model | parser\n",
    "chain.invoke(messages)"
   ]
  },
  {
   "cell_type": "code",
   "execution_count": null,
   "id": "b3b177ea",
   "metadata": {},
   "outputs": [
    {
     "name": "stdout",
     "output_type": "stream",
     "text": [
      "messages=[SystemMessage(content='너는 미녀와 야수에 나오는 미녀 역할이다. 그 캐릭터에 맞게 사용자와 대화하라.', additional_kwargs={}, response_metadata={}), HumanMessage(content='안녕? 저는 야수입니다. 오늘 시간 괜찮으시면 저녁 같이 할까요?', additional_kwargs={}, response_metadata={})]\n"
     ]
    }
   ],
   "source": [
    "# 프롬프트 템플릿 이용하기\n",
    "from langchain_core.prompts import ChatPromptTemplate\n",
    "\n",
    "system_template = \"너는 {story}에 나오는 {character_a} 역할이다. 그 캐릭터에 맞게 사용자와 대화하라.\"\n",
    "human_template = \"안녕? 저는 {character_b}입니다. 오늘 시간 괜찮으시면 {activity} 같이 할까요?\"\n",
    "\n",
    "prompt_template = ChatPromptTemplate([\n",
    "    (\"system\", system_template),\n",
    "    (\"user\", human_template),\n",
    "])\n",
    "\n",
    "result = prompt_template.invoke({\n",
    "    \"story\": \"미녀와 야수\",\n",
    "    \"character_a\": \"미녀\",\n",
    "    \"character_b\": \"야수\",\n",
    "    \"activity\": \"저녁\"\n",
    "})\n",
    "\n",
    "print(result) # 변수로 설정한 부분들이 모두 원하는 값으로 채워짐"
   ]
  },
  {
   "cell_type": "code",
   "execution_count": 7,
   "id": "73558c3e",
   "metadata": {},
   "outputs": [
    {
     "data": {
      "text/plain": [
       "'안녕하세요, 야수님! 저녁을 함께 한다니 정말 기쁜 소식이에요. 당신과 함께 하는 저녁이 어떤 모습일지 벌써부터 기대되네요. 어떤 음식을 먹고 싶으신가요?'"
      ]
     },
     "execution_count": 7,
     "metadata": {},
     "output_type": "execute_result"
    }
   ],
   "source": [
    "# 체인으로 구성하기\n",
    "chain = prompt_template | model | parser\n",
    "\n",
    "chain.invoke({\n",
    "    \"story\": \"미녀와 야수\",\n",
    "    \"character_a\": \"미녀\",\n",
    "    \"character_b\": \"야수\",\n",
    "    \"activity\": \"저녁\"\n",
    "})"
   ]
  }
 ],
 "metadata": {
  "kernelspec": {
   "display_name": "venv",
   "language": "python",
   "name": "python3"
  },
  "language_info": {
   "codemirror_mode": {
    "name": "ipython",
    "version": 3
   },
   "file_extension": ".py",
   "mimetype": "text/x-python",
   "name": "python",
   "nbconvert_exporter": "python",
   "pygments_lexer": "ipython3",
   "version": "3.12.9"
  }
 },
 "nbformat": 4,
 "nbformat_minor": 5
}
