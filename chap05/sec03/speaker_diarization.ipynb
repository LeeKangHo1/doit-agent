{
 "cells": [
  {
   "cell_type": "code",
   "execution_count": null,
   "id": "6cdfb63d",
   "metadata": {},
   "outputs": [],
   "source": [
    "%pip install pyannote.audio\n",
    "%pip install numpy==1.26"
   ]
  },
  {
   "cell_type": "code",
   "execution_count": 2,
   "id": "3cb91f70",
   "metadata": {},
   "outputs": [],
   "source": [
    "import os\n",
    "from dotenv import load_dotenv\n",
    "\n",
    "load_dotenv()\n",
    "\n",
    "HUGGING_FACE_TOKEN = os.getenv(\"HUGGING_FACE_TOKEN\")"
   ]
  },
  {
   "cell_type": "code",
   "execution_count": null,
   "id": "0baccc8f",
   "metadata": {},
   "outputs": [],
   "source": [
    "# instantiate the pipeline\n",
    "from pyannote.audio import Pipeline\n",
    "\n",
    "pipeline = Pipeline.from_pretrained(\n",
    "  \"pyannote/speaker-diarization-3.1\",\n",
    "  use_auth_token=HUGGING_FACE_TOKEN\n",
    ")"
   ]
  },
  {
   "cell_type": "code",
   "execution_count": null,
   "id": "3c44515a",
   "metadata": {},
   "outputs": [],
   "source": [
    "import torch\n",
    "\n",
    "# cuda가 사용 가능한 경우 cuda를 사용하도록 설정\n",
    "if torch.cuda.is_available():\n",
    "    pipeline.to(torch.device(\"cuda\"))\n",
    "    print('cuda is available')\n",
    "else:\n",
    "    print('cuda is not available')"
   ]
  },
  {
   "cell_type": "code",
   "execution_count": null,
   "id": "35165818",
   "metadata": {},
   "outputs": [],
   "source": [
    "# run the pipeline on an audio file\n",
    "# diarization = pipeline(\"audio.wav\")\n",
    "diarization = pipeline(\"../audio/싼기타_비싼기타.mp3\")"
   ]
  },
  {
   "cell_type": "code",
   "execution_count": 8,
   "id": "384740e1",
   "metadata": {},
   "outputs": [],
   "source": [
    "# dump the diarization output to disk using RTTM format\n",
    "with open(\"싼기타_비싼기타.rttm\", \"w\", encoding='utf-8') as rttm:\n",
    "    diarization.write_rttm(rttm)"
   ]
  },
  {
   "cell_type": "code",
   "execution_count": null,
   "id": "e3f6dbaa",
   "metadata": {},
   "outputs": [],
   "source": [
    "# RTTM을 pandas로 CSV로 변환\n",
    "import pandas as pd\n",
    "rttm_patt = \"./싼기타_비싼기타.rttm\"\n",
    "\n",
    "df_rttm = pd.read_csv(\n",
    "    rttm_patt,\n",
    "    sep=' ',\n",
    "    header=None,\n",
    "    names=['type', 'file', 'chnl', 'start', 'duration', 'C1', 'C2', 'speaker_id', 'C3', 'C4']\n",
    "    )\n",
    "\n",
    "display(df_rttm)"
   ]
  },
  {
   "cell_type": "code",
   "execution_count": null,
   "id": "16459c7f",
   "metadata": {},
   "outputs": [],
   "source": [
    "# 발언이 끝난 시간 추가\n",
    "df_rttm['end'] = df_rttm['start'] + df_rttm['duration']\n",
    "\n",
    "display(df_rttm)"
   ]
  },
  {
   "cell_type": "code",
   "execution_count": null,
   "id": "a1179ad7",
   "metadata": {},
   "outputs": [],
   "source": [
    "# 연속된 발화를 기록하기 위해 number 변수 추가\n",
    "df_rttm[\"number\"] = None\t# number 열 만들고 None으로 초기화\n",
    "df_rttm.at[0, \"number\"] = 0\n",
    "\n",
    "display(df_rttm)"
   ]
  },
  {
   "cell_type": "code",
   "execution_count": null,
   "id": "f1324086",
   "metadata": {},
   "outputs": [],
   "source": [
    "# 화자 번호 매기기\n",
    "for i in range(1, len(df_rttm)):\n",
    "    if df_rttm.at[i, \"speaker_id\"] != df_rttm.at[i-1, \"speaker_id\"]:\n",
    "        df_rttm.at[i, \"number\"] = df_rttm.at[i-1, \"number\"] + 1\n",
    "    else:\n",
    "        df_rttm.at[i, \"number\"] = df_rttm.at[i-1, \"number\"]\n",
    "\n",
    "display(df_rttm.head(10)) "
   ]
  },
  {
   "cell_type": "code",
   "execution_count": null,
   "id": "cee8ac7b",
   "metadata": {},
   "outputs": [],
   "source": [
    "# 같은 화자끼리 묶어서 정리하기\n",
    "df_rttm_grouped = df_rttm.groupby(\"number\").agg(\n",
    "    start=pd.NamedAgg(column='start', aggfunc='min'),\n",
    "    end=pd.NamedAgg(column='end', aggfunc=\"max\"),\n",
    "    speaker_id=pd.NamedAgg(column=\"speaker_id\", aggfunc=\"first\"),\n",
    ")\n",
    "\n",
    "display(df_rttm_grouped)"
   ]
  },
  {
   "cell_type": "code",
   "execution_count": null,
   "id": "d6391376",
   "metadata": {},
   "outputs": [],
   "source": [
    "# 발화 시간 추가하고 인덱스 제거하기\n",
    "df_rttm_grouped[\"duration\"] = df_rttm_grouped[\"end\"] - df_rttm_grouped[\"start\"]\n",
    "df_rttm_grouped = df_rttm_grouped.reset_index(drop=True)\n",
    "display(df_rttm_grouped)"
   ]
  },
  {
   "cell_type": "code",
   "execution_count": null,
   "id": "f4b8eaaf",
   "metadata": {},
   "outputs": [],
   "source": [
    "# 화자 분리 결과를 csv 파일로 저장하기\n",
    "df_rttm_grouped.to_csv(\n",
    "    \"../audio/싼기타_비싼기타_rttm.csv\",\n",
    "    sep= ',',\n",
    "    index=False,\n",
    ")"
   ]
  }
 ],
 "metadata": {
  "kernelspec": {
   "display_name": "venv",
   "language": "python",
   "name": "python3"
  },
  "language_info": {
   "codemirror_mode": {
    "name": "ipython",
    "version": 3
   },
   "file_extension": ".py",
   "mimetype": "text/x-python",
   "name": "python",
   "nbconvert_exporter": "python",
   "pygments_lexer": "ipython3",
   "version": "3.12.9"
  }
 },
 "nbformat": 4,
 "nbformat_minor": 5
}
