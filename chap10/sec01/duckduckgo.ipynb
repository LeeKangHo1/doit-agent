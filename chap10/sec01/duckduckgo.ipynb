{
 "cells": [
  {
   "cell_type": "code",
   "execution_count": 1,
   "id": "ace8bd40",
   "metadata": {},
   "outputs": [
    {
     "data": {
      "text/plain": [
       "AIMessage(content='2023년 10월 기준으로 로제가 발표한 신곡은 \"GONE\"입니다. 이 곡은 그녀의 솔로 활동의 일환으로 출시되었으며, 많은 팬들에게 호평을 받았습니다. 보다 정확한 정보나 새로운 발표가 있는지 확인하고 싶다면, 최신 소식을 찾아보는 것이 좋습니다.', additional_kwargs={'refusal': None}, response_metadata={'token_usage': {'completion_tokens': 73, 'prompt_tokens': 19, 'total_tokens': 92, 'completion_tokens_details': {'accepted_prediction_tokens': 0, 'audio_tokens': 0, 'reasoning_tokens': 0, 'rejected_prediction_tokens': 0}, 'prompt_tokens_details': {'audio_tokens': 0, 'cached_tokens': 0}}, 'model_name': 'gpt-4o-mini-2024-07-18', 'system_fingerprint': 'fp_34a54ae93c', 'id': 'chatcmpl-BpVOVs7I1wjeAcTBAULfmfl7aGIyn', 'service_tier': 'default', 'finish_reason': 'stop', 'logprobs': None}, id='run--f47b4710-5750-492a-841a-33817272bca2-0', usage_metadata={'input_tokens': 19, 'output_tokens': 73, 'total_tokens': 92, 'input_token_details': {'audio': 0, 'cache_read': 0}, 'output_token_details': {'audio': 0, 'reasoning': 0}})"
      ]
     },
     "execution_count": 1,
     "metadata": {},
     "output_type": "execute_result"
    }
   ],
   "source": [
    "from langchain_openai import ChatOpenAI\n",
    "\n",
    "model = ChatOpenAI(model=\"gpt-4o-mini\")\n",
    "model.invoke(\"최근 로제가 발표한 신곡은 무엇인가요?\")"
   ]
  },
  {
   "cell_type": "code",
   "execution_count": 2,
   "id": "3131b899",
   "metadata": {},
   "outputs": [
    {
     "name": "stdout",
     "output_type": "stream",
     "text": [
      "Requirement already satisfied: duckduckgo-search in c:\\workspace\\doit-agent\\venv\\lib\\site-packages (8.0.5)\n",
      "Requirement already satisfied: click>=8.1.8 in c:\\workspace\\doit-agent\\venv\\lib\\site-packages (from duckduckgo-search) (8.2.1)\n",
      "Requirement already satisfied: primp>=0.15.0 in c:\\workspace\\doit-agent\\venv\\lib\\site-packages (from duckduckgo-search) (0.15.0)\n",
      "Requirement already satisfied: lxml>=5.3.0 in c:\\workspace\\doit-agent\\venv\\lib\\site-packages (from duckduckgo-search) (6.0.0)\n",
      "Requirement already satisfied: colorama in c:\\workspace\\doit-agent\\venv\\lib\\site-packages (from click>=8.1.8->duckduckgo-search) (0.4.6)\n",
      "Note: you may need to restart the kernel to use updated packages.\n"
     ]
    },
    {
     "name": "stderr",
     "output_type": "stream",
     "text": [
      "\n",
      "[notice] A new release of pip is available: 24.3.1 -> 25.1.1\n",
      "[notice] To update, run: python.exe -m pip install --upgrade pip\n"
     ]
    }
   ],
   "source": [
    "# 덕덕고 설치\n",
    "%pip install -U duckduckgo-search"
   ]
  },
  {
   "cell_type": "code",
   "execution_count": 3,
   "id": "03b10a1f",
   "metadata": {},
   "outputs": [
    {
     "name": "stdout",
     "output_type": "stream",
     "text": [
      "snippet: 20일 (현지시간) 공개된 최신 차트에 따르면 로제가 팝스타 브루노 마스와 호흡을 맞춘 히트곡 '아파트' (APT.)는 영국 오피셜 싱글 차트 '톱 100'에서 전주보다 한 계단 하락한 5위로 9주 차트에 머물렀다. '아파트'는 이 차트에 4위로 처음 진입한 이후 2위, 5주 연속 3위, 4위, 5위를 기록하는 등 한 번도 '톱 파이브' 밖으로 밀려나지 않고 인기를 누리는 중이다. 이 곡이 수록된 로제의 첫 솔로 정규앨범 '로지'는 오피셜 앨범 차트 '톱 100'에서 전주보다 45위 하락한 49위로 2주 연속 이름을 올렸다. [JYP엔터테인먼트 제공. 재판매 및 DB 금지], title: 블랙핑크 로제, 솔로 1집으로 영국 싱글 5위·앨범 49위 - 연합뉴스, link: https://www.yna.co.kr/view/AKR20241221022400005;\n",
      "snippet: 더블랙레이블은 22일 공식 SNS를 통해 로제의 새 싱글 'number one girl' 음원과 뮤직비디오 공개 소식을 전했다. 이는 'APT.'와 마찬가지로 오는 12월 6일 발매되는 로제의 첫 번째 정규 앨범 'rosie'에도 수록될 예정이다. 'rosie'는 총 12곡으로 구성되어 있으며, 로제는 이번 앨범에서 전곡 작사·작곡에 참여해 여러 장르를 아우르는 자신만의 음악 세계를 보여줄 예정이다. 특히 이번 신곡 'number one girl'은 로제가 팬들을 생각하며 써내려간 곡으로, 자신의 실제 경험을 녹여내기도 한 만큼 보다 진솔한 로제만의 이야기를 담고 있다., title: [오늘가요] \"내가 특별하다고 말해줘\"…로제, '넘버 원 걸' 발표, link: https://www.joynews24.com/view/1786189;\n",
      "snippet: 걸그룹 블랙핑크의 멤버 로제가 22일 새 싱글 '넘버 원 걸 (Number one girl)'을 발표했다. 넘버 원 걸은 로제가 내달 6일에 발매하는 첫 정규앨범 '로지 (rosie)'의 선공개 곡이다. 소속사 더블랙레이블에 따르면 넘버 원 걸은 팝스타 브루노 마스가 프로듀서로 참여했다. 브루노 마스는 글로벌 히트곡 '아파트 (APT.)'에서 로제와 듀엣으로 호흡을 맞췄다. 로제는 팬들을 생각하면서 넘버 원 걸을 쓴 것으로 알려졌다. 음원과 함께 공개된 뮤직비디오에는 로제가 노래에 맞춰 감정을 표현하는 모습이 담겼다., title: 로제, 신곡 '넘버 원 걸' 공개… 브루노 마스가 프로듀싱, link: https://biz.chosun.com/entertainment/enter_general/2024/11/22/Q6AJ6YGRUJDPNIRGX5BKHHUBBY/;\n",
      "snippet: 더블랙레이블은 로제가 오는 22일 오후 2시 (한국기준) 싱글 '넘버 원 걸 (number one girl)'을 선공개한다고 밝혔다. 이는 지난달 18일 싱글 '아파트' 선공개 이후 약 한 달 만의 신곡 발표로, 로제의 컴백을 손꼽아 기다리는 팬들을 열광시키고 있다. '넘버 원 걸'은 '아파트'와 마찬가지로 다음 달 6일 로제의 정식 컴백을 앞두고..., title: 블랙핑크 로제, '아파트' 신화 잇는다... 22일 신곡 공개 - 한국일보, link: https://www.hankookilbo.com/News/Read/A2024111917190000213\n"
     ]
    }
   ],
   "source": [
    "# 덕덕고 검색 테스트\n",
    "from langchain_community.tools import DuckDuckGoSearchResults\n",
    "\n",
    "search = DuckDuckGoSearchResults(results_separator=';\\n')\n",
    "docs = search.invoke(\"최근 로제가 발표한 신곡은 무엇인가요?\")\n",
    "\n",
    "print(docs)"
   ]
  },
  {
   "cell_type": "code",
   "execution_count": 4,
   "id": "6b29d944",
   "metadata": {},
   "outputs": [],
   "source": [
    "# 확장 쿼리 구현\n",
    "from langchain_core.prompts import ChatPromptTemplate, MessagesPlaceholder\n",
    "\n",
    "question_answering_prompt = ChatPromptTemplate.from_messages(\n",
    "    [\n",
    "        (\n",
    "            \"system\",\n",
    "            \"아래 context에 기반하여 사용자의 질문에 답변하라.:\\n\\n{context}\",\n",
    "        ),\n",
    "        MessagesPlaceholder(variable_name=\"messages\"),\n",
    "    ]\n",
    ")\n",
    "\n",
    "# LCEL 방식으로 바로 gpt와 연결\n",
    "document_chain = question_answering_prompt | model"
   ]
  },
  {
   "cell_type": "code",
   "execution_count": 5,
   "id": "dd5749fc",
   "metadata": {},
   "outputs": [
    {
     "name": "stdout",
     "output_type": "stream",
     "text": [
      "content=\"로제가 최근 발표한 신곡은 '넘버 원 걸 (Number one girl)'입니다. 이 곡은 로제의 첫 번째 정규 앨범 '로지 (rosie)'의 선공개 곡으로, 브루노 마스가 프로듀서로 참여하였습니다.\" additional_kwargs={'refusal': None} response_metadata={'token_usage': {'completion_tokens': 64, 'prompt_tokens': 974, 'total_tokens': 1038, 'completion_tokens_details': {'accepted_prediction_tokens': 0, 'audio_tokens': 0, 'reasoning_tokens': 0, 'rejected_prediction_tokens': 0}, 'prompt_tokens_details': {'audio_tokens': 0, 'cached_tokens': 0}}, 'model_name': 'gpt-4o-mini-2024-07-18', 'system_fingerprint': 'fp_62a23a81ef', 'id': 'chatcmpl-BpVOZrrc88BMW9zcCpoTuf2mZELdI', 'service_tier': 'default', 'finish_reason': 'stop', 'logprobs': None} id='run--06319780-4764-49df-835f-7fd598d19ba2-0' usage_metadata={'input_tokens': 974, 'output_tokens': 64, 'total_tokens': 1038, 'input_token_details': {'audio': 0, 'cache_read': 0}, 'output_token_details': {'audio': 0, 'reasoning': 0}}\n"
     ]
    }
   ],
   "source": [
    "# 메시지 저장하고 답변 생성 후 출력하기\n",
    "from langchain.memory import ChatMessageHistory\n",
    "\n",
    "# 채팅 메시지를 저장할 메모리 객체 생성\n",
    "chat_history = ChatMessageHistory()\n",
    "# 사용자의 질문을 메모리에 저장\n",
    "chat_history.add_user_message(\"최근 로제가 발표한 신곡은 무엇인가요?\")\n",
    "\n",
    "# 문서 검색하고 답변 생성\n",
    "answer = document_chain.invoke(\n",
    "    {\n",
    "        \"messages\": chat_history.messages,\n",
    "        \"context\": docs,\n",
    "    }\n",
    ")\n",
    "\n",
    "# 생성된 답변을 메모리에 저장\n",
    "chat_history.add_ai_message(answer)\n",
    "\n",
    "print(answer)"
   ]
  },
  {
   "cell_type": "markdown",
   "id": "121c9ac5",
   "metadata": {},
   "source": [
    "### 검색 기능에 옵션 설정"
   ]
  },
  {
   "cell_type": "code",
   "execution_count": 23,
   "id": "0b43f512",
   "metadata": {},
   "outputs": [],
   "source": [
    "# 최근 일주일 뉴스만 검색하기\n",
    "# DuckDuckGo API 래퍼를 사용하여 검색할 때 검색 매개변수를 설정하는 클래스 import\n",
    "from langchain_community.utilities import DuckDuckGoSearchAPIWrapper\n",
    "\n",
    "# 한국 지역(\"kr-kr\")을 기준, 최근 일주일(\"w\") 내의 검색 결과를 가져오도록 초기화\n",
    "wrapper = DuckDuckGoSearchAPIWrapper(region=\"kr-kr\", time=\"w\")"
   ]
  },
  {
   "cell_type": "code",
   "execution_count": 24,
   "id": "6215c6c8",
   "metadata": {},
   "outputs": [],
   "source": [
    "# 뉴스 소스 위주로 검색하도록 지정하기\n",
    "# 검색 기능을 위한 DuckDuckGoSearchResults 초기화\n",
    "search = DuckDuckGoSearchResults(\n",
    "    api_wrapper=wrapper, # 앞에서 정의한 wrapper 사용\n",
    "    source=\"news\", \n",
    "    results_separator=\";\\n\", # 결과 항목 사이에 구분자 사용 - 세미콜론과 줄 바꿈\n",
    ")"
   ]
  },
  {
   "cell_type": "code",
   "execution_count": 27,
   "id": "0e21cfe0",
   "metadata": {},
   "outputs": [
    {
     "ename": "DuckDuckGoSearchException",
     "evalue": "https://lite.duckduckgo.com/lite/ 202 Ratelimit",
     "output_type": "error",
     "traceback": [
      "\u001b[31m---------------------------------------------------------------------------\u001b[39m",
      "\u001b[31mDuckDuckGoSearchException\u001b[39m                 Traceback (most recent call last)",
      "\u001b[36mCell\u001b[39m\u001b[36m \u001b[39m\u001b[32mIn[27]\u001b[39m\u001b[32m, line 3\u001b[39m\n\u001b[32m      1\u001b[39m \u001b[38;5;66;03m# 검색 결과 반환, 출력\u001b[39;00m\n\u001b[32m      2\u001b[39m \u001b[38;5;66;03m# \"로제의 신곡 APT에 대한 반응\"을 검색하고 결과를 docs에 저장\u001b[39;00m\n\u001b[32m----> \u001b[39m\u001b[32m3\u001b[39m docs = \u001b[43msearch\u001b[49m\u001b[43m.\u001b[49m\u001b[43minvoke\u001b[49m\u001b[43m(\u001b[49m\u001b[33;43m\"\u001b[39;49m\u001b[33;43m로제의 신곡 APT에 대한 반응\u001b[39;49m\u001b[33;43m\"\u001b[39;49m\u001b[43m)\u001b[49m\n\u001b[32m      5\u001b[39m \u001b[38;5;66;03m# 검색 결과 출력\u001b[39;00m\n\u001b[32m      6\u001b[39m \u001b[38;5;28mprint\u001b[39m(docs)\n",
      "\u001b[36mFile \u001b[39m\u001b[32mc:\\workspace\\doit-agent\\venv\\Lib\\site-packages\\langchain_core\\tools\\base.py:599\u001b[39m, in \u001b[36mBaseTool.invoke\u001b[39m\u001b[34m(self, input, config, **kwargs)\u001b[39m\n\u001b[32m    591\u001b[39m \u001b[38;5;129m@override\u001b[39m\n\u001b[32m    592\u001b[39m \u001b[38;5;28;01mdef\u001b[39;00m\u001b[38;5;250m \u001b[39m\u001b[34minvoke\u001b[39m(\n\u001b[32m    593\u001b[39m     \u001b[38;5;28mself\u001b[39m,\n\u001b[32m   (...)\u001b[39m\u001b[32m    596\u001b[39m     **kwargs: Any,\n\u001b[32m    597\u001b[39m ) -> Any:\n\u001b[32m    598\u001b[39m     tool_input, kwargs = _prep_run_args(\u001b[38;5;28minput\u001b[39m, config, **kwargs)\n\u001b[32m--> \u001b[39m\u001b[32m599\u001b[39m     \u001b[38;5;28;01mreturn\u001b[39;00m \u001b[38;5;28;43mself\u001b[39;49m\u001b[43m.\u001b[49m\u001b[43mrun\u001b[49m\u001b[43m(\u001b[49m\u001b[43mtool_input\u001b[49m\u001b[43m,\u001b[49m\u001b[43m \u001b[49m\u001b[43m*\u001b[49m\u001b[43m*\u001b[49m\u001b[43mkwargs\u001b[49m\u001b[43m)\u001b[49m\n",
      "\u001b[36mFile \u001b[39m\u001b[32mc:\\workspace\\doit-agent\\venv\\Lib\\site-packages\\langchain_core\\tools\\base.py:883\u001b[39m, in \u001b[36mBaseTool.run\u001b[39m\u001b[34m(self, tool_input, verbose, start_color, color, callbacks, tags, metadata, run_name, run_id, config, tool_call_id, **kwargs)\u001b[39m\n\u001b[32m    881\u001b[39m \u001b[38;5;28;01mif\u001b[39;00m error_to_raise:\n\u001b[32m    882\u001b[39m     run_manager.on_tool_error(error_to_raise)\n\u001b[32m--> \u001b[39m\u001b[32m883\u001b[39m     \u001b[38;5;28;01mraise\u001b[39;00m error_to_raise\n\u001b[32m    884\u001b[39m output = _format_output(content, artifact, tool_call_id, \u001b[38;5;28mself\u001b[39m.name, status)\n\u001b[32m    885\u001b[39m run_manager.on_tool_end(output, color=color, name=\u001b[38;5;28mself\u001b[39m.name, **kwargs)\n",
      "\u001b[36mFile \u001b[39m\u001b[32mc:\\workspace\\doit-agent\\venv\\Lib\\site-packages\\langchain_core\\tools\\base.py:852\u001b[39m, in \u001b[36mBaseTool.run\u001b[39m\u001b[34m(self, tool_input, verbose, start_color, color, callbacks, tags, metadata, run_name, run_id, config, tool_call_id, **kwargs)\u001b[39m\n\u001b[32m    850\u001b[39m     \u001b[38;5;28;01mif\u001b[39;00m config_param := _get_runnable_config_param(\u001b[38;5;28mself\u001b[39m._run):\n\u001b[32m    851\u001b[39m         tool_kwargs = tool_kwargs | {config_param: config}\n\u001b[32m--> \u001b[39m\u001b[32m852\u001b[39m     response = \u001b[43mcontext\u001b[49m\u001b[43m.\u001b[49m\u001b[43mrun\u001b[49m\u001b[43m(\u001b[49m\u001b[38;5;28;43mself\u001b[39;49m\u001b[43m.\u001b[49m\u001b[43m_run\u001b[49m\u001b[43m,\u001b[49m\u001b[43m \u001b[49m\u001b[43m*\u001b[49m\u001b[43mtool_args\u001b[49m\u001b[43m,\u001b[49m\u001b[43m \u001b[49m\u001b[43m*\u001b[49m\u001b[43m*\u001b[49m\u001b[43mtool_kwargs\u001b[49m\u001b[43m)\u001b[49m\n\u001b[32m    853\u001b[39m \u001b[38;5;28;01mif\u001b[39;00m \u001b[38;5;28mself\u001b[39m.response_format == \u001b[33m\"\u001b[39m\u001b[33mcontent_and_artifact\u001b[39m\u001b[33m\"\u001b[39m:\n\u001b[32m    854\u001b[39m     \u001b[38;5;28;01mif\u001b[39;00m \u001b[38;5;129;01mnot\u001b[39;00m \u001b[38;5;28misinstance\u001b[39m(response, \u001b[38;5;28mtuple\u001b[39m) \u001b[38;5;129;01mor\u001b[39;00m \u001b[38;5;28mlen\u001b[39m(response) != \u001b[32m2\u001b[39m:\n",
      "\u001b[36mFile \u001b[39m\u001b[32mc:\\workspace\\doit-agent\\venv\\Lib\\site-packages\\langchain_community\\tools\\ddg_search\\tool.py:112\u001b[39m, in \u001b[36mDuckDuckGoSearchResults._run\u001b[39m\u001b[34m(self, query, run_manager)\u001b[39m\n\u001b[32m    106\u001b[39m \u001b[38;5;28;01mdef\u001b[39;00m\u001b[38;5;250m \u001b[39m\u001b[34m_run\u001b[39m(\n\u001b[32m    107\u001b[39m     \u001b[38;5;28mself\u001b[39m,\n\u001b[32m    108\u001b[39m     query: \u001b[38;5;28mstr\u001b[39m,\n\u001b[32m    109\u001b[39m     run_manager: Optional[CallbackManagerForToolRun] = \u001b[38;5;28;01mNone\u001b[39;00m,\n\u001b[32m    110\u001b[39m ) -> \u001b[38;5;28mtuple\u001b[39m[Union[List[\u001b[38;5;28mdict\u001b[39m], \u001b[38;5;28mstr\u001b[39m], List[\u001b[38;5;28mdict\u001b[39m]]:\n\u001b[32m    111\u001b[39m \u001b[38;5;250m    \u001b[39m\u001b[33;03m\"\"\"Use the tool.\"\"\"\u001b[39;00m\n\u001b[32m--> \u001b[39m\u001b[32m112\u001b[39m     raw_results = \u001b[38;5;28;43mself\u001b[39;49m\u001b[43m.\u001b[49m\u001b[43mapi_wrapper\u001b[49m\u001b[43m.\u001b[49m\u001b[43mresults\u001b[49m\u001b[43m(\u001b[49m\n\u001b[32m    113\u001b[39m \u001b[43m        \u001b[49m\u001b[43mquery\u001b[49m\u001b[43m,\u001b[49m\u001b[43m \u001b[49m\u001b[38;5;28;43mself\u001b[39;49m\u001b[43m.\u001b[49m\u001b[43mmax_results\u001b[49m\u001b[43m,\u001b[49m\u001b[43m \u001b[49m\u001b[43msource\u001b[49m\u001b[43m=\u001b[49m\u001b[38;5;28;43mself\u001b[39;49m\u001b[43m.\u001b[49m\u001b[43mbackend\u001b[49m\n\u001b[32m    114\u001b[39m \u001b[43m    \u001b[49m\u001b[43m)\u001b[49m\n\u001b[32m    115\u001b[39m     results = [\n\u001b[32m    116\u001b[39m         {\n\u001b[32m    117\u001b[39m             k: v\n\u001b[32m   (...)\u001b[39m\u001b[32m    121\u001b[39m         \u001b[38;5;28;01mfor\u001b[39;00m d \u001b[38;5;129;01min\u001b[39;00m raw_results\n\u001b[32m    122\u001b[39m     ]\n\u001b[32m    124\u001b[39m     \u001b[38;5;28;01mif\u001b[39;00m \u001b[38;5;28mself\u001b[39m.output_format == \u001b[33m\"\u001b[39m\u001b[33mlist\u001b[39m\u001b[33m\"\u001b[39m:\n",
      "\u001b[36mFile \u001b[39m\u001b[32mc:\\workspace\\doit-agent\\venv\\Lib\\site-packages\\langchain_community\\utilities\\duckduckgo_search.py:146\u001b[39m, in \u001b[36mDuckDuckGoSearchAPIWrapper.results\u001b[39m\u001b[34m(self, query, max_results, source)\u001b[39m\n\u001b[32m    142\u001b[39m source = source \u001b[38;5;129;01mor\u001b[39;00m \u001b[38;5;28mself\u001b[39m.source\n\u001b[32m    143\u001b[39m \u001b[38;5;28;01mif\u001b[39;00m source == \u001b[33m\"\u001b[39m\u001b[33mtext\u001b[39m\u001b[33m\"\u001b[39m:\n\u001b[32m    144\u001b[39m     results = [\n\u001b[32m    145\u001b[39m         {\u001b[33m\"\u001b[39m\u001b[33msnippet\u001b[39m\u001b[33m\"\u001b[39m: r[\u001b[33m\"\u001b[39m\u001b[33mbody\u001b[39m\u001b[33m\"\u001b[39m], \u001b[33m\"\u001b[39m\u001b[33mtitle\u001b[39m\u001b[33m\"\u001b[39m: r[\u001b[33m\"\u001b[39m\u001b[33mtitle\u001b[39m\u001b[33m\"\u001b[39m], \u001b[33m\"\u001b[39m\u001b[33mlink\u001b[39m\u001b[33m\"\u001b[39m: r[\u001b[33m\"\u001b[39m\u001b[33mhref\u001b[39m\u001b[33m\"\u001b[39m]}\n\u001b[32m--> \u001b[39m\u001b[32m146\u001b[39m         \u001b[38;5;28;01mfor\u001b[39;00m r \u001b[38;5;129;01min\u001b[39;00m \u001b[38;5;28;43mself\u001b[39;49m\u001b[43m.\u001b[49m\u001b[43m_ddgs_text\u001b[49m\u001b[43m(\u001b[49m\u001b[43mquery\u001b[49m\u001b[43m,\u001b[49m\u001b[43m \u001b[49m\u001b[43mmax_results\u001b[49m\u001b[43m=\u001b[49m\u001b[43mmax_results\u001b[49m\u001b[43m)\u001b[49m\n\u001b[32m    147\u001b[39m     ]\n\u001b[32m    148\u001b[39m \u001b[38;5;28;01melif\u001b[39;00m source == \u001b[33m\"\u001b[39m\u001b[33mnews\u001b[39m\u001b[33m\"\u001b[39m:\n\u001b[32m    149\u001b[39m     results = [\n\u001b[32m    150\u001b[39m         {\n\u001b[32m    151\u001b[39m             \u001b[33m\"\u001b[39m\u001b[33msnippet\u001b[39m\u001b[33m\"\u001b[39m: r[\u001b[33m\"\u001b[39m\u001b[33mbody\u001b[39m\u001b[33m\"\u001b[39m],\n\u001b[32m   (...)\u001b[39m\u001b[32m    157\u001b[39m         \u001b[38;5;28;01mfor\u001b[39;00m r \u001b[38;5;129;01min\u001b[39;00m \u001b[38;5;28mself\u001b[39m._ddgs_news(query, max_results=max_results)\n\u001b[32m    158\u001b[39m     ]\n",
      "\u001b[36mFile \u001b[39m\u001b[32mc:\\workspace\\doit-agent\\venv\\Lib\\site-packages\\langchain_community\\utilities\\duckduckgo_search.py:64\u001b[39m, in \u001b[36mDuckDuckGoSearchAPIWrapper._ddgs_text\u001b[39m\u001b[34m(self, query, max_results)\u001b[39m\n\u001b[32m     61\u001b[39m \u001b[38;5;28;01mfrom\u001b[39;00m\u001b[38;5;250m \u001b[39m\u001b[34;01mduckduckgo_search\u001b[39;00m\u001b[38;5;250m \u001b[39m\u001b[38;5;28;01mimport\u001b[39;00m DDGS\n\u001b[32m     63\u001b[39m \u001b[38;5;28;01mwith\u001b[39;00m DDGS() \u001b[38;5;28;01mas\u001b[39;00m ddgs:\n\u001b[32m---> \u001b[39m\u001b[32m64\u001b[39m     ddgs_gen = \u001b[43mddgs\u001b[49m\u001b[43m.\u001b[49m\u001b[43mtext\u001b[49m\u001b[43m(\u001b[49m\n\u001b[32m     65\u001b[39m \u001b[43m        \u001b[49m\u001b[43mquery\u001b[49m\u001b[43m,\u001b[49m\n\u001b[32m     66\u001b[39m \u001b[43m        \u001b[49m\u001b[43mregion\u001b[49m\u001b[43m=\u001b[49m\u001b[38;5;28;43mself\u001b[39;49m\u001b[43m.\u001b[49m\u001b[43mregion\u001b[49m\u001b[43m,\u001b[49m\n\u001b[32m     67\u001b[39m \u001b[43m        \u001b[49m\u001b[43msafesearch\u001b[49m\u001b[43m=\u001b[49m\u001b[38;5;28;43mself\u001b[39;49m\u001b[43m.\u001b[49m\u001b[43msafesearch\u001b[49m\u001b[43m,\u001b[49m\n\u001b[32m     68\u001b[39m \u001b[43m        \u001b[49m\u001b[43mtimelimit\u001b[49m\u001b[43m=\u001b[49m\u001b[38;5;28;43mself\u001b[39;49m\u001b[43m.\u001b[49m\u001b[43mtime\u001b[49m\u001b[43m,\u001b[49m\n\u001b[32m     69\u001b[39m \u001b[43m        \u001b[49m\u001b[43mmax_results\u001b[49m\u001b[43m=\u001b[49m\u001b[43mmax_results\u001b[49m\u001b[43m \u001b[49m\u001b[38;5;129;43;01mor\u001b[39;49;00m\u001b[43m \u001b[49m\u001b[38;5;28;43mself\u001b[39;49m\u001b[43m.\u001b[49m\u001b[43mmax_results\u001b[49m\u001b[43m,\u001b[49m\n\u001b[32m     70\u001b[39m \u001b[43m        \u001b[49m\u001b[43mbackend\u001b[49m\u001b[43m=\u001b[49m\u001b[38;5;28;43mself\u001b[39;49m\u001b[43m.\u001b[49m\u001b[43mbackend\u001b[49m\u001b[43m,\u001b[49m\n\u001b[32m     71\u001b[39m \u001b[43m    \u001b[49m\u001b[43m)\u001b[49m\n\u001b[32m     72\u001b[39m     \u001b[38;5;28;01mif\u001b[39;00m ddgs_gen:\n\u001b[32m     73\u001b[39m         \u001b[38;5;28;01mreturn\u001b[39;00m [r \u001b[38;5;28;01mfor\u001b[39;00m r \u001b[38;5;129;01min\u001b[39;00m ddgs_gen]\n",
      "\u001b[36mFile \u001b[39m\u001b[32mc:\\workspace\\doit-agent\\venv\\Lib\\site-packages\\duckduckgo_search\\duckduckgo_search.py:185\u001b[39m, in \u001b[36mDDGS.text\u001b[39m\u001b[34m(self, keywords, region, safesearch, timelimit, backend, max_results)\u001b[39m\n\u001b[32m    182\u001b[39m         logger.info(\u001b[33mf\u001b[39m\u001b[33m\"\u001b[39m\u001b[33mError to search using \u001b[39m\u001b[38;5;132;01m{\u001b[39;00mb\u001b[38;5;132;01m}\u001b[39;00m\u001b[33m backend: \u001b[39m\u001b[38;5;132;01m{\u001b[39;00mex\u001b[38;5;132;01m}\u001b[39;00m\u001b[33m\"\u001b[39m)\n\u001b[32m    183\u001b[39m         err = ex\n\u001b[32m--> \u001b[39m\u001b[32m185\u001b[39m \u001b[38;5;28;01mraise\u001b[39;00m DuckDuckGoSearchException(err)\n",
      "\u001b[31mDuckDuckGoSearchException\u001b[39m: https://lite.duckduckgo.com/lite/ 202 Ratelimit"
     ]
    }
   ],
   "source": [
    "# 검색 결과 반환, 출력\n",
    "# \"로제의 신곡 APT에 대한 반응\"을 검색하고 결과를 docs에 저장\n",
    "docs = search.invoke(\"로제의 신곡 APT에 대한 반응\")\n",
    "\n",
    "# 검색 결과 출력\n",
    "print(docs)"
   ]
  },
  {
   "cell_type": "code",
   "execution_count": null,
   "id": "d57c3fcb",
   "metadata": {},
   "outputs": [
    {
     "name": "stdout",
     "output_type": "stream",
     "text": [
      "\n"
     ]
    }
   ],
   "source": [
    "# 특정 웹 사이트에서 검색하기 이거 안하는 게 좋겠다.\n",
    "# ytn.co.kr 에서 검색\n",
    "docs = search.invoke(\"site:k-trendynews.com 로제의 노래 APT\")\n",
    "print(docs)"
   ]
  },
  {
   "cell_type": "markdown",
   "id": "f6c2697a",
   "metadata": {},
   "source": [
    "### 기사 링크 가져오기"
   ]
  },
  {
   "cell_type": "code",
   "execution_count": 21,
   "id": "6bace424",
   "metadata": {},
   "outputs": [
    {
     "name": "stdout",
     "output_type": "stream",
     "text": [
      "\n",
      "검색 결과가 없습니다.\n",
      "[]\n"
     ]
    }
   ],
   "source": [
    "# 검색 결과의 링크들을 저장할 빈 리스트 초기화\n",
    "links = []\n",
    "\n",
    "# 검색 결과를 세미콜론과 줄 바꿈 기준으로 분리하고, 각 결과 항목에서 링크 추출\n",
    "for doc in docs.split(\";\\n\"):\n",
    "    print(doc)\n",
    "    if \"link:\" in doc:\n",
    "        link = doc.split(\"link:\")[1].strip()\n",
    "        links.append(link)\n",
    "    elif \"link:\" not in doc:\n",
    "        print(\"검색 결과가 없습니다.\")\n",
    "\n",
    "# 모든 링크를 출력\n",
    "print(links)"
   ]
  },
  {
   "cell_type": "code",
   "execution_count": null,
   "id": "214b4b7a",
   "metadata": {},
   "outputs": [],
   "source": []
  }
 ],
 "metadata": {
  "kernelspec": {
   "display_name": "venv",
   "language": "python",
   "name": "python3"
  },
  "language_info": {
   "codemirror_mode": {
    "name": "ipython",
    "version": 3
   },
   "file_extension": ".py",
   "mimetype": "text/x-python",
   "name": "python",
   "nbconvert_exporter": "python",
   "pygments_lexer": "ipython3",
   "version": "3.12.9"
  }
 },
 "nbformat": 4,
 "nbformat_minor": 5
}
