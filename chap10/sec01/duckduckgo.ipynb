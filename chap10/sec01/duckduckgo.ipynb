{
 "cells": [
  {
   "cell_type": "code",
   "execution_count": 17,
   "id": "ace8bd40",
   "metadata": {},
   "outputs": [
    {
     "data": {
      "text/plain": [
       "AIMessage(content='최근 로제가 발표한 신곡은 \"GONE\"과 \"ON THE GROUND\"가 포함된 솔로 싱글 앨범인 \"R\"에 수록되어 있습니다. 이 앨범은 2021년 발매되었습니다. 그 이후의 신곡 정보는 확인이 필요할 수 있으니, 최신 업데이트를 위해 공식 소셜 미디어나 음악 스트리밍 플랫폼을 참고하시기 바랍니다.', additional_kwargs={'refusal': None}, response_metadata={'token_usage': {'completion_tokens': 89, 'prompt_tokens': 19, 'total_tokens': 108, 'completion_tokens_details': {'accepted_prediction_tokens': 0, 'audio_tokens': 0, 'reasoning_tokens': 0, 'rejected_prediction_tokens': 0}, 'prompt_tokens_details': {'audio_tokens': 0, 'cached_tokens': 0}}, 'model_name': 'gpt-4o-mini-2024-07-18', 'system_fingerprint': 'fp_34a54ae93c', 'id': 'chatcmpl-BqVnF5w7lI7BBjIMGCcqbdGDoqvR2', 'service_tier': 'default', 'finish_reason': 'stop', 'logprobs': None}, id='run--0ee3da42-09fe-4b9f-9530-0ae9d7c527b3-0', usage_metadata={'input_tokens': 19, 'output_tokens': 89, 'total_tokens': 108, 'input_token_details': {'audio': 0, 'cache_read': 0}, 'output_token_details': {'audio': 0, 'reasoning': 0}})"
      ]
     },
     "execution_count": 17,
     "metadata": {},
     "output_type": "execute_result"
    }
   ],
   "source": [
    "from langchain_openai import ChatOpenAI\n",
    "\n",
    "model = ChatOpenAI(model=\"gpt-4o-mini\")\n",
    "model.invoke(\"최근 로제가 발표한 신곡은 무엇인가요?\")"
   ]
  },
  {
   "cell_type": "code",
   "execution_count": 2,
   "id": "3131b899",
   "metadata": {},
   "outputs": [
    {
     "name": "stdout",
     "output_type": "stream",
     "text": [
      "Requirement already satisfied: duckduckgo-search in c:\\workspace\\doit-agent\\venv\\lib\\site-packages (8.0.5)\n",
      "Collecting duckduckgo-search\n",
      "  Downloading duckduckgo_search-8.1.0-py3-none-any.whl.metadata (16 kB)\n",
      "Requirement already satisfied: click>=8.1.8 in c:\\workspace\\doit-agent\\venv\\lib\\site-packages (from duckduckgo-search) (8.2.1)\n",
      "Requirement already satisfied: primp>=0.15.0 in c:\\workspace\\doit-agent\\venv\\lib\\site-packages (from duckduckgo-search) (0.15.0)\n",
      "Requirement already satisfied: lxml>=5.3.0 in c:\\workspace\\doit-agent\\venv\\lib\\site-packages (from duckduckgo-search) (6.0.0)\n",
      "Requirement already satisfied: colorama in c:\\workspace\\doit-agent\\venv\\lib\\site-packages (from click>=8.1.8->duckduckgo-search) (0.4.6)\n",
      "Downloading duckduckgo_search-8.1.0-py3-none-any.whl (18 kB)\n",
      "Installing collected packages: duckduckgo-search\n",
      "  Attempting uninstall: duckduckgo-search\n",
      "    Found existing installation: duckduckgo_search 8.0.5\n",
      "    Uninstalling duckduckgo_search-8.0.5:\n",
      "      Successfully uninstalled duckduckgo_search-8.0.5\n",
      "Successfully installed duckduckgo-search-8.1.0\n",
      "Note: you may need to restart the kernel to use updated packages.\n"
     ]
    },
    {
     "name": "stderr",
     "output_type": "stream",
     "text": [
      "\n",
      "[notice] A new release of pip is available: 24.3.1 -> 25.1.1\n",
      "[notice] To update, run: python.exe -m pip install --upgrade pip\n"
     ]
    }
   ],
   "source": [
    "# 덕덕고 설치\n",
    "%pip install -U duckduckgo-search"
   ]
  },
  {
   "cell_type": "code",
   "execution_count": 3,
   "id": "03b10a1f",
   "metadata": {},
   "outputs": [
    {
     "name": "stdout",
     "output_type": "stream",
     "text": [
      "snippet: Nov 19, 2024 · 더블랙레이블은 로제가 오는 22일 오후 2시 (한국기준) 싱글 '넘버 원 걸 (number one girl)'을 선공개한다고 밝혔다. 이는 지난달 18일 싱글 '아파트' 선공개 이후 약 한 달 만의 …, title: 블랙핑크 로제, '아파트' 신화 잇는다... 22일 신곡 공개 - 한국일보, link: https://www.hankookilbo.com/News/Read/A2024111917190000213;\n",
      "snippet: Dec 21, 2024 · 20일 (현지시간) 공개된 최신 차트에 따르면 로제가 팝스타 브루노 마스와 호흡을 맞춘 히트곡 '아파트' (APT.)는 영국 오피셜 싱글 차트 '톱 100'에서 전주보다 한 계단 하락한 …, title: 블랙핑크 로제, 솔로 1집으로 영국 싱글 5위·앨범 49위 - 연합뉴스, link: https://www.yna.co.kr/view/AKR20241221022400005;\n",
      "snippet: Nov 22, 2024 · [조이뉴스24 정지원 기자] 블랙핑크 로제가 신곡 'number one girl'을 발표했다. 더블랙레이블은 22일 공식 SNS를 통해 로제의 새 싱글 'number one girl' 음원과 …, title: [오늘가요] \"내가 특별하다고 말해줘\"…로제, '넘버 원 걸' 발표, link: https://www.joynews24.com/view/1786189;\n",
      "snippet: Nov 22, 2024 · 걸그룹 블랙핑크의 멤버 로제가 22일 새 싱글 ‘넘버 원 걸 (Number one girl)’을 발표했다. 넘버 원 걸은 로제가 내달 6일에 발매하는 첫 정규앨범 ‘로지 (rosie)’의 선공개 곡이다. …, title: 로제, 신곡 ‘넘버 원 걸’ 공개… 브루노 마스가 프로듀싱, link: https://biz.chosun.com/entertainment/enter_general/2024/11/22/Q6AJ6YGRUJDPNIRGX5BKHHUBBY/\n"
     ]
    }
   ],
   "source": [
    "# 덕덕고 검색 테스트\n",
    "from langchain_community.tools import DuckDuckGoSearchResults\n",
    "\n",
    "search = DuckDuckGoSearchResults(results_separator=';\\n')\n",
    "docs = search.invoke(\"최근 로제가 발표한 신곡은 무엇인가요?\")\n",
    "\n",
    "print(docs)"
   ]
  },
  {
   "cell_type": "code",
   "execution_count": 18,
   "id": "6b29d944",
   "metadata": {},
   "outputs": [],
   "source": [
    "# 확장 쿼리 구현\n",
    "from langchain_core.prompts import ChatPromptTemplate, MessagesPlaceholder\n",
    "\n",
    "question_answering_prompt = ChatPromptTemplate.from_messages(\n",
    "    [\n",
    "        (\n",
    "            \"system\",\n",
    "            \"아래 context에 기반하여 사용자의 질문에 답변하라.:\\n\\n{context}\",\n",
    "        ),\n",
    "        MessagesPlaceholder(variable_name=\"messages\"),\n",
    "    ]\n",
    ")\n",
    "\n",
    "# LCEL 방식으로 바로 gpt와 연결\n",
    "document_chain = question_answering_prompt | model"
   ]
  },
  {
   "cell_type": "code",
   "execution_count": 19,
   "id": "dd5749fc",
   "metadata": {},
   "outputs": [
    {
     "name": "stdout",
     "output_type": "stream",
     "text": [
      "content='죄송하지만 해당 정보를 가지고 있지 않습니다. 로제의 최근 신곡에 대한 업데이트는 공식 음악 플랫폼이나 로제의 공식 소셜 미디어 계정을 확인해 보시기를 권장합니다.' additional_kwargs={'refusal': None} response_metadata={'token_usage': {'completion_tokens': 43, 'prompt_tokens': 494, 'total_tokens': 537, 'completion_tokens_details': {'accepted_prediction_tokens': 0, 'audio_tokens': 0, 'reasoning_tokens': 0, 'rejected_prediction_tokens': 0}, 'prompt_tokens_details': {'audio_tokens': 0, 'cached_tokens': 0}}, 'model_name': 'gpt-4o-mini-2024-07-18', 'system_fingerprint': 'fp_34a54ae93c', 'id': 'chatcmpl-BqVnRAhQLxZyS9EVYPb7tddsGs97A', 'service_tier': 'default', 'finish_reason': 'stop', 'logprobs': None} id='run--0caa0ffb-caae-4f28-9cbb-18482fe2d73f-0' usage_metadata={'input_tokens': 494, 'output_tokens': 43, 'total_tokens': 537, 'input_token_details': {'audio': 0, 'cache_read': 0}, 'output_token_details': {'audio': 0, 'reasoning': 0}}\n"
     ]
    }
   ],
   "source": [
    "# 메시지 저장하고 답변 생성 후 출력하기\n",
    "from langchain.memory import ChatMessageHistory\n",
    "\n",
    "# 채팅 메시지를 저장할 메모리 객체 생성\n",
    "chat_history = ChatMessageHistory()\n",
    "# 사용자의 질문을 메모리에 저장\n",
    "chat_history.add_user_message(\"최근 로제가 발표한 신곡은 무엇인가요?\")\n",
    "\n",
    "# 문서 검색하고 답변 생성\n",
    "answer = document_chain.invoke(\n",
    "    {\n",
    "        \"messages\": chat_history.messages,\n",
    "        \"context\": docs,\n",
    "    }\n",
    ")\n",
    "\n",
    "# 생성된 답변을 메모리에 저장\n",
    "chat_history.add_ai_message(answer)\n",
    "\n",
    "print(answer)"
   ]
  },
  {
   "cell_type": "markdown",
   "id": "121c9ac5",
   "metadata": {},
   "source": [
    "### 검색 기능에 옵션 설정"
   ]
  },
  {
   "cell_type": "code",
   "execution_count": 5,
   "id": "0b43f512",
   "metadata": {},
   "outputs": [],
   "source": [
    "# 최근 일주일 뉴스만 검색하기\n",
    "# DuckDuckGo API 래퍼를 사용하여 검색할 때 검색 매개변수를 설정하는 클래스 import\n",
    "from langchain_community.utilities import DuckDuckGoSearchAPIWrapper\n",
    "\n",
    "# 한국 지역(\"kr-kr\")을 기준, 최근 일주일(\"w\") 내의 검색 결과를 가져오도록 초기화\n",
    "wrapper = DuckDuckGoSearchAPIWrapper(region=\"kr-kr\", time=\"w\")"
   ]
  },
  {
   "cell_type": "code",
   "execution_count": 6,
   "id": "6215c6c8",
   "metadata": {},
   "outputs": [],
   "source": [
    "# 뉴스 소스 위주로 검색하도록 지정하기\n",
    "# 검색 기능을 위한 DuckDuckGoSearchResults 초기화\n",
    "from langchain_community.tools import DuckDuckGoSearchResults\n",
    "search = DuckDuckGoSearchResults(\n",
    "    api_wrapper=wrapper, # 앞에서 정의한 wrapper 사용\n",
    "    source=\"news\", \n",
    "    results_separator=\";\\n\", # 결과 항목 사이에 구분자 사용 - 세미콜론과 줄 바꿈\n",
    ")"
   ]
  },
  {
   "cell_type": "code",
   "execution_count": 7,
   "id": "0e21cfe0",
   "metadata": {},
   "outputs": [
    {
     "name": "stdout",
     "output_type": "stream",
     "text": [
      "snippet: 4 days ago · 천문학적 비용을 들이지 않고 고성능 한국어 '거대 언어 모델 (LLM)’을 개발할 수 있다는 점이 입증됐다. LLM은 방대한 양의 텍스트 데이터를 학습해 인간 언어를 이해하고 …, title: 이재진 교수 연구팀, 고성능 한국어 LLM 개발 | 서울대학교 컴퓨터 ..., link: https://cse.snu.ac.kr/community/news/1191;\n",
      "snippet: 4 days ago · 이번 연구는 영어 기반 LLM ‘Llama’를 바탕으로 3TB 규모의 한국어 웹 데이터를 수집·전처리하고, 연속 학습 및 사후 학습 기법을 적용해 중국의 ‘딥시크 (DeepSeek)’처럼 …, title: 이재진 교수 연구팀, 고성능 한국어 LLM ‘Llama-Thunder’ 개발 ..., link: https://gsds.snu.ac.kr/이재진-교수-연구팀-고성능-한국어-llm-llama-thunder-개발/;\n",
      "snippet: 2 hours ago · 과학기술정보통신부 산하 한국전파진흥협회(RAPA)가 아마존웹서비스코리아(AWS)와 협력해 AI 인재 양성에 나선다. 협회는 클라우드, 컨테이너, …, title: 한국전파진흥협회, AWS와 ‘AI 스쿨’ 운영 AI 인재 양성, link: https://www.dt.co.kr/article/12002196;\n",
      "snippet: 2 hours ago · [이슈앤비즈 김하성 기자]과학기술정보통신부 산하 한국전파진흥협회(RAPA)는 아마존웹서비스코리아(AWS)와 협력하여, 클라우드, 컨테이너, 딥러닝 기술을 통합해 AI …, title: 한국전파진흥협회、AWS와 협력해 'AWS AI School' 국내 최초 …, link: http://www.issuenbiz.com/news/articleView.html?idxno=63211\n"
     ]
    }
   ],
   "source": [
    "# 검색 결과 반환, 출력\n",
    "# \"로제의 신곡 APT에 대한 반응\"을 검색하고 결과를 docs에 저장\n",
    "docs = search.invoke(\"한국의 딥러닝 모델\")\n",
    "\n",
    "# 검색 결과 출력\n",
    "print(docs)"
   ]
  },
  {
   "cell_type": "code",
   "execution_count": null,
   "id": "d57c3fcb",
   "metadata": {},
   "outputs": [
    {
     "name": "stdout",
     "output_type": "stream",
     "text": [
      "\n"
     ]
    }
   ],
   "source": [
    "# 특정 웹 사이트에서 검색하기 이거 안하는 게 좋겠다.\n",
    "# ytn.co.kr 에서 검색\n",
    "# docs = search.invoke(\"site:k-trendynews.com 로제의 노래 APT\")\n",
    "# print(docs)"
   ]
  },
  {
   "cell_type": "markdown",
   "id": "f6c2697a",
   "metadata": {},
   "source": [
    "### 기사 링크 가져오기"
   ]
  },
  {
   "cell_type": "code",
   "execution_count": 8,
   "id": "6bace424",
   "metadata": {},
   "outputs": [
    {
     "name": "stdout",
     "output_type": "stream",
     "text": [
      "snippet: 4 days ago · 천문학적 비용을 들이지 않고 고성능 한국어 '거대 언어 모델 (LLM)’을 개발할 수 있다는 점이 입증됐다. LLM은 방대한 양의 텍스트 데이터를 학습해 인간 언어를 이해하고 …, title: 이재진 교수 연구팀, 고성능 한국어 LLM 개발 | 서울대학교 컴퓨터 ..., link: https://cse.snu.ac.kr/community/news/1191\n",
      "snippet: 4 days ago · 이번 연구는 영어 기반 LLM ‘Llama’를 바탕으로 3TB 규모의 한국어 웹 데이터를 수집·전처리하고, 연속 학습 및 사후 학습 기법을 적용해 중국의 ‘딥시크 (DeepSeek)’처럼 …, title: 이재진 교수 연구팀, 고성능 한국어 LLM ‘Llama-Thunder’ 개발 ..., link: https://gsds.snu.ac.kr/이재진-교수-연구팀-고성능-한국어-llm-llama-thunder-개발/\n",
      "snippet: 2 hours ago · 과학기술정보통신부 산하 한국전파진흥협회(RAPA)가 아마존웹서비스코리아(AWS)와 협력해 AI 인재 양성에 나선다. 협회는 클라우드, 컨테이너, …, title: 한국전파진흥협회, AWS와 ‘AI 스쿨’ 운영 AI 인재 양성, link: https://www.dt.co.kr/article/12002196\n",
      "snippet: 2 hours ago · [이슈앤비즈 김하성 기자]과학기술정보통신부 산하 한국전파진흥협회(RAPA)는 아마존웹서비스코리아(AWS)와 협력하여, 클라우드, 컨테이너, 딥러닝 기술을 통합해 AI …, title: 한국전파진흥협회、AWS와 협력해 'AWS AI School' 국내 최초 …, link: http://www.issuenbiz.com/news/articleView.html?idxno=63211\n",
      "['https://cse.snu.ac.kr/community/news/1191', 'https://gsds.snu.ac.kr/이재진-교수-연구팀-고성능-한국어-llm-llama-thunder-개발/', 'https://www.dt.co.kr/article/12002196', 'http://www.issuenbiz.com/news/articleView.html?idxno=63211']\n"
     ]
    }
   ],
   "source": [
    "# 검색 결과의 링크들을 저장할 빈 리스트 초기화\n",
    "links = []\n",
    "\n",
    "# 검색 결과를 세미콜론과 줄 바꿈 기준으로 분리하고, 각 결과 항목에서 링크 추출\n",
    "for doc in docs.split(\";\\n\"):\n",
    "    print(doc)\n",
    "    link = doc.split(\"link:\")[1].strip()\n",
    "    links.append(link)\n",
    "\n",
    "# 모든 링크를 출력\n",
    "print(links)"
   ]
  },
  {
   "cell_type": "code",
   "execution_count": 9,
   "id": "214b4b7a",
   "metadata": {},
   "outputs": [
    {
     "name": "stderr",
     "output_type": "stream",
     "text": [
      "USER_AGENT environment variable not set, consider setting it to identify your requests.\n",
      "Fetching pages:   0%|          | 0/4 [00:00<?, ?it/s]Error fetching https://gsds.snu.ac.kr/이재진-교수-연구팀-고성능-한국어-llm-llama-thunder-개발/ with attempt 1/3: Cannot connect to host gsds.snu.ac.kr:443 ssl:default [현재 연결은 원격 호스트에 의해 강제로 끊겼습니다]. Retrying...\n",
      "Error fetching https://cse.snu.ac.kr/community/news/1191 with attempt 1/3: Cannot connect to host cse.snu.ac.kr:443 ssl:default [현재 연결은 원격 호스트에 의해 강제로 끊겼습니다]. Retrying...\n",
      "Fetching pages: 100%|##########| 4/4 [00:02<00:00,  1.54it/s]"
     ]
    },
    {
     "name": "stdout",
     "output_type": "stream",
     "text": [
      "page_content='이재진 교수 연구팀, 고성능 한국어 LLM 개발 | 서울대학교 컴퓨터공학부로그인ENGsearch소식arrow_forward_ios새 소식새 소식소식공지사항새 소식세미나신임교수초빙학생회About학부 소개교수진학부 안내대학원 안내Resources공지사항세미나시설 예약 안내Research신임교수초빙연구실 목록Top Conference List10-10 ProjectMore연합전공 인공지능(학사)지능형컴퓨팅사업단컴퓨터 연구소해동학술정보실개인정보처리방침|학부 연락처|찾아오시는 길08826 서울특별시 관악구 관악로 1 서울대학교 공과대학 컴퓨터공학부 행정실(301동 316호)Powered byCSEREAL© Department of CSE, SNU.All Rights Reserved.천문학적 비용을 들이지 않고 고성능 한국어 '거대 언어 모델(LLM)’을 개발할 수 있다는 점이 입증됐다. LLM은 방대한 양의 텍스트 데이터를 학습해 인간 언어를 이해하고 생성하는 인공지능(AI) 모델이다.이재진 서울대 데이터사이언스대학원 교수 연구팀이 영어 기반 언어 모델인 ‘라마(Llama)’를 개량해 한국어에 특화된 언어 모델인 ‘Llama-Thunder-LLM’, 한국어 전용 토크나이저 ‘Thunder-Tok’, 한국어 LLM 성능을 객관적으로 평가하는 ‘Thunder-LLM 한국어 벤치마크’를 개발하였다. 토크나이저는 문장을 언어 모델이 이해할 수 있는 단위인 ‘토큰’으로 쪼개는 도구이고 벤치마크는 특정 기준과 비교해 성능을 측정하고 평가하는 도구다.한국어에 특화된 LLM을 만들려면 개발에 막대한 비용이 든다. LLM 구축을 위한 데이터가 한정적이라는 한계도 있다. LLM이 대기업과 해외 빅테크 기업 중심으로 개발돼온 이유다. 중소 연구기관이나 대학에서는 LLM 연구개발을 하기 어렵다. 연구팀은 데이터 수집부터 사후 학습까지 언어 모델 학습의 모든 단계를 자체 진행해 중국 LLM ‘딥시크’처럼 제한된 자원으로 고성능 언어 모델을 구축할 수 있다는 점을 입증했다.Llama-Thunder-LLM은 3TB(테라바이트, 1TB=1024GB) 크기의 한국어 웹 데이터를 수집·전처리한 다음 라마 모델에 연속 학습과 사후 학습 등의 개량 기법을 적용한 한국어 특화 LLM이다. 연속 학습은 기존 모델에 새로운 데이터를 추가로 학습시켜 능력을 확장하는 과정이고 사후 학습은 사용자의 질문·응답 등으로 추가 미세조정하는 학습 과정이다.한국어의 문법적 특성을 반영한 토크나이저 Thunder-Tok은 기존 라마 토크나이저 대비 토큰 수를 약 44% 절약해 추론 속도 및 학습 효율성을 높였다. 토큰 수가 줄면 AI 모델 운영 비용이 감소한다. 연구팀이 자체 개발한 ‘한국어 평가용 데이터셋’을 포함한 Thunder-LLM 한국어 벤치마크는 한국어 LLM 성능을 객관적이고 체계적으로 평가할 수 있는 기반을 제공한다.​이재진 교수는 “이번 연구는 학계도 자주적인 LLM 개발이 가능하다는 점을 입증했고 국내 소버린 AI(자국 AI)에 기여한 의미 있는 결과”라며 “한국어 기반 LLM 및 토크나이저, 벤치마크 데이터셋을 온라인에 공개하고 개발 과정 또한 상세히 기술해 누구나 후속 및 재현 연구에 활용할 수 있도록 했다”고 말했다. 연구 성과는 ‘초거대 AI모델 및 플랫폼 최적화 센터’ 웹페이지(https://champ.snu.ac.kr/resource)에 공개됐다.※ 출처: 동아사이언스,한국판 '딥시크' 만들 수 있다…서울대 연구진 '고성능 한국어 LLM' 개발​연구이재진 교수 연구팀, 고성능 한국어 LLM 개발2025/7/03 (목)목록expand_more이전글김선 교수 연구실, 세계적 AI 바이오인포매틱스 학회 ISMB 2025에 논문 두 편 동시 게재 성과' metadata={'source': 'https://cse.snu.ac.kr/community/news/1191', 'title': '이재진 교수 연구팀, 고성능 한국어 LLM 개발 | 서울대학교 컴퓨터공학부', 'description': '서울대학교 컴퓨터공학부 새 소식 페이지입니다.', 'language': 'ko'}\n",
      "-------------------------\n",
      "page_content='이재진 교수 연구팀, 고성능 한국어 LLM ‘Llama-Thunder’ 개발 – 서울대학교 데이터사이언스대학원Learn moreSeoul National UniversityGraduate School of Data ScienceAbout인사말대학원 소개연혁오시는 길기부하기공간예약PEOPLE전임 교수진비전임 교수진대학원생행정직원ResearchResearch Highlights선도연구센터(ERC)Academics모집안내입학공지졸업관련규정이수규정교과과정교과인증과정자료실융합전공 응용 데이터사이언스News학과소식세미나MEDIA공지사항데이터사이언스  여름방학 부트캠프(Bootcamp)BK21단장인사말비전 및 목표참여인력사업공지사업성과자료실Seoul National UniversityGraduate School of Data ScienceSeoul National UniversityGraduate School of Data ScienceAbout인사말대학원 소개연혁오시는 길기부하기공간예약PEOPLE전임 교수진비전임 교수진대학원생행정직원ResearchResearch Highlights선도연구센터(ERC)Academics모집안내입학공지졸업관련규정이수규정교과과정교과인증과정자료실융합전공 응용 데이터사이언스참여학과진입안내교과과정이수규정News학과소식세미나MEDIA공지사항데이터사이언스  여름방학 부트캠프(Bootcamp)BK21단장인사말비전 및 목표참여인력사업공지사업성과자료실News학과소식세미나MEDIA공지사항데이터사이언스  여름방학 부트캠프(Bootcamp)이재진 교수 연구팀, 고성능 한국어 LLM ‘Llama-Thunder’ 개발July 3, 2025(왼쪽부터) 손영준 서울대 데이터사이언스대학원 박사과정생, 소연경 박사과정생, 박찬우 석사과정생, 이재진 교수, 김진표 박사과정생, 석지헌 박사과정생, 조경제 박사과정생, 박종원 석사과정생, 김종민 박사과정생서울대 데이터사이언스대학원 이재진 교수 연구팀이 고성능 한국어 특화 거대언어모델(LLM) ‘Llama-Thunder-LLM’, 한국어 전용 토크나이저 ‘Thunder-Tok’, LLM 평가용 벤치마크 ‘Thunder-LLM’을 개발했습니다.이번 연구는 영어 기반 LLM ‘Llama’를 바탕으로 3TB 규모의 한국어 웹 데이터를 수집·전처리하고, 연속 학습 및 사후 학습 기법을 적용해 중국의 ‘딥시크(DeepSeek)’처럼 제한된 자원으로도 고성능 LLM을 개발할 수 있음을 입증했습니다.특히 한국어 문법 특성을 반영한 Thunder-Tok은 기존 대비 약 44%의 토큰 수 절감을 통해 학습 및 추론 효율을 크게 향상시켰으며, 자체 구축한 벤치마크를 통해 한국어 LLM의 성능을 객관적이고 체계적으로 평가할 수 있는 기반도 마련했습니다.연구 성과는 ‘초거대 AI모델 및 플랫폼 최적화 센터’웹페이지에 공개되었습니다.관련기사Seoul National UniversityGraduate School of Data ScienceAbout인사말대학원 소개연혁오시는 길기부하기People전임 교수진비전임 교수진융합전공 교수진대학원생행정직원RESEARCHResearch Highlights선도연구센터(ERC)Academic모집안내입학공지졸업관련규정이수규정교과과정교과인증과정자료실융합전공 응용 데이터사이언스News학과소식세미나MEDIA공지사항서울대 KDT 과정 (고용노동부)BK21단장인사말비전 및 목표참여인력사업공지사업성과자료실Seoul National University © 2023. All rights reserved.개인정보처리방침영상정보처리기기 운영 • 관리 방침' metadata={'source': 'https://gsds.snu.ac.kr/이재진-교수-연구팀-고성능-한국어-llm-llama-thunder-개발/', 'title': '이재진 교수 연구팀, 고성능 한국어 LLM ‘Llama-Thunder’ 개발 – 서울대학교 데이터사이언스대학원', 'language': 'No language found.'}\n",
      "-------------------------\n",
      "page_content='한국전파진흥협회, AWS와 ‘AI 스쿨’ 운영 AI 인재 양성 | 디지털타임스확인취소세계 최대 촉각상호작용(햅틱스) 국제학술대회 수원서 개막에이비엘바이오-아이맵, 국제학회서 ‘ABL111’ 병용요법 구두 발표“코넥스에서 코스닥 이전은 이렇게”…거래소, 이전상장 설명회“잔돈 저금하면 비트코인 드려요”…카카오뱅크, ‘저금통 with 코인원’ 출시김대식 “안철수, 혁신위에서마저 철수하지 말아달라”신종 미생물 효소로 ‘기능성 올리고당’ 생산 가능성 봤다2025년 7월 07일 (월)로그인회원가입마이페이지로그아웃금융·증권부동산경제산업IT바이오정치사회국제피플오피니언문화세계 최대 촉각상호작용(햅틱스) 국제학술대회 수원서 개막에이비엘바이오-아이맵, 국제학회서 ‘ABL111’ 병용요법 구두 발표“코넥스에서 코스닥 이전은 이렇게”…거래소, 이전상장 설명회“잔돈 저금하면 비트코인 드려요”…카카오뱅크, ‘저금통 with 코인원’ 출시김대식 “안철수, 혁신위에서마저 철수하지 말아달라”신종 미생물 효소로 ‘기능성 올리고당’ 생산 가능성 봤다2025년 7월 07일 (월)로그인회원가입마이페이지로그아웃한국전파진흥협회, AWS와 ‘AI 스쿨’ 운영 AI 인재 양성어떤 기사를 찾으시나요?# 여야, 7월 임시국회도 먹구름…인사청문회 등 대치 전망# “좀 참으라고?” 민심 폭발…스폰지밥? 먹방? 논란의 ‘이것’ 뭐길래# 李대통령, 與 상임위원장단 회동…노란봉투법 등 입법속도전# 보험硏 “李 공공신탁, 돌봄 재정부담 완화…보험금청구권도 재산 인정해야”# 현대경제硏 “내년 1분기 적정금리 연 2.05% 추정”# ‘보궐선거로 국회 가달라’에 한동훈 “제 길 찾아보겠다”…尹 향해선 “계엄 진짜 피해 없었나?”# 여야, 추경 처리됐지만 공방 지속…“국정 발목 잡기” vs “포퓰리즘”# 여한구 본부장, 美와 협상…상호관세 유예 연장 방안 협의많이 본 뉴스한동훈 “극좌서 변신한 극우들이 ‘짠물’ 행세” “‘한덕수 사기경선’ 홍준표·김문수 똑같아”[이준기의 과·알·세] 日 난카이 대지진, “언제든 일어날 수 있어”… 규모 9 이상 시 한반도 ‘쓰나미’ 우려“대출 규제 맛보기?” 발칵 뒤집혀…“집값 상투 잡았나” 계약 취소 속출검색창 닫기금융·증권일반증권경제부동산일반경제일반산업일반유통·생활경제자동차·시승기재계중기·벤처IT바이오일반통신·뉴미디어모바일컴퓨터중기·스타트업과학바이오·헬스케어게임·리뷰보안·해킹인터넷·SNSIT·소프트웨어정치일반국회·정당북한·안보국방·외교행정대통령실사회일반교육사건·사고검찰·법조환경행정지방건강노동국제일반아시아·호주유럽미국·중남미국제경제중동·아프리카국제금융피플일반인사동정부음국내인물국외인물사고·알림오피니언일반사설칼럼데스크 칼럼시론포럼기고문화일반방송·연예여행·레저책영화OTT공연·전시스포츠·e스포츠음식·맛집패션·뷰티종교날씨최신뉴스대학소식동영상칼럼니스트디따 뉴스구독My디따뉴스많이본 뉴스이슈NOW연재기자투표회사소개고충처리신문구독기사제보콘텐츠제휴광고안내개인정보취급방침청소년보호정책마이페이지한국전파진흥협회, AWS와 ‘AI 스쿨’ 운영 AI 인재 양성과학기술정보통신부 산하 한국전파진흥협회(RAPA)가 아마존웹서비스코리아(AWS)와 협력해 AI 인재 양성에 나선다.\n",
      "협회는 클라우드, 컨테이너, 딥러닝 기술을 통합해 AI 서비스를 기획, 개발, 배포, 운영하는 실무형 교육과정을 운영하는 ‘AWS AI School’을 국내 최초로 개소했다고 7일 밝혔다.\n",
      "AWS AI 스쿨에서는 네트워크, 리눅스, 백엔드‧프론트엔드 등 IT 인프라 기초부터 컨테이너(Docker, Kubernetes), CI‧CD 자동화와 같은 클라우드 환경의 핵심 기술을 다룬다.\n",
      "이를 기반으로 자연어 처리(NLP), 대형언어모델(LLM)을 포함한 최신 딥러닝 기술과, 벡터 임베딩, RAG(Retrieval-Augmented Generation) 등 생성형 AI 기술을 서비스에 적용하고 안정적으로 운영할 수 있는 AI 플랫폼 융합 전문가 양성을 목표로 한다.\n",
      "교육과정은 단순한 모델 개발을 넘어, 실제 서비스 구현과 안정적인 운영까지 가능한 인프라 역량을 아우르는 것이 특징이다. AWS의 플랫폼 기반 커리큘럼을 통해 클라우드, 컨테이너, 딥러닝 기술을 유기적으로 연결해 실무에 필요한 AI 개발의 전체 흐름을 엔드-투-엔드 방식으로 학습할 수 있도록 설계했다.\n",
      "전체 커리큘럼은 아마존 베드락, 타이탄 임베딩, 세이지메이터 스튜디오 등 AWS의 최신 AI 서비스 및 도구들을 활용한다. 클라우드 기반의 프라이빗 LLM 구축, 문서 기반 질의응답 시스템(QA), 검색기반 생성(RAG) 챗봇 개발 등 기업 현장에서 요구되는 핵심 AI 프로젝트를 실습 중심으로 학습한다.\n",
      "특히 데이터 수집 및 전처리부터 모델 학습, 평가 및 배포에 이르기까지 AI 개발 사이클 전반을 실제로 경험하며, 감정 분석, 문서 분류, 요약 등 자연어 처리 기반 신경망 기술과 트랜스포머, BERT 기반 텍스트 임베딩, 프롬프트 설계, 하이퍼 파라미터 조정 등의 고급 기술까지 폭넓게 다룬다. 교육은 총 15개 교과목, 약 1040시간으로 구성된다.\n",
      "이 과정은 고용노동부의 ‘K-디지털 트레이닝’ 첨단산업‧디지털선도기업 아카데미 사업의 일환으로 개설됐다. 학습 장소는 한국전파진흥협회 가산DX캠퍼스다. 1기는 2025년 7월 중순부터 2026년 2월까지(7월 22일~26년 2월), 2기는 2025년 12월부터 26년 5월까지 진행되며, 각 기수 당 30명, 총 60명을 선발한다.\n",
      "내일배움카드로도 신청할 수 있다. 교육생 전원에게는 AWS의 공인 AI 교육과정 및 AI 전문자격 시험 응시 기회가 무료로 제공된다. 아울러, 수료생에게는 AWS에서 주관하는 공식 콘퍼런스 및 AWS 파트너사의 잡페어(채용 연계 행사) 참가 기회도 제공돼 교육 이후 커리어 전환에 도움이 될 것으로 보인다.\n",
      "한편 한국전파진흥협회는 2022년부터 ‘AWS Cloud School’을 운영하며 10개 기수를 성공적으로 배출한 바 있다. 이번 ‘AWS AI School’은 이러한 성과를 바탕으로, 기초 인프라부터 클라우드 기반의 최신 AI 서비스 구현까지 아우르는 고급 실무형 인재양성 과정으로 새롭게 자리매김할 예정이다.국제국제경제AI 글로벌 경쟁한국전파진흥협회, AWS와 ‘AI 스쿨’ 운영 AI 인재 양성이규화대기자구독 +입력 2025-07-07 09:24수정 2025-07-07 09:330추천해요0좋아요0감동이에요0화나요0슬퍼요0읽기모드음성지원다크모드폰트크기가가가가가가북마크공유하기프린트기사반응한국전파진흥협회 AI 교육 안내과학기술정보통신부 산하 한국전파진흥협회(RAPA)가 아마존웹서비스코리아(AWS)와 협력해 AI 인재 양성에 나선다.협회는 클라우드, 컨테이너, 딥러닝 기술을 통합해 AI 서비스를 기획, 개발, 배포, 운영하는 실무형 교육과정을 운영하는 ‘AWS AI School’을 국내 최초로 개소했다고 7일 밝혔다.AWS AI 스쿨에서는 네트워크, 리눅스, 백엔드‧프론트엔드 등 IT 인프라 기초부터 컨테이너(Docker, Kubernetes), CI‧CD 자동화와 같은 클라우드 환경의 핵심 기술을 다룬다.이를 기반으로 자연어 처리(NLP), 대형언어모델(LLM)을 포함한 최신 딥러닝 기술과, 벡터 임베딩, RAG(Retrieval-Augmented Generation) 등 생성형 AI 기술을 서비스에 적용하고 안정적으로 운영할 수 있는 AI 플랫폼 융합 전문가 양성을 목표로 한다.교육과정은 단순한 모델 개발을 넘어, 실제 서비스 구현과 안정적인 운영까지 가능한 인프라 역량을 아우르는 것이 특징이다. AWS의 플랫폼 기반 커리큘럼을 통해 클라우드, 컨테이너, 딥러닝 기술을 유기적으로 연결해 실무에 필요한 AI 개발의 전체 흐름을 엔드-투-엔드 방식으로 학습할 수 있도록 설계했다.전체 커리큘럼은 아마존 베드락, 타이탄 임베딩, 세이지메이터 스튜디오 등 AWS의 최신 AI 서비스 및 도구들을 활용한다. 클라우드 기반의 프라이빗 LLM 구축, 문서 기반 질의응답 시스템(QA), 검색기반 생성(RAG) 챗봇 개발 등 기업 현장에서 요구되는 핵심 AI 프로젝트를 실습 중심으로 학습한다.특히 데이터 수집 및 전처리부터 모델 학습, 평가 및 배포에 이르기까지 AI 개발 사이클 전반을 실제로 경험하며, 감정 분석, 문서 분류, 요약 등 자연어 처리 기반 신경망 기술과 트랜스포머, BERT 기반 텍스트 임베딩, 프롬프트 설계, 하이퍼 파라미터 조정 등의 고급 기술까지 폭넓게 다룬다. 교육은 총 15개 교과목, 약 1040시간으로 구성된다.이 과정은 고용노동부의 ‘K-디지털 트레이닝’ 첨단산업‧디지털선도기업 아카데미 사업의 일환으로 개설됐다. 학습 장소는 한국전파진흥협회 가산DX캠퍼스다. 1기는 2025년 7월 중순부터 2026년 2월까지(7월 22일~26년 2월), 2기는 2025년 12월부터 26년 5월까지 진행되며, 각 기수 당 30명, 총 60명을 선발한다.내일배움카드로도 신청할 수 있다. 교육생 전원에게는 AWS의 공인 AI 교육과정 및 AI 전문자격 시험 응시 기회가 무료로 제공된다. 아울러, 수료생에게는 AWS에서 주관하는 공식 콘퍼런스 및 AWS 파트너사의 잡페어(채용 연계 행사) 참가 기회도 제공돼 교육 이후 커리어 전환에 도움이 될 것으로 보인다.한편 한국전파진흥협회는 2022년부터 ‘AWS Cloud School’을 운영하며 10개 기수를 성공적으로 배출한 바 있다. 이번 ‘AWS AI School’은 이러한 성과를 바탕으로, 기초 인프라부터 클라우드 기반의 최신 AI 서비스 구현까지 아우르는 고급 실무형 인재양성 과정으로 새롭게 자리매김할 예정이다.이규화 대기자(david@dt.co.kr)[저작권자 ⓒ디지털타임스, 무단 전재-재배포, AI 학습 및 활용 금지]이규화 대기자david@dt.co.kr다른 기사 더보기+ 구독실시간주요뉴스[기획] “버티다 포기”… 자영업자 폐업 ‘연 100만명’ 처음 넘었다‘관세불안’에 코스피 긴장…‘2분기 흑자’ LG엔솔, 2%대 강세“너무 신기해”…‘북한뷰 스타벅스’ 초대박, 어디[속보] 김계환 前해병대사령관, 순직해병특검 출석…‘VIP 격노설’ 조사[속보] 안철수 혁신위원장 사퇴…“당대표 도전”트럼프 “12개국 또는 15개국이 ‘관세편지’ 받을 대상 ”기사 추천추천해요0좋아요0감동이에요0화나요0슬퍼요0기획·연재[]에게 고견을 듣는다[고견을 듣는다] “李정부, 100조중 1000억만 슈퍼인재에 투자해도 AI 성공한다”구독[]에게 고견을 듣는다[고견을 듣는다] \"대한민국 `좀비화`… 李대통령, DJ식 고통분담 개혁 나서야\"구독[]에게 고견을 듣는다[고견을 듣는다] \"누가 대통령 되든 가시밭길… 정치 정상화 위한 `통합 리더` 돼야\"구독[]에게 고견을 듣는다[고견을 듣는다] \"김문수, 수구 보수 틀 못벗어… 이준석과 연대가능성 `제로`\"구독[]에게 고견을 듣는다[고견을 듣는다] \"李 대법판결로 대선 이슈 급변… 당선돼도 보궐선거 가능성\"구독가장많이본 뉴스한동훈 “극좌서 변신한 극우들이 ‘짠물’ 행세” “‘한덕수 사기경선’ 홍준표·김문수 똑같아”日 난카이 대지진, “언제든 일어날 수 있어”… 규모 9 이상 시 한반도 ‘쓰나미’ 우려“대출 규제 맛보기?” 발칵 뒤집혀…“집값 상투 잡았나” 계약 취소 속출내란특검, 尹 구속영장 청구…“외환 혐의는 조사량 많이 남아”임은정 “검찰 장례 치르는 장의사 역할…한 시대 마무리, 잘 감당해 보겠다”Ditta영상윤석열 측 \"특검 사건 이첩 무효\" vs 내란특검 \"납득 어려운 주장\" #윤석열 #내란특검 #조은석\"정글 떠난 사자가 돌아왔다\"…푸조, 3세대 3008 HEV로 하반기 반등 시동 #peugeot #3008“李정부, 100조중 1000억만 슈퍼인재에 투자해도 AI 성공한다” [손재권 더밀크 대표에게 고견을 듣는다]YG 양현석, 명품 시계 밀반입 혐의… 6개월만에 다시 법정으로 #양현석 #ygDitta핫이슈아파트 내 흡연이 심각한 사회문제로 대두되고 있는 가운데, 한 20대 여성이 베란다에서 담배를 피우다 이웃 주민과 갈등을 일으킨 사연이 온라인 커뮤니티를 강타했다. 6일 국내 최대 규모의 온라인 커뮤니티 ‘보배드림’에는 아파트 내 흡연 문제로 골머리를 앓고 있다는 한 네티즌의 사연이 공개됐다. ‘아파트에서 흡연하는 사람을 어떻게 해야 할까요?’라는 제하의영국 런던에서 5일(현지시간) 열린 ‘프라이드 퍼레이드’(성소수자 인권 행진)에 수천명의 사람들이 운집한 가운데 유명한 성소수자 인사들이 “트랜스젠더가 빌런(악당)으로 몰리고 있다”라며 우려를 표했다. 영국 가디언 보도에 따르면 영국의 유명 가수 겸 배우 올리 알렉산더는 PA통신사와의 인터뷰에서 “지금 트랜스젠더들은 그 어느 때보다 우리의 지지와 사랑이 필넷마블이 신작 다중접속역할수행게임(MMORPG) ‘뱀피르’의 디렉터스 코멘터리 경쟁편을 공개했다고 밝혔다. 이번 ‘디렉터스 코멘터리’는 게임 개발사 넷마블네오의 한기현 뱀피르 총괄 PD를 비롯해 개그맨 유민상, 인플루언서 ‘불도그’와 ‘수삼’ 등이 참여해 뱀피르의 경쟁 시스템을 살펴보고 의견을 나누는 모습을 담았다. 이번에 공개된 뱀피르의 경쟁 시스템은 플충북의 한 대학교 복학생 A씨(20대)가 5살 어린 여자친구 B씨에게 24가지 ‘지시 사항’을 요구하며 폭행과 가스라이팅(심리적 지배)를 한 혐의로 징역 3년을 선고받았다. A씨는 2022년 7월 학교에서 B씨를 만나 교제를 이어왔다. A씨는 B씨가 지인을 뒷담화 한 사실을 주위에 알리겠다고 협박해 교제 한 달 만에 이를 B씨 손으로 직접 쓰게 했다. 악몽‘러브버그’로 불리는 붉은등우단털파리의 대량 출현으로 대한민국이 연일 시끄럽다. 시민 불편을 외면하는 관(官)의 권위주의적 태도나, 시민 불안을 상업적으로 이용하는 행태 등이 적나라하게 드러났다. 러브버그는 조만간 자연 소멸하겠지만, 방역과 방제 이상의 다양한 사회적 숙제를 남길 전망이다. 러브버그를 둘러싼 대표적인 논란은 인천 계양구청장의 “국민들이 좀회사소개고충처리신문구독기사제보콘텐츠제휴광고안내개인정보취급방침청소년보호정책(책임자 : 박양수)서울특별시 중구 새문안로2202) 3701-5500등록번호 : 서울 아01699등록일자 : 2011.07.15발행일 : 2000.03.03발행인/편집인 : 박학용THE DIGITALTIMES Copyright ⓒ The DigitalTimes. All Rights Reserved. 02) 3701-5500 Please forward any\n",
      "comment to webmaster회사소개개인정보 취급방침찾아오시는길주소 : 서울특별시 중구 새문안로22전화 : 02) 3701-5500  |  FAX : 02) 3701-5333등록번호 : 서울 아01699  |  등록일자 : 2011.07.15발행일 : 2000.03.03  |  발행인/편집인 : 박학용청소년보호정책(책임자 : 박양수)Copyright © 디지털타임스. All rights reserved.' metadata={'source': 'https://www.dt.co.kr/article/12002196', 'title': '한국전파진흥협회, AWS와 ‘AI 스쿨’ 운영 AI 인재 양성 | 디지털타임스', 'description': '과학기술정보통신부 산하 한국전파진흥협회(RAPA)가 아마존웹서비스코리아(AWS)와 협력해 AI 인재 양성에 나선다.  협회는 클라우드, 컨테이너, 딥러닝 기술을 통합해 AI 서비스를 기획, 개발, 배포, 운영하는 실무형 교육과정을 운영하는 ‘AWS AI School’을 국내 최초로 개소', 'language': 'ko'}\n",
      "-------------------------\n",
      "page_content='한국전파진흥협회、AWS와 협력해 'AWS AI School' 국내 최초 개소.. AI 플랫폼 구축 및 운영 인재 양성 < 산업 < 기사본문 - 이슈앤비즈주요서비스 바로가기본문 바로가기매체정보 바로가기로그인 바로가기기사검색 바로가기전체서비스 바로가기상단영역2025-07-07 11:10 (월)로그인회원가입제보헤드라인비즈이슈스타트업오피니언전체메뉴 버튼닫기산업스타트업금융정치·사회지역글로벌라이프보도자료오피니언사람기사제보종합인사부고로그인회원가입제보전체기사기사검색검색본문영역이전 기사보기다음 기사보기한국전파진흥협회、AWS와 협력해 'AWS AI School' 국내 최초 개소.. AI 플랫폼 구축 및 운영 인재 양성바로가기복사하기본문 글씨 줄이기본문 글씨 키우기스크롤 이동 상태바현재위치홈산업한국전파진흥협회、AWS와 협력해 'AWS AI School' 국내 최초 개소.. AI 플랫폼 구축 및 운영 인재 양성기자명김하성 기자입력 2025.07.07 10:20댓글 0바로가기복사하기본문 글씨 줄이기본문 글씨 키우기SNS 기사보내기페이스북(으)로 기사보내기트위터(으)로 기사보내기카카오스토리(으)로 기사보내기URL복사(으)로 기사보내기이메일(으)로 기사보내기다른 공유 찾기기사스크랩하기이 기사를 공유합니다페이스북(으)로 기사보내기트위터(으)로 기사보내기카카오스토리(으)로 기사보내기URL복사(으)로 기사보내기닫기엔드투엔드 AI 서비스 구현을 위한 ‘AWS AI 서비스 개발자 실전 트랙’ 오픈/사진=한국전파진흥협회[이슈앤비즈 김하성 기자]과학기술정보통신부 산하 한국전파진흥협회(RAPA)는 아마존웹서비스코리아(AWS)와 협력하여, 클라우드, 컨테이너, 딥러닝 기술을 통합해 AI 서비스를 기획, 개발, 배포, 운영하는 실무형 교육과정을 운영하는 'AWS AI School'을 국내 최초로 개소했다.7일 한국전파진흥협회에 따르면 AWS AI School에서는 네트워크, 리눅스, 백엔드/프론트엔드 등 IT 인프라 기초부터 시작해, 컨테이너(Docker, Kubernetes), CI/CD 자동화와 같은 클라우드 환경의 핵심 기술을 탄탄하게 다룬다.이를 기반으로 자연어 처리(NLP), 대형언어모델(LLM)을 포함한 최신 딥러닝 기술과, 벡터 임베딩, RAG(Retrieval-Augmented Generation) 등 생성형 AI 기술을 실제 서비스에 적용하고 안정적으로 운영할 수 있는 AI 플랫폼 융합 전문가 양성을 목표로 한다.교육과정은 단순한 모델 개발을 넘어, 실제 서비스 구현과 안정적인 운영까지 가능한 인프라 역량까지 아우르는 것이 특징이다. AWS의 플랫폼 기반 커리큘럼을 통해 클라우드, 컨테이너, 딥러닝 기술을 유기적으로 연결하여 실무에 필요한 AI 개발의 전체 흐름을 엔드투엔드(End-To-End)로 학습할 수 있도록 설계됐다.전체 커리큘럼은 Amazon Bedrock, Titan Embedding, SageMaker Studio 등 AWS의 최신 AI 서비스 및 도구들을 직접 활용하며, 클라우드 기반의 프라이빗 LLM 구축, 문서 기반 질의응답 시스템(QA), 검색기반 생성(RAG) 챗봇 개발 등 기업 현장에서 요구되는 핵심 AI 프로젝트를 실습 중심으로 수행한다.특히 데이터 수집 및 전처리부터 모델 학습, 평가 및 배포에 이르기까지 AI 개발 사이클 전반을 실제로 경험하며 감정 분석, 문서 분류, 요약 등 자연어 처리 기반 신경망 기술과 Transformer, BERT 기반 텍스트 임베딩, 프롬프트 설계, 하이퍼파라미터 조정 등의 고급 기술까지 폭넓게 다룬다.교육은 총 15개 교과목, 약 1040시간으로 구성돼 있으며 이에 과정의 특장점을 살펴보면 첫째, AI 서비스 구현을 위한 핵심 IT 인프라 역량을 강화한다. 네트워크, 리눅스 시스템 운영, 백엔드/프론트엔드 아키텍처 및 고성능 서버 개발 등 AI 서비스가 구동되는 기반 환경을 이해하고 구축하는 능력을 함양한다.둘째, 클라우드 및 컨테이너 기반의 효율적인 AI 개발 환경 구축 및 운영 능력을 배양한다. Docker, Kubernetes, CI/CD 자동화 도구를 활용한 배포 실습은 물론, AWS DVA(Developer – Associate) 자격증 대비 교육을 통해 클라우드 기반 AI 플랫폼 설계 역량을 확보할 수 있다.셋째, 생성형 AI를 포함한 딥러닝 기술을 실제 AI 서비스에 적용하는 실무 능력을 체득한다. 머신러닝 및 데이터 분석 기초 위에, BERT, RNN, 신경망 파인튜닝, 감성분석 등 최신 딥러닝 기법과 텍스트 전처리 기술을 통해 AI 언어모델의 구조와 작동 원리를 실제로 구현해보도록 했다. 또한, Practical Data Science with SageMaker, Developing Generative AI Applications 등 AWS 공인 교육을 통해 최신 AI 기술을 심화 학습한다.본 과정은 고용노동부의 'K-디지털 트레이닝' 첨단산업‧디지털선도기업아카데미 사업의 일환으로, 한국전파진흥협회 가산DX캠퍼스에서 운영된다. 1기는 2025년 7월 중순부터 2026년 2월까지, 2기는 2025년 12월부터 26년 5월까지 진행되며, 각 기수당 30명, 총 60명을 선발해 약 6.5개월간의 집체 오프라인 집중교육으로 운영된다.내일배움카드를 소지하고 있으면 본 과정에 신청할 수 있으며, 교육생 전원에게는 AWS의 공인 AI 교육과정 및 AI 전문자격 시험 응시 기회가 무료로 제공된다. 또한, 현직 AWS 솔루션즈 아키텍트의 프로젝트 멘토링과 기술 전문가의 실무 지도를 통해 현업 환경에 근접한 실질적 개발 역량을 직접 체득할 수 있도록 지원할 예정이다.아울러, 수료생에게는 AWS에서 주관하는 공식 컨퍼런스 및 AWS 파트너사의 잡페어(채용 연계 행사) 참가 기회도 제공되어, 교육 이후 실질적 커리어 전환의 발판이 될 전망이다.본 과정을 기획한 AWS Korea 관계자에 따르면 \"이번 과정을 통해 수강생들은 탄탄한 클라우드 및 컨테이너 기반 위에서 생성형 AI 실무 역량을 직접 배양하고, Amazon Bedrock, Titan Embedding, SageMaker 등 AWS의 AI 플랫폼을 활용해 NLP 기반 문서 분석, 임베딩 검색, RAG 기반 챗봇 등을 실습하게 된다\"며 \"AI 서비스를 기획부터 개발, 배포, 운영까지 전반적으로 수행할 수 있는 AI 플랫폼 융합 현장형 인재로 빠르게 성장할 수 있도록 적극 지원하겠다\"고 밝혔다.또한, 한국전파진흥협회 관계자는 \"이번 'AWS AI School'은 IT 인프라, 클라우드, 컨테이너, 딥러닝, 생성형 AI 기술을 통합하여 기획, 설계, 개발, 배포, 운영까지 포괄하는 실무 중심 프로젝트형 과정으로 구성되었으며 클라우드에 기반한 AI 시대에 즉시 투입 가능한 AI 플랫폼 융합 개발자로 성장하기 위한 핵심 교육이 될 것\"이라고 전했다.앞서 한국전파진흥협회는 2022년부터 ‘AWS Cloud School’을 운영하며 10개 기수를 성공적으로 배출했으며, 수료생들은 EC2, S3, Kubernetes, Terraform 등 아마존 클라우드 핵심 기술을 바탕으로 DevOps 실무 역량을 갖춘 인재로 성장했다. 이들은 삼성전자, KT, LG유플러스 등 주요 기업은 물론 AWS 파트너사, 그리고 AWS 해외 지사에도 다수 취업하는 성과를 이뤘다.이번 ‘AWS AI School’은 이러한 성과를 바탕으로, 기초 인프라부터 클라우드 기반의 최신 AI 서비스 구현까지 아우르는 고급 실무형 인재양성 과정으로 새롭게 자리매김할 예정이다.현재 교육생은 모집 중이며, 교육은 오는 22일부터 2026년 2월까지 진행된다. 자세한 내용은 한국전파진흥협회 DX캠퍼스 홈페이지로 문의하면 안내받을 수 있다.김하성 기자sungkim61@issuenbiz.com다른기사 보기저작권자 © 이슈앤비즈 무단전재 및 재배포 금지당신만 안 본 뉴스댓글삭제삭제한 댓글은 다시 복구할 수 없습니다.그래도 삭제하시겠습니까?비밀번호삭제닫기기사 댓글0댓글 접기댓글입력 권한이 없습니다.댓글 내용입력0/ 400비회원 로그인이름비밀번호댓글 내용입력0/ 400등록댓글쓰기계정을 선택하시면 로그인·계정인증을 통해댓글을 남기실 수 있습니다.회원 로그인이름비밀번호자동등록방지확인취소로그인 옵션 창닫기주요기사최신뉴스산업넥스트젠, 기술특례상장을 위한 기술성 평가 통과...2026년 상반기 코스닥 상장 목표산업LG전자, 2분기 매출액 20조 7400억·영업이익 6391억원금융교보생명, 사망보험금 6배까지 커지는 ‘교보밸류업종신보험’ 출시산업쿠팡, '2025 상반기 어워즈' 발표…7000개 우수 상품 선정금융[특징주]코로나19 관련 테마 종목 그린생명과학·파루 장초반 주가 하락세포토뉴스인기뉴스1LG엔솔 2분기 영업이익 4922억원…전년동기대비 152%↑2[특징주] 새정부 첫 추경에 소비쿠폰 예산 반영...장초반 코아아이 웹케시등 지역화폐주가 강세3[특징주]이차전지 주가 장초반 삼성SDI 에코프로 포스코퓨처엠 등 하락...LG에너지솔루션 2%대 상승세4[기상속보]'소서' 오늘날씨 무더위 속 내륙 곳곳 5∼40㎜ 소나기 서울 낮 32도 대구 37도 전국 폭염특보5이번주 뉴욕증시, 트럼프 관세 서한·FOMC 의사록 '초미관심'...국제유가 美-이란 핵 협상 재개 기대에 하락6[특징주] 싸이닉솔루션, 코스닥 상장 첫날 장초반 주가 공모가 대비 130% 이상 급등7[특징주]코로나19 관련 테마 종목 그린생명과학·파루 장초반 주가 하락세8[특징주]자율주행로봇 사업 분할...로보티즈 주가 장초반 3%대 상승세하단영역하단메뉴매체소개기사제보광고문의이용약관개인정보처리방침청소년보호정책저작권보호정책이메일무단수집거부매체정보제호 : 이슈앤비즈발행일 : 2019-09-01대표전화 : 010-5160-1778서울특별시 중구 남대문로 116 , 4층(남대문로1가)팩스 : 02-701-1778등록번호 : 서울,아52491등록일 : 2019-07-19발행인 : 박난영편집인 : 김하성청소년보호책임자 : 현귀자Copyright © 2025 이슈앤비즈.Allrights reserved. mail toib@issuenbiz.com위로전체메뉴전체기사산업전체스타트업금융정치·사회전체지역글로벌라이프보도자료오피니언전체사람기사제보종합전체인사부고전체메뉴닫기' metadata={'source': 'http://www.issuenbiz.com/news/articleView.html?idxno=63211', 'title': \"한국전파진흥협회、AWS와 협력해 'AWS AI School' 국내 최초 개소.. AI 플랫폼 구축 및 운영 인재 양성 < 산업 < 기사본문 - 이슈앤비즈\", 'description': \"[이슈앤비즈 김하성 기자]과학기술정보통신부 산하 한국전파진흥협회(RAPA)는 아마존웹서비스코리아(AWS)와 협력하여, 클라우드, 컨테이너, 딥러닝 기술을 통합해 AI 서비스를 기획, 개발, 배포, 운영하는 실무형 교육과정을 운영하는 'AWS AI School'을 국내 최초로 개소했다.7일 한국전파진흥협회에 따르면 AWS AI School에서는 네트워크, 리눅스, 백엔드/프론트엔드 등 IT 인프라 기초부터 시작해, 컨테이너(Docker, Kubernetes), CI/CD 자동화와 같은 클라우드 환경의 핵심 기술을 탄탄하게 다룬다. 이\", 'language': 'ko'}\n",
      "-------------------------\n"
     ]
    },
    {
     "name": "stderr",
     "output_type": "stream",
     "text": [
      "\n"
     ]
    }
   ],
   "source": [
    "# 웹 페이지 내용 비동기로 읽어 오기\n",
    "# 랭체인의 WebBaseLoader를 사용하여 웹 페이지의 내용 불러오기\n",
    "from langchain_community.document_loaders import WebBaseLoader\n",
    "\n",
    "# WebBaseLoader 객체를 생성. 'links'는 웹 페이지의 URL 목록을 담고 있는 변수\n",
    "# bs_get_text_kwargs는 BeautifulSoup의 get_text() 메서드에 전달될 추가 인자\n",
    "loader = WebBaseLoader(\n",
    "    web_path=links,\n",
    "    bs_get_text_kwargs={\n",
    "        \"strip\": True, # 웹 페이지에서 텍스트를 가져올 때 앞뒤의 공백 제거\n",
    "    }\n",
    ")\n",
    "\n",
    "# 비동기로 웹 페이지의 내용을 로드하고, 각 문서를 page_contents 리스트에 추가\n",
    "page_contents = [] # 페이지 내용을 저장할 리스트\n",
    "async for doc in loader.alazy_load():\n",
    "    page_contents.append(doc) # 불러온 문서를 page_contents 리스트에 추가\n",
    "\n",
    "# page_contents에 있는 각 웹 페이지의 내용 출력\n",
    "for content in page_contents:\n",
    "    print(content)\n",
    "    print('-------------------------')\n"
   ]
  },
  {
   "cell_type": "markdown",
   "id": "1de0ff58",
   "metadata": {},
   "source": [
    "### 뷰티풀수프를 이용해 특정 영역만 가져오기"
   ]
  },
  {
   "cell_type": "code",
   "execution_count": 14,
   "id": "669e4364",
   "metadata": {},
   "outputs": [],
   "source": [
    "# 주어진 URL에서 텍스트를 가져오는 함수 만들기\n",
    "import requests\n",
    "from bs4 import BeautifulSoup\n",
    "\n",
    "def get_article_text(url):\n",
    "    try:\n",
    "        # URL에 GET 요청을 보냄\n",
    "        response = requests.get(url)\n",
    "        # 요청이 성공하지 못하면 예외를 발생\n",
    "        response.raise_for_status()\n",
    "\n",
    "        # BeautifulSoup를 사용하여 HTML 내용 파싱\n",
    "        soup = BeautifulSoup(response.content, 'html.parser')\n",
    "\n",
    "        # 클래스가 'stroy-new article'인 <article> 태그 찾기 (내가 찾은 기사에 맞게 조정)\n",
    "        article = soup.find('div', class_='page-container-content')\n",
    "\n",
    "        # 기사를 찾았다면 그 텍스트를 반환\n",
    "        if article:\n",
    "            return article.get_text(strip=True)\n",
    "        else:\n",
    "            try:\n",
    "                # 기사에 해당되는 태그를 찾지 못했을 경우 첫번째 <article> 태그의 내용을 반환\n",
    "                if soup.find('article'):\n",
    "                    return soup.find('article').get_text(strip=True)\n",
    "                elif soup.find(\"div\", id=\"sun-editor-editable\"):\n",
    "                    return soup.find(\"div\", id=\"sun-editor-editable\").get_text(strip=True)\n",
    "            except:\n",
    "                return \"기사 내용을 찾을 수 없습니다.\"\n",
    "            \n",
    "    except requests.exceptions.RequestException as e:\n",
    "        return f\"URL을 가져오는 중 오류 발생: {e}\""
   ]
  },
  {
   "cell_type": "code",
   "execution_count": 15,
   "id": "3d72bafe",
   "metadata": {},
   "outputs": [
    {
     "name": "stdout",
     "output_type": "stream",
     "text": [
      "URL: https://cse.snu.ac.kr/community/news/1191\n",
      "\n",
      "Content:\n",
      "None\n",
      "---------------------------------------------\n",
      "URL: https://gsds.snu.ac.kr/이재진-교수-연구팀-고성능-한국어-llm-llama-thunder-개발/\n",
      "\n",
      "Content:\n",
      "(왼쪽부터) 손영준 서울대 데이터사이언스대학원 박사과정생, 소연경 박사과정생, 박찬우 석사과정생, 이재진 교수, 김진표 박사과정생, 석지헌 박사과정생, 조경제 박사과정생, 박종원 석사과정생, 김종민 박사과정생서울대 데이터사이언스대학원 이재진 교수 연구팀이 고성능 한국어 특화 거대언어모델(LLM) ‘Llama-Thunder-LLM’, 한국어 전용 토크나이저 ‘Thunder-Tok’, LLM 평가용 벤치마크 ‘Thunder-LLM’을 개발했습니다.이번 연구는 영어 기반 LLM ‘Llama’를 바탕으로 3TB 규모의 한국어 웹 데이터를 수집·전처리하고, 연속 학습 및 사후 학습 기법을 적용해 중국의 ‘딥시크(DeepSeek)’처럼 제한된 자원으로도 고성능 LLM을 개발할 수 있음을 입증했습니다.특히 한국어 문법 특성을 반영한 Thunder-Tok은 기존 대비 약 44%의 토큰 수 절감을 통해 학습 및 추론 효율을 크게 향상시켰으며, 자체 구축한 벤치마크를 통해 한국어 LLM의 성능을 객관적이고 체계적으로 평가할 수 있는 기반도 마련했습니다.연구 성과는 ‘초거대 AI모델 및 플랫폼 최적화 센터’웹페이지에 공개되었습니다.관련기사\n",
      "---------------------------------------------\n",
      "URL: https://www.dt.co.kr/article/12002196\n",
      "\n",
      "Content:\n",
      "URL을 가져오는 중 오류 발생: 403 Client Error: Forbidden for url: https://www.dt.co.kr/article/12002196\n",
      "---------------------------------------------\n",
      "URL: http://www.issuenbiz.com/news/articleView.html?idxno=63211\n",
      "\n",
      "Content:\n",
      "닫기\n",
      "---------------------------------------------\n"
     ]
    }
   ],
   "source": [
    "# 주어진 URL에서 텍스트 가져오기\n",
    "articles = [] # 가져온 내용을 리스트에 담는 변수 선언\n",
    "for link in links:\n",
    "    print(f\"URL: {link}\\n\")\n",
    "    article_text = get_article_text(link)\n",
    "    print(f\"Content:\\n{article_text}\")\n",
    "    print(\"---------------------------------------------\")\n",
    "    articles.append(article_text)"
   ]
  },
  {
   "cell_type": "code",
   "execution_count": 20,
   "id": "f40f3c3b",
   "metadata": {},
   "outputs": [
    {
     "name": "stdout",
     "output_type": "stream",
     "text": [
      "content=\"최근 한국에서 고성능 딥러닝 모델이 개발되고 있습니다. 예를 들어, 서울대학교 이재진 교수 연구팀은 한국어를 위한 고성능 '거대 언어 모델 (LLM)'을 개발했습니다. 이 모델은 영어 기반 LLM인 'Llama'를 바탕으로 하여, 3TB 규모의 한국어 웹 데이터를 수집 및 전처리하고, 연속 학습 및 사후 학습 기법을 적용하여 구성되었습니다. 이와 같은 연구는 한국어 자연어 처리 분야에서 중요한 진전을 이룩하고 있습니다.\" additional_kwargs={'refusal': None} response_metadata={'token_usage': {'completion_tokens': 124, 'prompt_tokens': 552, 'total_tokens': 676, 'completion_tokens_details': {'accepted_prediction_tokens': 0, 'audio_tokens': 0, 'reasoning_tokens': 0, 'rejected_prediction_tokens': 0}, 'prompt_tokens_details': {'audio_tokens': 0, 'cached_tokens': 0}}, 'model_name': 'gpt-4o-mini-2024-07-18', 'system_fingerprint': 'fp_34a54ae93c', 'id': 'chatcmpl-BqVniui8YQMBKjHXSKF73Z5YowSGw', 'service_tier': 'default', 'finish_reason': 'stop', 'logprobs': None} id='run--9852114a-81ff-4990-b4d3-81619a11a09c-0' usage_metadata={'input_tokens': 552, 'output_tokens': 124, 'total_tokens': 676, 'input_token_details': {'audio': 0, 'cache_read': 0}, 'output_token_details': {'audio': 0, 'reasoning': 0}}\n"
     ]
    }
   ],
   "source": [
    "# 답변 생성하기\n",
    "chat_history.add_user_message(\"한국의 딥러닝 모델\")\n",
    "\n",
    "# 문서 검색하고 답변 생성\n",
    "answer = document_chain.invoke(\n",
    "    {\n",
    "        \"messages\": chat_history.messages,\n",
    "        \"context\": docs,\n",
    "    }\n",
    ")\n",
    "\n",
    "chat_history.add_ai_message(answer)\n",
    "print(answer)"
   ]
  }
 ],
 "metadata": {
  "kernelspec": {
   "display_name": "venv",
   "language": "python",
   "name": "python3"
  },
  "language_info": {
   "codemirror_mode": {
    "name": "ipython",
    "version": 3
   },
   "file_extension": ".py",
   "mimetype": "text/x-python",
   "name": "python",
   "nbconvert_exporter": "python",
   "pygments_lexer": "ipython3",
   "version": "3.12.9"
  }
 },
 "nbformat": 4,
 "nbformat_minor": 5
}
