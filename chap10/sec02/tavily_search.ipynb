{
 "cells": [
  {
   "cell_type": "markdown",
   "id": "9728b1ab",
   "metadata": {},
   "source": [
    "### 타빌리 검색은 첫 1000번의 api 콜은 무료, .env에 적어둠"
   ]
  },
  {
   "cell_type": "code",
   "execution_count": null,
   "id": "0fb405a4",
   "metadata": {},
   "outputs": [],
   "source": [
    "# 타빌리 설치\n",
    "%pip install tavily-python"
   ]
  },
  {
   "cell_type": "code",
   "execution_count": null,
   "id": "512cb8d4",
   "metadata": {},
   "outputs": [],
   "source": [
    "from langchain_community.tools import TavilySearchResults\n",
    "\n",
    "tavily_search = TavilySearchResults(\n",
    "    max_results=5,\n",
    ")"
   ]
  },
  {
   "cell_type": "code",
   "execution_count": null,
   "id": "b4b6b38f",
   "metadata": {},
   "outputs": [],
   "source": [
    "# tavily에 질문\n",
    "res = tavily_search.invoke({\"query\": \"2025 한국 경제 전망\"})\n",
    "for r in res:\n",
    "    print(r)"
   ]
  },
  {
   "cell_type": "code",
   "execution_count": null,
   "id": "91540c6a",
   "metadata": {},
   "outputs": [],
   "source": [
    "# 주피터 노트북에서 보기 좋게 출력\n",
    "from IPython.display import JSON\n",
    "JSON(res).data"
   ]
  },
  {
   "cell_type": "code",
   "execution_count": null,
   "id": "6f2b9be1",
   "metadata": {},
   "outputs": [],
   "source": [
    "# 웹 페이지 전문 불러오기\n",
    "from tavily import TavilyClient\n",
    "\n",
    "client = TavilyClient()\n",
    "\n",
    "content = client.search(\n",
    "    \"2025년 한국 경제 전망\",\n",
    "    search_depth=\"advanced\", # basic 보다 정확하고 깊이 있는 검사\n",
    "    include_raw_content=True,\n",
    ")\n",
    "\n",
    "JSON(content).data"
   ]
  },
  {
   "cell_type": "markdown",
   "id": "4a30719b",
   "metadata": {},
   "source": [
    "### 인터넷에서 자료 조사 후 기사 쓰는 기자 만들기"
   ]
  },
  {
   "cell_type": "code",
   "execution_count": null,
   "id": "4435142a",
   "metadata": {},
   "outputs": [],
   "source": [
    "# 질문에 대한 자료 검색하기\n",
    "from langchain.adapters.openai import convert_openai_messages\n",
    "from langchain_openai import ChatOpenAI\n",
    "\n",
    "llm = ChatOpenAI(model=\"gpt-4o-mini\")\n",
    "\n",
    "# 질문에 대한 자료를 TavilyClient로 가져오기\n",
    "query = \"현대자동차 미국 시장 2025년 전망\"\n",
    "\n",
    "content = client.search(\n",
    "    query,\n",
    "    include_raw_content=True,\n",
    "    search_depth=\"advanced\", # basic 보다 정확하고 깊이 있는 검사\n",
    ")[\"results\"]"
   ]
  },
  {
   "cell_type": "code",
   "execution_count": null,
   "id": "581953f1",
   "metadata": {},
   "outputs": [],
   "source": [
    "# 프롬프트 설정\n",
    "prompt = [{\n",
    "    \"role\": \"system\",\n",
    "    \"content\": (\n",
    "        \"당신은 신문 기사를 쓰는 기자 AI입니다. \\n\"\n",
    "        \"당신은 주어진 정보를 바탕으로 객관적이고 체계적으로 작성된 기사를 써야 합니다. \\n\"\n",
    "    )\n",
    "}, {\n",
    "    \"role\": \"user\",\n",
    "    \"content\": (\n",
    "        f'정보: \"\"\"{content}\"\"\"\\n\\n'\n",
    "        f'위의 정보를 사용하여, 다음 질문에 대해 자세한 보고서를 한국어로 작성하세요.: \"{query}\" \\n'\n",
    "        '-신문 기사 형식을 사용하되, MLA 표준을 준수하는 markdown 문법을 사용해주세요.'\n",
    "        '-활용한 자료는 출처를 명시하세요.'\n",
    "    )\n",
    "}]"
   ]
  },
  {
   "cell_type": "code",
   "execution_count": null,
   "id": "b553797f",
   "metadata": {},
   "outputs": [],
   "source": [
    "# 오픈ai를 랭체인으로 실행하고 출력하기\n",
    "report = llm.invoke(prompt).content\n",
    "print(report)\n",
    "\n",
    "# 셀 실행 결과를 copy cell output으로 저장하고 .md 파일에 저장, ai 뉴스 생성 사이트 제외가 잘 안되네."
   ]
  }
 ],
 "metadata": {
  "kernelspec": {
   "display_name": "venv",
   "language": "python",
   "name": "python3"
  },
  "language_info": {
   "codemirror_mode": {
    "name": "ipython",
    "version": 3
   },
   "file_extension": ".py",
   "mimetype": "text/x-python",
   "name": "python",
   "nbconvert_exporter": "python",
   "pygments_lexer": "ipython3",
   "version": "3.12.9"
  }
 },
 "nbformat": 4,
 "nbformat_minor": 5
}
