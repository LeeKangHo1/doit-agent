{
 "cells": [
  {
   "cell_type": "code",
   "execution_count": 1,
   "id": "0116a643",
   "metadata": {},
   "outputs": [
    {
     "name": "stdout",
     "output_type": "stream",
     "text": [
      "Loading existing Chroma store\n"
     ]
    }
   ],
   "source": [
    "from langchain_core.prompts import PromptTemplate\n",
    "from pydantic import BaseModel, Field\n",
    "from typing import Literal\n",
    "from data_setup import model, retriever"
   ]
  },
  {
   "cell_type": "code",
   "execution_count": 2,
   "id": "84d53083",
   "metadata": {},
   "outputs": [],
   "source": [
    "# yes or no로 청크 거르는 클래스\n",
    "class GradeDocuments(BaseModel):\n",
    "    \"\"\"검색된 문서가 질문과 관련이 있는지 'yes' 또는 'no로 평가합니다.\"\"\"\n",
    "\n",
    "    binary_score: Literal[\"yes\", \"no\"] = Field(\n",
    "        # description 생략\n",
    "    )\n",
    "\n",
    "structured_llm_grader = model.with_structured_output(GradeDocuments)"
   ]
  },
  {
   "cell_type": "code",
   "execution_count": 3,
   "id": "cb6a1e8a",
   "metadata": {},
   "outputs": [],
   "source": [
    "# grade 프롬프트 작성\n",
    "grader_prompt = PromptTemplate.from_template(\"\"\"\n",
    "당신은 검색된 문서가 사용자 질문과 관련이 있는지 평가하는 평가자입니다. \\n\n",
    "문서에 사용자 질문과 관련된 키워드 또는 의미가 포함되어 있으면, 해당 문서를 관련성이 있다고 평가하십시오. \\n\n",
    "엄격한 테스트가 필요하지 않습니다. 목표는 잘못된 검색 결과를 걸러내는 것입니다. \\n\n",
    "문서가 질문과 관련이 있는지 여부를 나타내기 위해 'yes' 또는 'no'로 이진 점수를 부여하십시오      \n",
    "\n",
    "Retrieved document: \\n {document} \\n\\n\n",
    "User question: {question}                                                                                                                                                                                                                              \n",
    "\"\"\")\n",
    "\n",
    "retrieval_grader = grader_prompt | structured_llm_grader"
   ]
  },
  {
   "cell_type": "code",
   "execution_count": 4,
   "id": "8704b078",
   "metadata": {},
   "outputs": [
    {
     "name": "stdout",
     "output_type": "stream",
     "text": [
      "page_content='54제2장 미래상과 목표\n",
      "5. 기술발전에 선제적 대응, ‘미래교통 인프라 구축’1) 배경미래교통수단 도입에 따른 도시 활동 변화 및 공간구조 재편 대비Ÿ빠르게 진화하는 미래 신 교통수단은 도시공간에 새로운 변화를 일으킬 것이며, 도시 내 이동패턴의 변화를 가져올 것으로 예측된다. 이러한 점을 고려하여 도시 내 다양한 통행행태가 공존하는 포용적인 교통체계 구축을 준비해야 한다.미래교통수단 정착을 위한 도시 인프라 확충지원 필요Ÿ기존에 없던 새로운 교통은 통상 인프라 구축에 많은 시간이 소요되기 때문에 교통수단이 도입된 이후에 준비하기보다는 개발단계에서부터 이를 지원하기 위한 교통인프라 구축 구상이 요구되며, 새로운 도시 인프라 확충에 대한 도시계획적 지원이 필요하다.2) 추진전략자율주행 자동차 본격 운영 체계 구축Ÿ자율주행은 현재 제일 가시화되고 있는 미래 교통기술로 시장의 주도권을 확보하기 위해 각국의 노력이 집중되고 있다. 단계적으로 2030년까지 간선도로급 이상 도로에서 운영할 수 있는 도로 인프라 환경을 조성하고, 2040년까지 서울 전역 자율주행 운행 환경 구축을 목표로 한다.-2040년까지 서울 전역 자율주행차량의 운행 환경을 구축하고 수송 분담률 10%를 달성서울형 도심 항공교통 기반 마련 및 터미널 확충Ÿ도심에서 김포공항까지 시범노선을 운영하는 등 상용화 노선을 확보하고, 장기적으로 한강, 지천 등 주요 수변 공간 중심으로 광역노선을 확보한다. 또한 UAM 인프라 확보를 위한 인센티브 및 도시계획적인 지원 방안도 함께 검토한다.-UAM 시범노선을 운영하고, 한강 등 주요 수변 공간 중심에 단계적 광역노선을 확장서울 전역에 모빌리티 허브 구축Ÿ도심 및 광역거점에 서울 내부와 외부의 연계를 위한 미래 교통과 기존 교통을 연결하는 시설을 도입한다. 또한 교통뿐 아니라 공공서비스, 물류, 상업 등 다양한 기능들이 복합적으로 제공되는 지역 거점 모빌리티 허브를 서울 전역에 도입한다.' metadata={'pdfversion': '1.4', 'source': '../data\\\\2040_seoul_plan.pdf', 'moddate': '2024-12-12T18:16:11+09:00', 'total_pages': 205, 'author': 'SI', 'creator': 'Hwp 2020 11.0.0.5178', 'page': 61, 'page_label': '62', 'creationdate': '2024-12-12T18:16:11+09:00', 'producer': 'Hancom PDF 1.3.0.542'}\n",
      "page_content='36제2장 미래상과 목표\n",
      "6) 미래교통수단의 등장과 첨단 인프라 요구 증대자율주행, UAM 등 미래 교통에 공간적 대응방안 마련 필요Ÿ자율주행차량, 전동킥보드 등 교통 기술의 발전에 따라 새로운 교통환경이 조성되고 있음에도 불구하고, 이에 대한 정착 가이드라인이 없어, 위험한 교통 사고가 유발되고 있다.-최근 3년간 서울시에서 발생한 전동킥보드 관련 사고 대다수는 전동 킥보드와 차량 간 충돌 사고Ÿ안전하고 효율적인 기존-신규 교통수단의 조화를 도모하고, 이와 함께 발생할 도시공간구조 변화에 대비하기 위해 통합적인 교통수단 정착 가이드라인이 필요하다.7) 시가지 공간의 포화, 개발가용지의 부족새로운 도시공간에 대한 수요 대응과 성장동력 확보 한계Ÿ서울의 녹지지역을 제외한 대부분의 개발가용지는 고갈된 상태이며, 남은 공간은 주택공급을 위주로 개발하고 있다.-서울시에서 개발제한구역 25%를 제외하면 65%에 해당하는 시가화면적 366㎢ 중 미개발지는 거의 없는 상태Ÿ외연적 팽창이 아닌, 선택과 집중을 통한 콤팩트 시티로의 공간구조 재편을 지향하고 복합 개발을 통해 약해진 도시경쟁력 강화가 필요한 시점이다.8) 늙어가는 서울, 도시 정비의 정체에 따른 환경 악화정비사업 추진동력 저하, 쾌적한 도시환경에 대한 요구 증대Ÿ2038년 서울시 기반시설 노후화 비율은 2018년 대비 2.7배 급증, 1960~70년대 집중 조성된 기반시설의 노후화에 따른 시설 안전성 확보가 필요하다.-2040년, 서울 전체 주택 중 노후 물량 50%로 추정Ÿ때문에, 쾌적한 도시환경 구축을 위해서는 노후 기반시설로 인한 안전성 검토와 개선비용 증가에 따른 선제적인 대응이 필요하다.\n",
      "[그림 2-19] 서울시 전동킥보드 사고 추이자료: 서울시 소방재난본부' metadata={'creator': 'Hwp 2020 11.0.0.5178', 'creationdate': '2024-12-12T18:16:11+09:00', 'source': '../data\\\\2040_seoul_plan.pdf', 'pdfversion': '1.4', 'page_label': '44', 'total_pages': 205, 'author': 'SI', 'producer': 'Hancom PDF 1.3.0.542', 'moddate': '2024-12-12T18:16:11+09:00', 'page': 43}\n",
      "page_content='제1절 도시공간구조105기능이 공존하는 미래 도심으로 조성-국제 디지털 금융중심지인 여의도·영등포는 한강을 중심으로 한 글로벌 혁신코어 조성-국제 업무 중심지인 강남은 영동대로와 경부간선도로의 입체복합화로 가용지를 확보하여 업무복합기능을 강화 Ÿ수도 서울의 위상 강화를 위해 “광화문~용산~영등포”축을 국가중심공간으로 조성한다.-북악산~청와대~광화문광장~서울역~용산~한강을 잇는 도심축을 보행로·녹지와 연결하며 통합 개발하여 국가상징가로로 조성 Ÿ도심을 보행 중심의 쾌적하고 매력 있는 공간으로 조성하여 장소성을 강화하고 가로를 활성화한다.-3도심에 녹색교통지역 지정 등 보행 중심 공간을 조성하기 위한 다양한 유도·지원방안을 마련하고, 도심의 공원·녹지축 체계, 자전거 등 친환경 교통수단 확대, 한강·지천의 수변명소 간 보행로·신 교통수단 연계 등을 추진도시계획체계 유연화로 도심 가용지 확보 및 복합 개발 추진Ÿ도심의 활력을 제고하기 위하여 높이 기준 유연화, 용적률 기준 완화 등 도시계획적 규제를 유연하게 운영함과 동시에 공공기여 등 공적기능을 확보한다.Ÿ노후 환경 개선이 필요한 구도심에 쾌적한 업무·주거 공간을 제공하고 도심 속 녹지공간을 확충하여 다기능 녹지생태도시를 구현하도록 정비사업 추진 시 적극 지원한다. -노후지역 재정비 시 지역 특성을 고려하며 다양한 활동·기능이 이루어질 수 있도록 지원하고, 기반시설의 입체복합개발을 추진하여 새로운 공간을 창출3도심 간 직결체계 완성을 위하여 광역급행철도망 연계 및 도심 간 이동 수단 다양화Ÿ3도심과 용산의 대중교통 연결성을 강화하고 광역급행노선의 도심 내 정차·환승역의 신설 제안을 검토하여 3+1(서울도심-여의도·영등포-강남-용산)의 직결체계를 완성한다.-도심의 광역접근성을 강화하기 위해 기 계획된 광역급행노선 외에 추가적으로 GTX-A 노선은 광화문·시청역을, GTX-B 노선은 종로3가역 또는 동대문역 신설 제안을 검토Ÿ자전거를 비롯하여 개인용 이동수단(PM), 수상교통, 도심항공교통(UAM) 등 신 이동수단으로' metadata={'page_label': '113', 'creator': 'Hwp 2020 11.0.0.5178', 'page': 112, 'moddate': '2024-12-12T18:16:11+09:00', 'pdfversion': '1.4', 'source': '../data\\\\2040_seoul_plan.pdf', 'total_pages': 205, 'author': 'SI', 'producer': 'Hancom PDF 1.3.0.542', 'creationdate': '2024-12-12T18:16:11+09:00'}\n",
      "page_content='광화문·시청역을, GTX-B 노선은 종로3가역 또는 동대문역 신설 제안을 검토Ÿ자전거를 비롯하여 개인용 이동수단(PM), 수상교통, 도심항공교통(UAM) 등 신 이동수단으로 도심 간 연결 수단을 다양화하고, 교통수단 상용화에 필요한 인프라를 구축한다.-여의도~잠실종합운동장, 남산공원~용산공원~용산역(정비창)~여의도 등을 연결하는 신 이동수단의 인프라 신설을 검토하여 글로벌 비즈니스 편의와 관광 매력을 증진' metadata={'total_pages': 205, 'author': 'SI', 'creationdate': '2024-12-12T18:16:11+09:00', 'page': 112, 'pdfversion': '1.4', 'page_label': '113', 'source': '../data\\\\2040_seoul_plan.pdf', 'producer': 'Hancom PDF 1.3.0.542', 'moddate': '2024-12-12T18:16:11+09:00', 'creator': 'Hwp 2020 11.0.0.5178'}\n",
      "page_content='제3절 권역별 구상147보행 중심 교통체계 전환을 위한 친환경 교통 인프라 구축 및 제도 개선 Ÿ주차상한제 강화, 공해 차량 통행 제한 확대, 탄력적인 주차요금제 적용 등으로 도심 내 승용차 수요관리 체계를 정립하고 도심 우회도로를 조속히 확충하여 서울도심 내 도로·교통시설체계를 재편한다.Ÿ신분당선 서북부연장 등 도시철도망을 확대하고 간선급행버스(BRT) 확충 등 버스노선체계를 개편하여 대중교통 접근성을 개선한다.Ÿ개인이동수단(PM), 자전거 등 친환경 교통수단 중심으로 지상 도로를 정비하고 자전거 간선도로(CRT)를 확대 설치하며 보행환경개선지구 지정 및 사업을 추진하여 사람 중심의 교통체계로 개선 및 확대·재편한다.기반시설 입체복합화 등 다양한 방법으로 도심권 생활물류시설 확충Ÿ도심권역에서 생활물류가 원활하게 배송될 수 있도록 공영주차장 등 저이용 기반시설에 대해 물류 복합화를 추진하고, 대규모 정비사업 추진 시 소규모 집배송시설 또는 도심형 물류센터 등이 설치될 수 있도록 인센티브 등을 활용하여 유도한다.4) 공원녹지서울도심을 녹지생태 공간이 가득한 경쟁력 있는 복합도심으로 구축Ÿ지역 특성을 고려한 맞춤형 전략으로 도심 내 다양한 녹지공간을 확보하여 도심의 녹지공간의 비율을 세계 선진 대도시 수준으로 끌어올린다.-정비사업 추진에 따른 녹지공간 조성 시 오픈스페이스 집적·연계를 위한 배치와 개방형 녹지 확대 등을 유도하고 녹지생태 네트워크를 구축-정비사업이 이미 완료된 구역에 대해서는 리모델링 시 공개공지 재조성이나 입체녹화 등으로 녹지공간의 추가 확보를 유도-인사동, 북촌 등 특색 지역에는 장소 맞춤형 보행 녹지 가로 조성을 통한 네트워크를 구축용산공원의 정체성·역사성·상징성 회복을 위한 종합계획 및 적극적 관리방안 수립Ÿ남북녹지축과 동서수경축이 만나는 서울의 지리적 중심인 용산공원을 입지적 중요성과 역사적인 상징성에 따라 시민과 공감대를 형성하여 활용방안을 모색한다.-공원 조성 및 관리 운영 과정에 중앙정부와 협의하여 서울시가 적극적으로 참여' metadata={'author': 'SI', 'pdfversion': '1.4', 'total_pages': 205, 'source': '../data\\\\2040_seoul_plan.pdf', 'page_label': '155', 'creator': 'Hwp 2020 11.0.0.5178', 'creationdate': '2024-12-12T18:16:11+09:00', 'page': 154, 'moddate': '2024-12-12T18:16:11+09:00', 'producer': 'Hancom PDF 1.3.0.542'}\n"
     ]
    }
   ],
   "source": [
    "question = \"서울시 자율주행 관련 계획\"\n",
    "documents = retriever.invoke(question)\n",
    "\n",
    "for doc in documents:\n",
    "    print(doc)"
   ]
  },
  {
   "cell_type": "code",
   "execution_count": 5,
   "id": "7cba1c0b",
   "metadata": {},
   "outputs": [
    {
     "name": "stdout",
     "output_type": "stream",
     "text": [
      "Document 1:\n",
      "binary_score='yes'\n",
      "54제2장 미래상과 목표\n",
      "5. 기술발전에 선제적 대응, ‘미래교통 인프라 구축’1) 배경미래교통수단 도입에 따른 도시 활동 변화 및 공간구조 재편 대비Ÿ빠르게 진화하는 미래 신 교\n",
      "Document 2:\n",
      "binary_score='yes'\n",
      "36제2장 미래상과 목표\n",
      "6) 미래교통수단의 등장과 첨단 인프라 요구 증대자율주행, UAM 등 미래 교통에 공간적 대응방안 마련 필요Ÿ자율주행차량, 전동킥보드 등 교통 기술의 발전\n",
      "Document 3:\n",
      "binary_score='no'\n",
      "제1절 도시공간구조105기능이 공존하는 미래 도심으로 조성-국제 디지털 금융중심지인 여의도·영등포는 한강을 중심으로 한 글로벌 혁신코어 조성-국제 업무 중심지인 강남은 영동대로와 \n",
      "Document 4:\n",
      "binary_score='yes'\n",
      "광화문·시청역을, GTX-B 노선은 종로3가역 또는 동대문역 신설 제안을 검토Ÿ자전거를 비롯하여 개인용 이동수단(PM), 수상교통, 도심항공교통(UAM) 등 신 이동수단으로 도심 \n",
      "Document 5:\n",
      "binary_score='no'\n",
      "제3절 권역별 구상147보행 중심 교통체계 전환을 위한 친환경 교통 인프라 구축 및 제도 개선 Ÿ주차상한제 강화, 공해 차량 통행 제한 확대, 탄력적인 주차요금제 적용 등으로 도심\n",
      "Filtered documents: 3\n"
     ]
    }
   ],
   "source": [
    "# 관련 청크만 리스트에 추가\n",
    "filtered_docs = []\n",
    "\n",
    "for i, doc in enumerate(documents):\n",
    "    print(f\"Document {i+1}:\")\n",
    "    is_relevant = retrieval_grader.invoke({\"question\": question, \"document\": doc.page_content})\n",
    "    print(is_relevant)\n",
    "    print(doc.page_content[:100])\n",
    "\n",
    "    if is_relevant.binary_score == \"yes\":\n",
    "        filtered_docs.append(doc)\n",
    "\n",
    "print(f\"Filtered documents: {len(filtered_docs)}\")"
   ]
  },
  {
   "cell_type": "code",
   "execution_count": 6,
   "id": "c3057846",
   "metadata": {},
   "outputs": [],
   "source": [
    "# RAG 답변 생성을 위한 프롬프트 생성\n",
    "rag_generate_system = \"\"\"\n",
    "너는 사용자의 질문에 대해 주어진 context에 기반하여 답변하는 도시 계획 전문가이다.\n",
    "주어진 context는 vectorstore에서 검색된 결과이다.\n",
    "주어진 context를 기반으로 사용자의 question에 대해 답변하라.\n",
    "\n",
    "=============================\n",
    "question: {question}\n",
    "context: {context}\n",
    "\"\"\"\n",
    "\n",
    "rag_prompt = PromptTemplate(\n",
    "    input_variables=[\"question\", \"context\"],\n",
    "    template=rag_generate_system,\n",
    ")\n",
    "\n",
    "rag_chain = rag_prompt | model"
   ]
  },
  {
   "cell_type": "code",
   "execution_count": 7,
   "id": "03ebbe24",
   "metadata": {},
   "outputs": [
    {
     "data": {
      "text/plain": [
       "AIMessage(content='서울시는 자율주행 자동차를 포함한 미래 교통수단에 대한 포괄적인 계획을 수립하고 있습니다. 이러한 계획의 주요 목표는 2030년까지 간선 도로 이상에서 자율주행 자동차의 운영을 위한 기본 인프라를 구축하고, 2040년까지 서울 전역에서 자율주행차량이 운행될 수 있는 환경을 조성하는 것입니다. 이를 통해 자율주행차의 수송 분담률을 10%에 달하게 할 계획입니다.\\n\\n또한, 서울시는 도심 항공교통(UAM)의 기반 마련 및 터미널 확충도 진행할 예정입니다. 시범노선을 운영하고, 한강 및 주요 수변 공간에 광역 노선을 단계적으로 확장할 계획입니다. 이와 함께, 도심 및 광역거점에 모빌리티 허브를 구축하여 다양한 교통수단과 공공서비스, 물류, 상업 기능들이 통합된 장소를 제공할 계획이기도 합니다.\\n\\n이러한 계획은 자율주행 기술의 발전 및 기타 신교통수단의 필요에 따른 도시 공간 구조의 변화에 적극 대응하고 있으며, 향후 서울의 교통 체계를 더 안전하고 효율적으로 발전시키는데 기여할 것으로 기대됩니다.', additional_kwargs={'refusal': None}, response_metadata={'token_usage': {'completion_tokens': 276, 'prompt_tokens': 1791, 'total_tokens': 2067, 'completion_tokens_details': {'accepted_prediction_tokens': 0, 'audio_tokens': 0, 'reasoning_tokens': 0, 'rejected_prediction_tokens': 0}, 'prompt_tokens_details': {'audio_tokens': 0, 'cached_tokens': 0}}, 'model_name': 'gpt-4o-mini-2024-07-18', 'system_fingerprint': 'fp_34a54ae93c', 'id': 'chatcmpl-BrEbUbvgogK4pWAGhsE7xiabnBVXV', 'service_tier': 'default', 'finish_reason': 'stop', 'logprobs': None}, id='run--ad6f0ff4-ab9c-41cd-917a-e1c76cce01c6-0', usage_metadata={'input_tokens': 1791, 'output_tokens': 276, 'total_tokens': 2067, 'input_token_details': {'audio': 0, 'cache_read': 0}, 'output_token_details': {'audio': 0, 'reasoning': 0}})"
      ]
     },
     "execution_count": 7,
     "metadata": {},
     "output_type": "execute_result"
    }
   ],
   "source": [
    "question = \"서울시 자율주행 관련 계획\"\n",
    "\n",
    "rag_chain.invoke({\"question\": question, \"context\": filtered_docs})"
   ]
  }
 ],
 "metadata": {
  "kernelspec": {
   "display_name": "venv",
   "language": "python",
   "name": "python3"
  },
  "language_info": {
   "codemirror_mode": {
    "name": "ipython",
    "version": 3
   },
   "file_extension": ".py",
   "mimetype": "text/x-python",
   "name": "python",
   "nbconvert_exporter": "python",
   "pygments_lexer": "ipython3",
   "version": "3.12.9"
  }
 },
 "nbformat": 4,
 "nbformat_minor": 5
}
