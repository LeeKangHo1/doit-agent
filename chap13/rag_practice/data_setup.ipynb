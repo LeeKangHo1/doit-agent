{
 "cells": [
  {
   "cell_type": "code",
   "execution_count": 2,
   "id": "0d02213a",
   "metadata": {},
   "outputs": [
    {
     "name": "stdout",
     "output_type": "stream",
     "text": [
      "../data\\2040_seoul_plan.pdf\n",
      "../data\\OneNYC_2050_Strategic_Plan.pdf\n"
     ]
    }
   ],
   "source": [
    "from glob import glob\n",
    "\n",
    "for g in glob('../data/*.pdf'):\n",
    "    print(g)\n"
   ]
  },
  {
   "cell_type": "code",
   "execution_count": 3,
   "id": "03918793",
   "metadata": {},
   "outputs": [],
   "source": [
    "from langchain_community.document_loaders import PyPDFLoader\n",
    "from langchain_text_splitters import RecursiveCharacterTextSplitter\n",
    "\n",
    "def read_pdf_and_split_text(pdf_path, chunk_size=1000, chunk_overlap=100):\n",
    "    \"\"\"\n",
    "    주어진 PDF 파일을 읽고 텍스트를 분할합니다.\n",
    "    \"\"\"\n",
    "    print(f\"PDF: {pdf_path}------------------------\")\n",
    "\n",
    "    pdf_loader = PyPDFLoader(pdf_path)\n",
    "    data_from_pdf = pdf_loader.load()\n",
    "\n",
    "    text_spiltter = RecursiveCharacterTextSplitter(\n",
    "        chunk_size = chunk_size,\n",
    "        chunk_overlap = chunk_overlap,\n",
    "    )\n",
    "\n",
    "    splits = text_spiltter.split_documents(data_from_pdf)\n",
    "\n",
    "    print(f\"Number of splits: {len(splits)}\\n\")\n",
    "    return splits"
   ]
  },
  {
   "cell_type": "code",
   "execution_count": 4,
   "id": "5c6c6c35",
   "metadata": {},
   "outputs": [
    {
     "name": "stdout",
     "output_type": "stream",
     "text": [
      "Loading existing Chroma store\n"
     ]
    }
   ],
   "source": [
    "from langchain_openai import OpenAIEmbeddings\n",
    "from langchain_chroma import Chroma\n",
    "import os\n",
    "\n",
    "# 벡터db 설정\n",
    "embedding = OpenAIEmbeddings(model=\"text-embedding-3-large\")\n",
    "\n",
    "persist_directory='../chroma_store'\n",
    "\n",
    "if os.path.exists(persist_directory):\n",
    "    print(\"Loading existing Chroma store\")\n",
    "    vectorstore = Chroma(\n",
    "        persist_directory=persist_directory,\n",
    "        embedding_function=embedding,\n",
    "    )\n",
    "\n",
    "else:\n",
    "    print(\"Creating new Chroma store\")\n",
    "\n",
    "    vectorstore = None\n",
    "    for g in glob('../data/*.pdf'):\n",
    "        chunks = read_pdf_and_split_text(g)\n",
    "        # 100개씩 나눠서 저장\n",
    "        for i in range(0, len(chunks), 100):\n",
    "            if vectorstore is None:\n",
    "                vectorstore = Chroma.from_documents(\n",
    "                    documents=chunks[i:i+100],\n",
    "                    embedding=embedding,\n",
    "                    persist_directory=persist_directory,\n",
    "                )\n",
    "            else:\n",
    "                vectorstore.add_documents(\n",
    "                    documents=chunks[i:i+100],\n",
    "                )\n",
    "            "
   ]
  },
  {
   "cell_type": "code",
   "execution_count": 5,
   "id": "4ce7d6f4",
   "metadata": {},
   "outputs": [
    {
     "name": "stdout",
     "output_type": "stream",
     "text": [
      "{'page': 63, 'source': '../data\\\\2040_seoul_plan.pdf', 'author': 'SI', 'creator': 'Hwp 2020 11.0.0.5178', 'total_pages': 205, 'pdfversion': '1.4', 'producer': 'Hancom PDF 1.3.0.542', 'page_label': '64', 'moddate': '2024-12-12T18:16:11+09:00', 'creationdate': '2024-12-12T18:16:11+09:00'}\n",
      "56제2장 미래상과 목표\n",
      "6. 미래위기를 준비하는, ‘탄소중립 안전도시 구축’1) 배경전(全) 지구적인 기후변화에 대응하기 위한 대도시 차원의 대응 필요Ÿ서울시 2017년 온실가스 배출량은 46,685천 톤CO2eq로 2005년 배출량에 비해 5.6%(276만 톤CO2eq) 감소하였으며, 서울의 1인당 온실가스 배출량은 4.7CO2eq로 국가의 13.8톤CO2eq에 비해 낮은 수준이다. 또한 2014년 기준 서울의 1인당 온실가스 배출량은 4.5CO2eq로 세계 주요 도시에 비해 낮은 수준을 보인다.7)\n",
      "[그림 2-26] 세계 주요 도시 1인당 온실가스 배출량   자료: World Bank, 2014Ÿ그럼에도 불구하고, 기후변화 문제는 21세기에 전 지구적으로 가장 위중한 영향을 미칠 것으로 예상되는바, 탄소중립과 기후위기 대응은 국제·국가·도시의 핵심 정책으로 다루어져야 한다.Ÿ파리협정(2015) 이후, 우리나라를 비롯한 미국, 유럽연합 등 세계 136개국이 탄소중립을 선언하였으며, 서울시를 비롯한 뉴욕, 런던 등과 같은 많은 글로벌 도시에서 탄소중립을 시정의 핵심과제로 추진 중이다.Ÿ우리나라는 2020년 ‘한국판 그린뉴딜’을 발표하며 공식적으로 2050 탄소중립을 선언하였으며 서울시 역시 2020년 ‘그린뉴딜 추진을 통한 2050 온실가스 감축 전략’을 발표하고 탄소중립 선언에 따른 부문별 사업을 적극 추진하고 있다.-서울시는 2050년 탄소중립을 목표로 2030년까지 2005년 배출량 대비 40%, 2040년까지 70% 감축목표를 제시하였고, 2022년 기후변화대응종합계획을 수립하여, 향후 5년간(’22~’26년) 2005년 대비 온실가스 30% 감축목표와 구체적인 실행계획을 수립하였음7) 황인창 외, 2020, 파리협정 이행 위한 서울시 ‘2050 탄소중립’ 전략, 서울연구원, pp.6-9.\n",
      "{'total_pages': 205, 'page': 45, 'moddate': '2024-12-12T18:16:11+09:00', 'producer': 'Hancom PDF 1.3.0.542', 'creator': 'Hwp 2020 11.0.0.5178', 'author': 'SI', 'pdfversion': '1.4', 'page_label': '46', 'source': '../data\\\\2040_seoul_plan.pdf', 'creationdate': '2024-12-12T18:16:11+09:00'}\n",
      "기후변화에 대응하기 위한 온실가스 적극 감축 및 녹색 인프라 확충 등을 강조하고 있다.Ÿ2040 서울도시기본계획의 부문별 전략계획과 공간계획에서는 서울의 글로벌 경쟁력 강화, 광역화에 따른 수도권 내 교통, 산업 등 네트워크 연계 강화, 기후위기에 대응하기 위한 지속가능한 서울로의 전환 등 수도권정비기본계획의 주요 내용을 적극적으로 반영하여 수립하였다.\n",
      "{'total_pages': 205, 'author': 'SI', 'page': 64, 'moddate': '2024-12-12T18:16:11+09:00', 'creator': 'Hwp 2020 11.0.0.5178', 'producer': 'Hancom PDF 1.3.0.542', 'creationdate': '2024-12-12T18:16:11+09:00', 'pdfversion': '1.4', 'page_label': '65', 'source': '../data\\\\2040_seoul_plan.pdf'}\n",
      "제3절 2040 서울도시기본계획 7대 목표57Ÿ특히, 서울시는 현재 온실가스 배출량의 90%를 차지하고 있는 건물과 수송 부문 감축을 위해 적극적인 대책을 마련하고 있다.-2026년까지 건물 에너지효율화사업 100만 호를 추진, 건물온실가스총량제, 신규건물 제로에너지 건물(ZEB) 의무화를 통해 기존 및 신규건물의 제로에너지화를 촉진-수송 부문 배출감축을 위해 전기차 비중을 2026년까지 10%(’21년 5.2만 대 → ’26년 40만 대)로 확대하고, 22만기의 충전 인프라 구축을 계획 중(’21년 2만기) 시민 생활과 안전을 위한 기후위기 대응 요구 심화Ÿ서울은 인구, 시설 등이 밀집해 있는 대도시로 기온 상승, 폭염, 집중호우, 태풍, 한파 등 극한 기후 현상이 더욱 빈번하게 발생할 것으로 전망된다. 이러한 기후위험은 서울시민의 일상생활과 안전을 크게 위협할 수 있다. 따라서 시민의 일상을 보호하고 도시의 회복력을 강화하기 위한 적극적인 기후위기 대응 전략이 필요하다.Ÿ특히 다양화·복합화되는 재난안전사고에 대응해 전통적인 자연·사회재난의 범주뿐 아니라, 신종 복합재난까지 대비할 수 있는 다면적인 대응체계 마련이 요구된다.2) 추진전략탄소중립·기후위기 적응대책은 시의 모든 정책과 사업의 주요 원칙으로 고려Ÿ탄소중립은 돌이키기 어려운 기후재난을 막기 위한 국제사회와의 약속이기에 시의 모든 정책과 사업의 결정 과정에서 주요하게 고려해야 할 포괄적 ‘원칙’으로 확립되어야 한다.-서울시는 온실가스 감축 방안을 모든 예산사업에 고려·반영하기 위해 2021년부터 기후예산제 시범사업을 진행 중Ÿ모든 실·국·본부와 관련 이해 당사자들은 이러한 원칙과 기본 방향에 적극적으로 참여할 필요가 있으며 기후변화로 인한 폭염, 홍수, 가뭄 등과 같은 기상재해는 향후 지속적으로 발생할 가능성이 높아, 정책 수립 시 주요하게 고려한다.장기적·구조적 전환을 위해 도시계획 단계에서의 탄소중립·기후위기 적응대책 반영Ÿ탄소중립 및 기후위기 대책을 개별 사업 단위로 마련해 왔으나, 앞으로는\n",
      "{'pdfversion': '1.4', 'moddate': '2024-12-12T18:16:11+09:00', 'page_label': '188', 'total_pages': 205, 'producer': 'Hancom PDF 1.3.0.542', 'author': 'SI', 'page': 187, 'source': '../data\\\\2040_seoul_plan.pdf', 'creator': 'Hwp 2020 11.0.0.5178', 'creationdate': '2024-12-12T18:16:11+09:00'}\n",
      "180제6장 계획의 실현\n",
      "부문지표명지표의 통계명내용 및 산정식출처목표치 및 관리방향\n",
      "기후·환경\n",
      "탄소중립온실가스 배출량건물·수송·폐기물 처리 등에 따른 서울의 온실가스 배출량서울시 내부자료(기후환경정책과)2005년 대비 70% 감축대기질개선초미세먼지 농도*서울시 대기 중 2.5㎛보다 작은 초미세먼지의 농도서울특별시 대기환경정보10㎍/㎥(2040)신재생에너지신재생에너지 보급률*서울시 총 에너지보급량 중 신·재생에너지 보급 비율한국에너지공단21%(2030)탄소배출감축건물 에너지 효율화 사업 수에너지다소비건물, 공공건물, 상업건물, 주택 등에 대한 건물에너지효율화 사업 개소수(누적) 서울시 내부자료(친환경건물과)100만 호(2026)자원순환인구당 생활폐기물 발생량(매립률)서울시민 1인당 하루 평균 생활폐기물 배출량(서울 하루 평균 생활폐기물 배출량/인구 수)과 생활폐기물 중 매립되는 비율 서울통계0.86㎏/인/일(2027)물순환물재이용량*빗물, 중수도시설, 하수처리수로 대체하여 이용한 물의 양서울시 내부자료(수변감성도시과)증가녹지환경만족녹지환경만족도시민이 현재 거주하는 지역의 녹지환경(공원, 숲 등)에 대하여 만족하는 정도서울서베이증가공원확충1인당 공원면적*공원 면적(도시자연공원구역+도시계획시설 공원+국립공원)/인구수서울시 공원통계증가수변공간활성화한강공원 이용객수산책, 낚시, 자전거, 인라인, 운동·수상시설, 수영장, 행사 등을 위하여 한강공원을 이용한 이용객 수서울시 통계정보시스템증가\n",
      "안전·방재\n",
      "{'author': 'SI', 'pdfversion': '1.4', 'total_pages': 205, 'moddate': '2024-12-12T18:16:11+09:00', 'producer': 'Hancom PDF 1.3.0.542', 'creationdate': '2024-12-12T18:16:11+09:00', 'page': 64, 'page_label': '65', 'creator': 'Hwp 2020 11.0.0.5178', 'source': '../data\\\\2040_seoul_plan.pdf'}\n",
      "수립 시 주요하게 고려한다.장기적·구조적 전환을 위해 도시계획 단계에서의 탄소중립·기후위기 적응대책 반영Ÿ탄소중립 및 기후위기 대책을 개별 사업 단위로 마련해 왔으나, 앞으로는 도시계획 및 도시 인프라 전반에서 더욱 장기적이고 구조적인 접근이 필요하다. Ÿ토지이용 공간구조 개편, 주거환경, 공원녹지 등 관리계획 수립 시에도 기후변화 대응에 따른 계획 요소를 반영할 수 있도록 관련 기준을 제시한다.Ÿ친환경 기술 개발 및 적용을 통한 탄소 배출량 감축, 친환경 교통 인프라 확충, 지역 내 청정에너지 기반 구축 등 탄소배출 감소를 위한 도시 에너지 체계 개편을 적극 추진한다.\n"
     ]
    }
   ],
   "source": [
    "retriever = vectorstore.as_retriever(search_kwargs={\"k\": 5})\n",
    "\n",
    "chunks = retriever.invoke(\"서울 온실가스 저감 계획\")\n",
    "\n",
    "for chunk in chunks:\n",
    "    print(chunk.metadata)\n",
    "    print(chunk.page_content)"
   ]
  },
  {
   "cell_type": "code",
   "execution_count": null,
   "id": "320680ed",
   "metadata": {},
   "outputs": [],
   "source": [
    "from langchain_openai import ChatOpenAI\n",
    "\n",
    "model = ChatOpenAI(model=\"gpt-4o-mini\")\n",
    "model.invoke('안녕하세요!')"
   ]
  }
 ],
 "metadata": {
  "kernelspec": {
   "display_name": "venv",
   "language": "python",
   "name": "python3"
  },
  "language_info": {
   "codemirror_mode": {
    "name": "ipython",
    "version": 3
   },
   "file_extension": ".py",
   "mimetype": "text/x-python",
   "name": "python",
   "nbconvert_exporter": "python",
   "pygments_lexer": "ipython3",
   "version": "3.12.9"
  }
 },
 "nbformat": 4,
 "nbformat_minor": 5
}
