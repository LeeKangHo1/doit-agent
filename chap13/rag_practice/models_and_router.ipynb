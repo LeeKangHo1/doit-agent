{
 "cells": [
  {
   "cell_type": "code",
   "execution_count": 1,
   "id": "7d6e9185",
   "metadata": {},
   "outputs": [],
   "source": [
    "from langchain_core.prompts import ChatPromptTemplate\n",
    "from typing import Literal\n",
    "from pydantic import BaseModel, Field\n",
    "\n",
    "class RouteQuery(BaseModel):\n",
    "    \"\"\"사용자 쿼리를 가장 관련성이 높은 데이터 소스로 라우팅합니다.\"\"\"\n",
    "\n",
    "    datasource: Literal[\"vectorstore\", \"casual\"] = Field(\n",
    "        ...,\n",
    "        # descriptions 생략\n",
    "    )"
   ]
  },
  {
   "cell_type": "code",
   "execution_count": 4,
   "id": "c215ca5f",
   "metadata": {},
   "outputs": [],
   "source": [
    "from data_setup import model\n",
    "structured_llm_router = model.with_structured_output(RouteQuery)\n",
    "\n",
    "router_system = \"\"\"\n",
    "당신은 사용자의 질문을 vectorstore 또는 casual로 라우팅하는 전문가입니다.\n",
    "- vectorstore에는 서울, 뉴욕의 발전계획과 관련된 문서가 포함되어 있습니다. 이 주제에 대한 질문에는 vectorstore를 사용하십시오.\n",
    "- 사용자의 질문이 일상 대화에 관련된 경우 casual을 사용하십시오.\n",
    "\"\"\"\n",
    "\n",
    "# 시스템 메시지와 사용자의 질문을 포함하는 프롬프트 템플릿 생성\n",
    "route_prompt = ChatPromptTemplate.from_messages([\n",
    "    (\"system\", router_system),\n",
    "    (\"human\", \"{question}\")\n",
    "])\n",
    "\n",
    "question_router = route_prompt | structured_llm_router"
   ]
  },
  {
   "cell_type": "code",
   "execution_count": 6,
   "id": "5f22117d",
   "metadata": {},
   "outputs": [
    {
     "name": "stdout",
     "output_type": "stream",
     "text": [
      "datasource='casual'\n"
     ]
    }
   ],
   "source": [
    "print(\n",
    "    question_router.invoke({\n",
    "        \"question\": \"내 이름은?\"\n",
    "    })\n",
    ")"
   ]
  }
 ],
 "metadata": {
  "kernelspec": {
   "display_name": "venv",
   "language": "python",
   "name": "python3"
  },
  "language_info": {
   "codemirror_mode": {
    "name": "ipython",
    "version": 3
   },
   "file_extension": ".py",
   "mimetype": "text/x-python",
   "name": "python",
   "nbconvert_exporter": "python",
   "pygments_lexer": "ipython3",
   "version": "3.12.9"
  }
 },
 "nbformat": 4,
 "nbformat_minor": 5
}
