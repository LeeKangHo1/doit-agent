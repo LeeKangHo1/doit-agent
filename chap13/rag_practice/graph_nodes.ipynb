{
 "cells": [
  {
   "cell_type": "code",
   "execution_count": 2,
   "id": "54b198c7",
   "metadata": {},
   "outputs": [],
   "source": [
    "# 그래프 상태 선언\n",
    "from typing import List\n",
    "from typing_extensions import TypedDict\n",
    "\n",
    "class GraphState(TypedDict):\n",
    "    question: str # 사용자 질문\n",
    "    generation: str # LLM 생성 결과\n",
    "    documents: List[str] # 필요없는 청크 거른 vectordb 검색 자료"
   ]
  },
  {
   "cell_type": "code",
   "execution_count": null,
   "id": "dfb6d2b5",
   "metadata": {},
   "outputs": [
    {
     "name": "stdout",
     "output_type": "stream",
     "text": [
      "Loading existing Chroma store\n"
     ]
    }
   ],
   "source": [
    "from models_and_router import question_router\n",
    "\n",
    "def route_question(state: GraphState):\n",
    "    \"\"\"\n",
    "    사용자 질문을 vectorstore 또는 casual로 라우팅 합니다.\n",
    "    \"\"\"\n",
    "    print('-----ROUTE-----')\n",
    "    question = state['question']\n",
    "    route = question_router.invoke({\"question\": question})\n",
    "\n",
    "    print(f\"---Routing to {route.datasource}---\")\n",
    "    return route.datasource"
   ]
  },
  {
   "cell_type": "code",
   "execution_count": 4,
   "id": "31c15a8d",
   "metadata": {},
   "outputs": [],
   "source": [
    "from data_setup import retriever\n",
    "# retrieve 노드\n",
    "def retrieve(state):\n",
    "    \"\"\"vectorstore에서 질문에 대한 문서를 검색합니다.\"\"\"\n",
    "    print('-----RETRIEVE-----')\n",
    "    question = state['question']\n",
    "\n",
    "    documents = retriever.invoke(question)\n",
    "    return {\"documents\": documents, \"question\": question}"
   ]
  },
  {
   "cell_type": "code",
   "execution_count": null,
   "id": "bec510ce",
   "metadata": {},
   "outputs": [],
   "source": [
    "from rag_function import retrieval_grader\n",
    "# grade_documents 노드\n",
    "def grade_documents(state):\n",
    "    \"\"\"\n",
    "    검색된 문서를 평가하여 질문과 관련성이 있는지 확인합니다.\n",
    "    \"\"\"\n",
    "    print('-----GRADE-----')\n",
    "    question = state['question']\n",
    "    documents = state['docuemnts']\n",
    "    filtered_docs = []\n",
    "\n",
    "    for i, doc in enumerate(documents):\n",
    "        is_relevant = retrieval_grader.invoke({\"question\": question, \"document\": doc.page_content})\n",
    "        if is_relevant.binary_score == \"yes\":\n",
    "            filtered_docs.append(doc)\n",
    "    \n",
    "    return {\"documents\": filtered_docs, \"question\": question}\n"
   ]
  },
  {
   "cell_type": "code",
   "execution_count": 8,
   "id": "3385b9a8",
   "metadata": {},
   "outputs": [],
   "source": [
    "from rag_function import rag_chain\n",
    "\n",
    "# generate 노드\n",
    "def generate(state):\n",
    "    \"\"\"\n",
    "    LLM을 사용하여 문서와 사용자 질문에 대한 답변을 생성합니다.\n",
    "    \"\"\"\n",
    "    print('-----GENERATE-----')\n",
    "    question = state[\"question\"]\n",
    "    documents = state['documents']\n",
    "    generation = rag_chain.invoke({\"questions\": question, \"context\": documents})\n",
    "    return {\n",
    "        \"documents\": documents,\n",
    "        \"question\": question,\n",
    "        \"generation\": generation,\n",
    "    }"
   ]
  },
  {
   "cell_type": "code",
   "execution_count": null,
   "id": "23ef2c72",
   "metadata": {},
   "outputs": [],
   "source": [
    "from data_setup import model\n",
    "\n",
    "# casual 대답을 하는 노드\n",
    "def casual_talk(state):\n",
    "    \"\"\"일상 대화를 위한 답변을 생성합니다.\"\"\"\n",
    "    print('-----CASUAL_TALK-----')\n",
    "    question = state['question']\n",
    "    generation = model.invoke(question)\n",
    "    return {\n",
    "        \"question\": question,\n",
    "        \"generation\": generation\n",
    "    }"
   ]
  }
 ],
 "metadata": {
  "kernelspec": {
   "display_name": "venv",
   "language": "python",
   "name": "python3"
  },
  "language_info": {
   "codemirror_mode": {
    "name": "ipython",
    "version": 3
   },
   "file_extension": ".py",
   "mimetype": "text/x-python",
   "name": "python",
   "nbconvert_exporter": "python",
   "pygments_lexer": "ipython3",
   "version": "3.12.9"
  }
 },
 "nbformat": 4,
 "nbformat_minor": 5
}
