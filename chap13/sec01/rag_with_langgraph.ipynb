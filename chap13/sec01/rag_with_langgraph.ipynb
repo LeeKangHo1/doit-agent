{
 "cells": [
  {
   "cell_type": "markdown",
   "id": "a2349990",
   "metadata": {},
   "source": [
    "### PDF를 전처리하고 벡터 DB 만들기"
   ]
  },
  {
   "cell_type": "code",
   "execution_count": 1,
   "id": "ece38071",
   "metadata": {},
   "outputs": [
    {
     "name": "stdout",
     "output_type": "stream",
     "text": [
      "../data\\2040_seoul_plan.pdf\n",
      "../data\\OneNYC_2050_Strategic_Plan.pdf\n"
     ]
    }
   ],
   "source": [
    "# 사용할 PDF 파일 확인하기\n",
    "from glob import glob\n",
    "\n",
    "for g in glob('../data/*.pdf'):\n",
    "    print(g)"
   ]
  },
  {
   "cell_type": "code",
   "execution_count": 2,
   "id": "7958016e",
   "metadata": {},
   "outputs": [],
   "source": [
    "# PDF 파일을 텍스트로 읽고 청크 단위로 텍스트를 잘라 리스트로 담아 반환하는 함수\n",
    "from langchain_community.document_loaders import PyPDFLoader\n",
    "from langchain_text_splitters import RecursiveCharacterTextSplitter\n",
    "\n",
    "def read_pdf_and_split_text(pdf_path, chunk_size=1000, chunk_overlap=100):\n",
    "    # 선택적 -> 사용자가 적지 않아도 자동으로 기본값을 사용합니다.\n",
    "    \"\"\"\n",
    "    주어진 PDF 파일을 읽고 텍스트를 분할합니다.\n",
    "    \n",
    "    매개변수:\n",
    "        pdf_path (str): PDF 파일의 경로.\n",
    "        chunk_size (int, 선택적): 각 텍스트 청크의 크기. 기본값은 1000입니다.\n",
    "        chunk_overlap (int, 선택적): 청크 간의 중첩 크기, 기본값은 100입니다.\n",
    "    반환값:\n",
    "        list: 분할된 텍스트 청크의 리스트\n",
    "    \"\"\"\n",
    "    print(f\"PDF: {pdf_path} -----------------------\")\n",
    "\n",
    "    pdf_loader = PyPDFLoader(pdf_path)\n",
    "    data_from_pdf = pdf_loader.load()\n",
    "\n",
    "    text_splitter = RecursiveCharacterTextSplitter(\n",
    "        chunk_size=chunk_size,\n",
    "        chunk_overlap=chunk_overlap,\n",
    "    )\n",
    "\n",
    "    splits = text_splitter.split_documents(data_from_pdf)\n",
    "\n",
    "    print(f\"Number of splits: {len(splits)}\\n\")\n",
    "    return splits"
   ]
  },
  {
   "cell_type": "code",
   "execution_count": 3,
   "id": "52f027eb",
   "metadata": {},
   "outputs": [
    {
     "name": "stdout",
     "output_type": "stream",
     "text": [
      "Loading existing Chroma store\n"
     ]
    }
   ],
   "source": [
    "# vectorstore 설정하고 청크 처리하기\n",
    "from langchain_openai import OpenAIEmbeddings\n",
    "from langchain_chroma import Chroma\n",
    "import os\n",
    "\n",
    "# vectorstore 설정\n",
    "embedding = OpenAIEmbeddings(model='text-embedding-3-large')\n",
    "\n",
    "persist_directory='../chroma_store'\n",
    "\n",
    "if os.path.exists(persist_directory):\n",
    "    print(\"Loading existing Chroma store\")\n",
    "    vectorstore = Chroma(\n",
    "        persist_directory=persist_directory,\n",
    "        embedding_function=embedding,\n",
    "    )\n",
    "else:\n",
    "    print(\"Creating new Chroma store\")\n",
    "\n",
    "    vectorstore = None\n",
    "    for g in glob('../data/*.pdf'): # glob는 파일 경로에서 특정 패턴을 가진 파일들을 한꺼번에 찾을 때 사용하는 모듈\n",
    "        chunks = read_pdf_and_split_text(g) # 청크 크기는 1000, 오버랩은 100 기본값 사용\n",
    "        # 청크를 100개씩 나눠서 저장\n",
    "        for i in range(0, len(chunks), 100):\n",
    "            if vectorstore is None:\n",
    "                vectorstore = Chroma.from_documents(\n",
    "                    documents=chunks[i:i + 100],\n",
    "                    embedding=embedding,\n",
    "                    persist_directory=persist_directory,\n",
    "                )\n",
    "            else:\n",
    "                vectorstore.add_documents(\n",
    "                    documents=chunks[i:i + 100]\n",
    "                )\n"
   ]
  },
  {
   "cell_type": "code",
   "execution_count": 4,
   "id": "067180c1",
   "metadata": {},
   "outputs": [
    {
     "name": "stdout",
     "output_type": "stream",
     "text": [
      "{'creationdate': '2024-12-12T18:16:11+09:00', 'creator': 'Hwp 2020 11.0.0.5178', 'author': 'SI', 'total_pages': 205, 'source': '../data\\\\2040_seoul_plan.pdf', 'pdfversion': '1.4', 'moddate': '2024-12-12T18:16:11+09:00', 'page': 63, 'page_label': '64', 'producer': 'Hancom PDF 1.3.0.542'}\n",
      "56제2장 미래상과 목표\n",
      "6. 미래위기를 준비하는, ‘탄소중립 안전도시 구축’1) 배경전(全) 지구적인 기후변화에 대응하기 위한 대도시 차원의 대응 필요Ÿ서울시 2017년 온실가스 배출량은 46,685천 톤CO2eq로 2005년 배출량에 비해 5.6%(276만 톤CO2eq) 감소하였으며, 서울의 1인당 온실가스 배출량은 4.7CO2eq로 국가의 13.8톤CO2eq에 비해 낮은 수준이다. 또한 2014년 기준 서울의 1인당 온실가스 배출량은 4.5CO2eq로 세계 주요 도시에 비해 낮은 수준을 보인다.7)\n",
      "[그림 2-26] 세계 주요 도시 1인당 온실가스 배출량   자료: World Bank, 2014Ÿ그럼에도 불구하고, 기후변화 문제는 21세기에 전 지구적으로 가장 위중한 영향을 미칠 것으로 예상되는바, 탄소중립과 기후위기 대응은 국제·국가·도시의 핵심 정책으로 다루어져야 한다.Ÿ파리협정(2015) 이후, 우리나라를 비롯한 미국, 유럽연합 등 세계 136개국이 탄소중립을 선언하였으며, 서울시를 비롯한 뉴욕, 런던 등과 같은 많은 글로벌 도시에서 탄소중립을 시정의 핵심과제로 추진 중이다.Ÿ우리나라는 2020년 ‘한국판 그린뉴딜’을 발표하며 공식적으로 2050 탄소중립을 선언하였으며 서울시 역시 2020년 ‘그린뉴딜 추진을 통한 2050 온실가스 감축 전략’을 발표하고 탄소중립 선언에 따른 부문별 사업을 적극 추진하고 있다.-서울시는 2050년 탄소중립을 목표로 2030년까지 2005년 배출량 대비 40%, 2040년까지 70% 감축목표를 제시하였고, 2022년 기후변화대응종합계획을 수립하여, 향후 5년간(’22~’26년) 2005년 대비 온실가스 30% 감축목표와 구체적인 실행계획을 수립하였음7) 황인창 외, 2020, 파리협정 이행 위한 서울시 ‘2050 탄소중립’ 전략, 서울연구원, pp.6-9.\n",
      "{'author': 'SI', 'creationdate': '2024-12-12T18:16:11+09:00', 'page': 45, 'page_label': '46', 'source': '../data\\\\2040_seoul_plan.pdf', 'pdfversion': '1.4', 'creator': 'Hwp 2020 11.0.0.5178', 'producer': 'Hancom PDF 1.3.0.542', 'moddate': '2024-12-12T18:16:11+09:00', 'total_pages': 205}\n",
      "기후변화에 대응하기 위한 온실가스 적극 감축 및 녹색 인프라 확충 등을 강조하고 있다.Ÿ2040 서울도시기본계획의 부문별 전략계획과 공간계획에서는 서울의 글로벌 경쟁력 강화, 광역화에 따른 수도권 내 교통, 산업 등 네트워크 연계 강화, 기후위기에 대응하기 위한 지속가능한 서울로의 전환 등 수도권정비기본계획의 주요 내용을 적극적으로 반영하여 수립하였다.\n",
      "{'creationdate': '2024-12-12T18:16:11+09:00', 'creator': 'Hwp 2020 11.0.0.5178', 'source': '../data\\\\2040_seoul_plan.pdf', 'moddate': '2024-12-12T18:16:11+09:00', 'producer': 'Hancom PDF 1.3.0.542', 'page': 64, 'author': 'SI', 'page_label': '65', 'pdfversion': '1.4', 'total_pages': 205}\n",
      "제3절 2040 서울도시기본계획 7대 목표57Ÿ특히, 서울시는 현재 온실가스 배출량의 90%를 차지하고 있는 건물과 수송 부문 감축을 위해 적극적인 대책을 마련하고 있다.-2026년까지 건물 에너지효율화사업 100만 호를 추진, 건물온실가스총량제, 신규건물 제로에너지 건물(ZEB) 의무화를 통해 기존 및 신규건물의 제로에너지화를 촉진-수송 부문 배출감축을 위해 전기차 비중을 2026년까지 10%(’21년 5.2만 대 → ’26년 40만 대)로 확대하고, 22만기의 충전 인프라 구축을 계획 중(’21년 2만기) 시민 생활과 안전을 위한 기후위기 대응 요구 심화Ÿ서울은 인구, 시설 등이 밀집해 있는 대도시로 기온 상승, 폭염, 집중호우, 태풍, 한파 등 극한 기후 현상이 더욱 빈번하게 발생할 것으로 전망된다. 이러한 기후위험은 서울시민의 일상생활과 안전을 크게 위협할 수 있다. 따라서 시민의 일상을 보호하고 도시의 회복력을 강화하기 위한 적극적인 기후위기 대응 전략이 필요하다.Ÿ특히 다양화·복합화되는 재난안전사고에 대응해 전통적인 자연·사회재난의 범주뿐 아니라, 신종 복합재난까지 대비할 수 있는 다면적인 대응체계 마련이 요구된다.2) 추진전략탄소중립·기후위기 적응대책은 시의 모든 정책과 사업의 주요 원칙으로 고려Ÿ탄소중립은 돌이키기 어려운 기후재난을 막기 위한 국제사회와의 약속이기에 시의 모든 정책과 사업의 결정 과정에서 주요하게 고려해야 할 포괄적 ‘원칙’으로 확립되어야 한다.-서울시는 온실가스 감축 방안을 모든 예산사업에 고려·반영하기 위해 2021년부터 기후예산제 시범사업을 진행 중Ÿ모든 실·국·본부와 관련 이해 당사자들은 이러한 원칙과 기본 방향에 적극적으로 참여할 필요가 있으며 기후변화로 인한 폭염, 홍수, 가뭄 등과 같은 기상재해는 향후 지속적으로 발생할 가능성이 높아, 정책 수립 시 주요하게 고려한다.장기적·구조적 전환을 위해 도시계획 단계에서의 탄소중립·기후위기 적응대책 반영Ÿ탄소중립 및 기후위기 대책을 개별 사업 단위로 마련해 왔으나, 앞으로는\n",
      "{'page_label': '188', 'total_pages': 205, 'author': 'SI', 'source': '../data\\\\2040_seoul_plan.pdf', 'page': 187, 'creator': 'Hwp 2020 11.0.0.5178', 'producer': 'Hancom PDF 1.3.0.542', 'moddate': '2024-12-12T18:16:11+09:00', 'pdfversion': '1.4', 'creationdate': '2024-12-12T18:16:11+09:00'}\n",
      "180제6장 계획의 실현\n",
      "부문지표명지표의 통계명내용 및 산정식출처목표치 및 관리방향\n",
      "기후·환경\n",
      "탄소중립온실가스 배출량건물·수송·폐기물 처리 등에 따른 서울의 온실가스 배출량서울시 내부자료(기후환경정책과)2005년 대비 70% 감축대기질개선초미세먼지 농도*서울시 대기 중 2.5㎛보다 작은 초미세먼지의 농도서울특별시 대기환경정보10㎍/㎥(2040)신재생에너지신재생에너지 보급률*서울시 총 에너지보급량 중 신·재생에너지 보급 비율한국에너지공단21%(2030)탄소배출감축건물 에너지 효율화 사업 수에너지다소비건물, 공공건물, 상업건물, 주택 등에 대한 건물에너지효율화 사업 개소수(누적) 서울시 내부자료(친환경건물과)100만 호(2026)자원순환인구당 생활폐기물 발생량(매립률)서울시민 1인당 하루 평균 생활폐기물 배출량(서울 하루 평균 생활폐기물 배출량/인구 수)과 생활폐기물 중 매립되는 비율 서울통계0.86㎏/인/일(2027)물순환물재이용량*빗물, 중수도시설, 하수처리수로 대체하여 이용한 물의 양서울시 내부자료(수변감성도시과)증가녹지환경만족녹지환경만족도시민이 현재 거주하는 지역의 녹지환경(공원, 숲 등)에 대하여 만족하는 정도서울서베이증가공원확충1인당 공원면적*공원 면적(도시자연공원구역+도시계획시설 공원+국립공원)/인구수서울시 공원통계증가수변공간활성화한강공원 이용객수산책, 낚시, 자전거, 인라인, 운동·수상시설, 수영장, 행사 등을 위하여 한강공원을 이용한 이용객 수서울시 통계정보시스템증가\n",
      "안전·방재\n",
      "{'moddate': '2024-12-12T18:16:11+09:00', 'producer': 'Hancom PDF 1.3.0.542', 'author': 'SI', 'page_label': '65', 'creator': 'Hwp 2020 11.0.0.5178', 'creationdate': '2024-12-12T18:16:11+09:00', 'total_pages': 205, 'source': '../data\\\\2040_seoul_plan.pdf', 'pdfversion': '1.4', 'page': 64}\n",
      "수립 시 주요하게 고려한다.장기적·구조적 전환을 위해 도시계획 단계에서의 탄소중립·기후위기 적응대책 반영Ÿ탄소중립 및 기후위기 대책을 개별 사업 단위로 마련해 왔으나, 앞으로는 도시계획 및 도시 인프라 전반에서 더욱 장기적이고 구조적인 접근이 필요하다. Ÿ토지이용 공간구조 개편, 주거환경, 공원녹지 등 관리계획 수립 시에도 기후변화 대응에 따른 계획 요소를 반영할 수 있도록 관련 기준을 제시한다.Ÿ친환경 기술 개발 및 적용을 통한 탄소 배출량 감축, 친환경 교통 인프라 확충, 지역 내 청정에너지 기반 구축 등 탄소배출 감소를 위한 도시 에너지 체계 개편을 적극 추진한다.\n"
     ]
    }
   ],
   "source": [
    "# 벡터 DB 테스트\n",
    "retriever = vectorstore.as_retriever(search_kwargs={\"k\": 5})\n",
    "\n",
    "chunks = retriever.invoke(\"서울 온실가스 저감 계획\")\n",
    "\n",
    "for chunk in chunks:\n",
    "    print(chunk.metadata)\n",
    "    print(chunk.page_content)"
   ]
  },
  {
   "cell_type": "code",
   "execution_count": 5,
   "id": "35561e75",
   "metadata": {},
   "outputs": [
    {
     "data": {
      "text/plain": [
       "AIMessage(content='안녕하세요! 어떻게 도와드릴까요?', additional_kwargs={'refusal': None}, response_metadata={'token_usage': {'completion_tokens': 10, 'prompt_tokens': 10, 'total_tokens': 20, 'completion_tokens_details': {'accepted_prediction_tokens': 0, 'audio_tokens': 0, 'reasoning_tokens': 0, 'rejected_prediction_tokens': 0}, 'prompt_tokens_details': {'audio_tokens': 0, 'cached_tokens': 0}}, 'model_name': 'gpt-4o-mini-2024-07-18', 'system_fingerprint': 'fp_34a54ae93c', 'id': 'chatcmpl-BqyI1N4VMQx2pfgi20r2VBIJFoIYs', 'service_tier': 'default', 'finish_reason': 'stop', 'logprobs': None}, id='run--e2d4cf62-655c-4f46-8866-3313d5648eed-0', usage_metadata={'input_tokens': 10, 'output_tokens': 10, 'total_tokens': 20, 'input_token_details': {'audio': 0, 'cache_read': 0}, 'output_token_details': {'audio': 0, 'reasoning': 0}})"
      ]
     },
     "execution_count": 5,
     "metadata": {},
     "output_type": "execute_result"
    }
   ],
   "source": [
    "from langchain_openai import ChatOpenAI\n",
    "model = ChatOpenAI(model=\"gpt-4o-mini\")\n",
    "model.invoke(\"안녕하세요!\")"
   ]
  },
  {
   "cell_type": "markdown",
   "id": "eb487f00",
   "metadata": {},
   "source": [
    "### 라우터\n",
    " - 일상적인 대화라면 casual_talk를 반환하고 RAG가 필요하면 vector_store를 반환합니다."
   ]
  },
  {
   "cell_type": "code",
   "execution_count": 6,
   "id": "095efd4a",
   "metadata": {},
   "outputs": [],
   "source": [
    "# 라우터 설정\n",
    "from langchain_core.prompts import ChatPromptTemplate\n",
    "from typing import Literal # 문자열 리터럴 타입을 지원하는 typing 모듈의 클래스\n",
    "from pydantic import BaseModel, Field\n",
    "\n",
    "# RouteQuery Data model\n",
    "class RouteQuery(BaseModel):\n",
    "    \"\"\"사용자 쿼리를 가장 관련성이 높은 데이터 소스로 라우팅합니다.\"\"\"\n",
    "\n",
    "    datasource: Literal[\"vectorstore\", \"casual\"] = Field( # vectorstore와 casual_talk 둘 중 하나의 값만 허용\n",
    "        ..., # 이 필드는 반드시 값을 입력해야 한다 (required)\n",
    "        description=\"\"\"\n",
    "        사용자 질문에 따라 casual 또는 vectorstore로 라우팅합니다.\n",
    "        - casual: 일상 대화를 위한 데이터 소스. 사용자가 일상적인 질문을 할 때 사용합니다.\n",
    "        - vectorstore: 사용자 질문에 답하기 위해 RAG로 vectorstore 검색이 필요한 경우 사용합니다.\n",
    "        \"\"\",\n",
    "    )"
   ]
  },
  {
   "cell_type": "markdown",
   "id": "fa3fdff0",
   "metadata": {},
   "source": [
    "#### Literal 설정한 이유\n",
    "```\n",
    "description=\"\"\"\n",
    "        사용자 질문에 따라 'casual_talk' 또는 'vectorstore'로 값을 설정하세요.\n",
    "        - casual_talk: 일상 대화를 위한 데이터 소스\n",
    "        - vectorstore: RAG 검색이 필요한 경우\n",
    "        \"\"\"\n",
    "```\n",
    "이렇게 할 경우 \"vectorstore입니다\". 같은 불필요한 내용이 답변에 들어갈 수 있다. + 엉뚱한 str 생성 방지"
   ]
  },
  {
   "cell_type": "code",
   "execution_count": 7,
   "id": "880ba679",
   "metadata": {},
   "outputs": [],
   "source": [
    "# 사용자 질문 받고 판단하기\n",
    "# 특정 모델을 structured output(구조화된 출력)과 함께 사용하기 위해 설정\n",
    "# datasource='vectorstore'나 'casual_talk'만 출력\n",
    "structured_llm_router = model.with_structured_output(RouteQuery)\n",
    "\n",
    "router_system = \"\"\"\n",
    "당신은 사용자의 질문을 vectorstore 또는 casual으로 라우팅하는 전문가입니다.\n",
    "- vectorstore에는 서울, 뉴욕의 발전계획과 관련된 문서가 포함되어 있습니다. 이 주제에 대한 질문에는 vectorstore를 사용하십시오.\n",
    "- 사용자의 질문이 일상 대화에 관련된 경우 casual를 사용하십시오.\n",
    "\"\"\"\n",
    "\n",
    "# 시스템 메시지와 사용자의 질문을 포함하는 프롬프트 템플릿 생성\n",
    "route_prompt = ChatPromptTemplate.from_messages([\n",
    "    (\"system\", router_system),\n",
    "    (\"human\", \"{question}\"),\n",
    "])\n",
    "\n",
    "# 라우터 프롬프트와 구조화된 출력 모델을 결합한 객체\n",
    "question_route = route_prompt | structured_llm_router"
   ]
  },
  {
   "cell_type": "code",
   "execution_count": 8,
   "id": "e66bb34e",
   "metadata": {},
   "outputs": [
    {
     "name": "stdout",
     "output_type": "stream",
     "text": [
      "datasource='vectorstore'\n",
      "datasource='casual'\n"
     ]
    }
   ],
   "source": [
    "# 구분 잘하는지 테스트\n",
    "print(\n",
    "    question_route.invoke({\n",
    "        \"question\": \"서울 온실가스 저감 계획은 무엇인가요?\"\n",
    "    })\n",
    ")\n",
    "print(\n",
    "    question_route.invoke({\n",
    "        \"question\": \"잘 지냈어?\"\n",
    "    })\n",
    ")"
   ]
  },
  {
   "cell_type": "markdown",
   "id": "2ef8f960",
   "metadata": {},
   "source": [
    "### RAG 에이전트 만들기\n",
    " - 현재 리트리버는 무조건 청크를 5개 가져옴\n",
    " - 문서와 관련성을 판단하는 방법을 프롬프트로 작성하고 필요 없는 청크를 삭제해서 출력하도록 설정"
   ]
  },
  {
   "cell_type": "code",
   "execution_count": 9,
   "id": "377f5690",
   "metadata": {},
   "outputs": [],
   "source": [
    "# GradeDocuments 클래스\n",
    "from langchain_core.prompts import PromptTemplate\n",
    "\n",
    "class GradeDocuments(BaseModel):\n",
    "    \"\"\"검색된 문서가 질문과 관련성 있는지 yes 또는 no로 평가합니다.\"\"\"\n",
    "\n",
    "    binary_score: Literal[\"yes\", \"no\"] = Field(\n",
    "        description=\"문서가 질문과 관련이 있는지 여부를 'yes' 또는 'no로 평가합니다.\"\n",
    "    )\n",
    "\n",
    "structured_llm_grader = model.with_structured_output(GradeDocuments)"
   ]
  },
  {
   "cell_type": "code",
   "execution_count": 10,
   "id": "b67366b1",
   "metadata": {},
   "outputs": [
    {
     "name": "stdout",
     "output_type": "stream",
     "text": [
      "page_content='54제2장 미래상과 목표\n",
      "5. 기술발전에 선제적 대응, ‘미래교통 인프라 구축’1) 배경미래교통수단 도입에 따른 도시 활동 변화 및 공간구조 재편 대비Ÿ빠르게 진화하는 미래 신 교통수단은 도시공간에 새로운 변화를 일으킬 것이며, 도시 내 이동패턴의 변화를 가져올 것으로 예측된다. 이러한 점을 고려하여 도시 내 다양한 통행행태가 공존하는 포용적인 교통체계 구축을 준비해야 한다.미래교통수단 정착을 위한 도시 인프라 확충지원 필요Ÿ기존에 없던 새로운 교통은 통상 인프라 구축에 많은 시간이 소요되기 때문에 교통수단이 도입된 이후에 준비하기보다는 개발단계에서부터 이를 지원하기 위한 교통인프라 구축 구상이 요구되며, 새로운 도시 인프라 확충에 대한 도시계획적 지원이 필요하다.2) 추진전략자율주행 자동차 본격 운영 체계 구축Ÿ자율주행은 현재 제일 가시화되고 있는 미래 교통기술로 시장의 주도권을 확보하기 위해 각국의 노력이 집중되고 있다. 단계적으로 2030년까지 간선도로급 이상 도로에서 운영할 수 있는 도로 인프라 환경을 조성하고, 2040년까지 서울 전역 자율주행 운행 환경 구축을 목표로 한다.-2040년까지 서울 전역 자율주행차량의 운행 환경을 구축하고 수송 분담률 10%를 달성서울형 도심 항공교통 기반 마련 및 터미널 확충Ÿ도심에서 김포공항까지 시범노선을 운영하는 등 상용화 노선을 확보하고, 장기적으로 한강, 지천 등 주요 수변 공간 중심으로 광역노선을 확보한다. 또한 UAM 인프라 확보를 위한 인센티브 및 도시계획적인 지원 방안도 함께 검토한다.-UAM 시범노선을 운영하고, 한강 등 주요 수변 공간 중심에 단계적 광역노선을 확장서울 전역에 모빌리티 허브 구축Ÿ도심 및 광역거점에 서울 내부와 외부의 연계를 위한 미래 교통과 기존 교통을 연결하는 시설을 도입한다. 또한 교통뿐 아니라 공공서비스, 물류, 상업 등 다양한 기능들이 복합적으로 제공되는 지역 거점 모빌리티 허브를 서울 전역에 도입한다.' metadata={'creationdate': '2024-12-12T18:16:11+09:00', 'moddate': '2024-12-12T18:16:11+09:00', 'author': 'SI', 'creator': 'Hwp 2020 11.0.0.5178', 'page_label': '62', 'source': '../data\\\\2040_seoul_plan.pdf', 'page': 61, 'producer': 'Hancom PDF 1.3.0.542', 'total_pages': 205, 'pdfversion': '1.4'}\n",
      "page_content='36제2장 미래상과 목표\n",
      "6) 미래교통수단의 등장과 첨단 인프라 요구 증대자율주행, UAM 등 미래 교통에 공간적 대응방안 마련 필요Ÿ자율주행차량, 전동킥보드 등 교통 기술의 발전에 따라 새로운 교통환경이 조성되고 있음에도 불구하고, 이에 대한 정착 가이드라인이 없어, 위험한 교통 사고가 유발되고 있다.-최근 3년간 서울시에서 발생한 전동킥보드 관련 사고 대다수는 전동 킥보드와 차량 간 충돌 사고Ÿ안전하고 효율적인 기존-신규 교통수단의 조화를 도모하고, 이와 함께 발생할 도시공간구조 변화에 대비하기 위해 통합적인 교통수단 정착 가이드라인이 필요하다.7) 시가지 공간의 포화, 개발가용지의 부족새로운 도시공간에 대한 수요 대응과 성장동력 확보 한계Ÿ서울의 녹지지역을 제외한 대부분의 개발가용지는 고갈된 상태이며, 남은 공간은 주택공급을 위주로 개발하고 있다.-서울시에서 개발제한구역 25%를 제외하면 65%에 해당하는 시가화면적 366㎢ 중 미개발지는 거의 없는 상태Ÿ외연적 팽창이 아닌, 선택과 집중을 통한 콤팩트 시티로의 공간구조 재편을 지향하고 복합 개발을 통해 약해진 도시경쟁력 강화가 필요한 시점이다.8) 늙어가는 서울, 도시 정비의 정체에 따른 환경 악화정비사업 추진동력 저하, 쾌적한 도시환경에 대한 요구 증대Ÿ2038년 서울시 기반시설 노후화 비율은 2018년 대비 2.7배 급증, 1960~70년대 집중 조성된 기반시설의 노후화에 따른 시설 안전성 확보가 필요하다.-2040년, 서울 전체 주택 중 노후 물량 50%로 추정Ÿ때문에, 쾌적한 도시환경 구축을 위해서는 노후 기반시설로 인한 안전성 검토와 개선비용 증가에 따른 선제적인 대응이 필요하다.\n",
      "[그림 2-19] 서울시 전동킥보드 사고 추이자료: 서울시 소방재난본부' metadata={'page_label': '44', 'moddate': '2024-12-12T18:16:11+09:00', 'total_pages': 205, 'creationdate': '2024-12-12T18:16:11+09:00', 'producer': 'Hancom PDF 1.3.0.542', 'pdfversion': '1.4', 'author': 'SI', 'page': 43, 'source': '../data\\\\2040_seoul_plan.pdf', 'creator': 'Hwp 2020 11.0.0.5178'}\n",
      "page_content='제1절 도시공간구조105기능이 공존하는 미래 도심으로 조성-국제 디지털 금융중심지인 여의도·영등포는 한강을 중심으로 한 글로벌 혁신코어 조성-국제 업무 중심지인 강남은 영동대로와 경부간선도로의 입체복합화로 가용지를 확보하여 업무복합기능을 강화 Ÿ수도 서울의 위상 강화를 위해 “광화문~용산~영등포”축을 국가중심공간으로 조성한다.-북악산~청와대~광화문광장~서울역~용산~한강을 잇는 도심축을 보행로·녹지와 연결하며 통합 개발하여 국가상징가로로 조성 Ÿ도심을 보행 중심의 쾌적하고 매력 있는 공간으로 조성하여 장소성을 강화하고 가로를 활성화한다.-3도심에 녹색교통지역 지정 등 보행 중심 공간을 조성하기 위한 다양한 유도·지원방안을 마련하고, 도심의 공원·녹지축 체계, 자전거 등 친환경 교통수단 확대, 한강·지천의 수변명소 간 보행로·신 교통수단 연계 등을 추진도시계획체계 유연화로 도심 가용지 확보 및 복합 개발 추진Ÿ도심의 활력을 제고하기 위하여 높이 기준 유연화, 용적률 기준 완화 등 도시계획적 규제를 유연하게 운영함과 동시에 공공기여 등 공적기능을 확보한다.Ÿ노후 환경 개선이 필요한 구도심에 쾌적한 업무·주거 공간을 제공하고 도심 속 녹지공간을 확충하여 다기능 녹지생태도시를 구현하도록 정비사업 추진 시 적극 지원한다. -노후지역 재정비 시 지역 특성을 고려하며 다양한 활동·기능이 이루어질 수 있도록 지원하고, 기반시설의 입체복합개발을 추진하여 새로운 공간을 창출3도심 간 직결체계 완성을 위하여 광역급행철도망 연계 및 도심 간 이동 수단 다양화Ÿ3도심과 용산의 대중교통 연결성을 강화하고 광역급행노선의 도심 내 정차·환승역의 신설 제안을 검토하여 3+1(서울도심-여의도·영등포-강남-용산)의 직결체계를 완성한다.-도심의 광역접근성을 강화하기 위해 기 계획된 광역급행노선 외에 추가적으로 GTX-A 노선은 광화문·시청역을, GTX-B 노선은 종로3가역 또는 동대문역 신설 제안을 검토Ÿ자전거를 비롯하여 개인용 이동수단(PM), 수상교통, 도심항공교통(UAM) 등 신 이동수단으로' metadata={'producer': 'Hancom PDF 1.3.0.542', 'page': 112, 'creator': 'Hwp 2020 11.0.0.5178', 'pdfversion': '1.4', 'page_label': '113', 'source': '../data\\\\2040_seoul_plan.pdf', 'total_pages': 205, 'moddate': '2024-12-12T18:16:11+09:00', 'author': 'SI', 'creationdate': '2024-12-12T18:16:11+09:00'}\n",
      "page_content='광화문·시청역을, GTX-B 노선은 종로3가역 또는 동대문역 신설 제안을 검토Ÿ자전거를 비롯하여 개인용 이동수단(PM), 수상교통, 도심항공교통(UAM) 등 신 이동수단으로 도심 간 연결 수단을 다양화하고, 교통수단 상용화에 필요한 인프라를 구축한다.-여의도~잠실종합운동장, 남산공원~용산공원~용산역(정비창)~여의도 등을 연결하는 신 이동수단의 인프라 신설을 검토하여 글로벌 비즈니스 편의와 관광 매력을 증진' metadata={'page_label': '113', 'pdfversion': '1.4', 'creationdate': '2024-12-12T18:16:11+09:00', 'page': 112, 'total_pages': 205, 'author': 'SI', 'creator': 'Hwp 2020 11.0.0.5178', 'source': '../data\\\\2040_seoul_plan.pdf', 'moddate': '2024-12-12T18:16:11+09:00', 'producer': 'Hancom PDF 1.3.0.542'}\n",
      "page_content='제3절 권역별 구상147보행 중심 교통체계 전환을 위한 친환경 교통 인프라 구축 및 제도 개선 Ÿ주차상한제 강화, 공해 차량 통행 제한 확대, 탄력적인 주차요금제 적용 등으로 도심 내 승용차 수요관리 체계를 정립하고 도심 우회도로를 조속히 확충하여 서울도심 내 도로·교통시설체계를 재편한다.Ÿ신분당선 서북부연장 등 도시철도망을 확대하고 간선급행버스(BRT) 확충 등 버스노선체계를 개편하여 대중교통 접근성을 개선한다.Ÿ개인이동수단(PM), 자전거 등 친환경 교통수단 중심으로 지상 도로를 정비하고 자전거 간선도로(CRT)를 확대 설치하며 보행환경개선지구 지정 및 사업을 추진하여 사람 중심의 교통체계로 개선 및 확대·재편한다.기반시설 입체복합화 등 다양한 방법으로 도심권 생활물류시설 확충Ÿ도심권역에서 생활물류가 원활하게 배송될 수 있도록 공영주차장 등 저이용 기반시설에 대해 물류 복합화를 추진하고, 대규모 정비사업 추진 시 소규모 집배송시설 또는 도심형 물류센터 등이 설치될 수 있도록 인센티브 등을 활용하여 유도한다.4) 공원녹지서울도심을 녹지생태 공간이 가득한 경쟁력 있는 복합도심으로 구축Ÿ지역 특성을 고려한 맞춤형 전략으로 도심 내 다양한 녹지공간을 확보하여 도심의 녹지공간의 비율을 세계 선진 대도시 수준으로 끌어올린다.-정비사업 추진에 따른 녹지공간 조성 시 오픈스페이스 집적·연계를 위한 배치와 개방형 녹지 확대 등을 유도하고 녹지생태 네트워크를 구축-정비사업이 이미 완료된 구역에 대해서는 리모델링 시 공개공지 재조성이나 입체녹화 등으로 녹지공간의 추가 확보를 유도-인사동, 북촌 등 특색 지역에는 장소 맞춤형 보행 녹지 가로 조성을 통한 네트워크를 구축용산공원의 정체성·역사성·상징성 회복을 위한 종합계획 및 적극적 관리방안 수립Ÿ남북녹지축과 동서수경축이 만나는 서울의 지리적 중심인 용산공원을 입지적 중요성과 역사적인 상징성에 따라 시민과 공감대를 형성하여 활용방안을 모색한다.-공원 조성 및 관리 운영 과정에 중앙정부와 협의하여 서울시가 적극적으로 참여' metadata={'page': 154, 'creationdate': '2024-12-12T18:16:11+09:00', 'total_pages': 205, 'creator': 'Hwp 2020 11.0.0.5178', 'producer': 'Hancom PDF 1.3.0.542', 'author': 'SI', 'source': '../data\\\\2040_seoul_plan.pdf', 'page_label': '155', 'moddate': '2024-12-12T18:16:11+09:00', 'pdfversion': '1.4'}\n"
     ]
    }
   ],
   "source": [
    "# 프롬프트 작성하고 테스트하기\n",
    "# PromptTemplate 쓰는 이유 -> 기존 대화 내용이 계속 이어질 필요 없을 경우 더 적합 \n",
    "grader_prompt = PromptTemplate.from_template(\"\"\"\n",
    "당신은 검색된 문서가 사용자 질문과 관련이 있는지 평가하는 평가자입니다. \\n\n",
    "문서에 사용자 질문과 관련된 키워드 또는 의미가 포함되어 있으면, 해당 문서를 관련성이 있다고 평가하십시오. \\n\n",
    "엄격한 테스트가 필요하지 않습니다. 목표는 잘못된 검색 결과를 걸러내는 것입니다. \\n\n",
    "문서가 질문과 관련이 있는지 여부를 나타내기 위해 'yes' 또는 'no'로 이진 점수를 부여하십시오.                                                                                                                                      \n",
    "                                          \n",
    "Retrievd document: \\n {document} \\n\\n\n",
    "User question: {question}\n",
    "\"\"\")\n",
    "\n",
    "retrieval_grader = grader_prompt | structured_llm_grader\n",
    "\n",
    "# ------\n",
    "\n",
    "question = \"서울시 자율주행 관련 계획\"\n",
    "documents = retriever.invoke(question)\n",
    "\n",
    "for doc in documents:\n",
    "    print(doc)"
   ]
  },
  {
   "cell_type": "code",
   "execution_count": 11,
   "id": "fbf60f9f",
   "metadata": {},
   "outputs": [
    {
     "name": "stdout",
     "output_type": "stream",
     "text": [
      "Document 1:\n",
      "binary_score='yes'\n",
      "54제2장 미래상과 목표\n",
      "5. 기술발전에 선제적 대응, ‘미래교통 인프라 구축’1) 배경미래교통수단 도입에 따른 도시 활동 변화 및 공간구조 재편 대비Ÿ빠르게 진화하는 미래 신 교통수단은 도시공간에 새로운 변화를 일으킬 것이며, 도시 내 이동패턴의 변화를 가져올 것으로 예측된다. 이러한 점을 고려하여 도시 내 다양한 통행행태가 공존하는 포용적인 교통체계 구\n",
      "=================================\n",
      "\n",
      "\n",
      "Document 2:\n",
      "binary_score='yes'\n",
      "36제2장 미래상과 목표\n",
      "6) 미래교통수단의 등장과 첨단 인프라 요구 증대자율주행, UAM 등 미래 교통에 공간적 대응방안 마련 필요Ÿ자율주행차량, 전동킥보드 등 교통 기술의 발전에 따라 새로운 교통환경이 조성되고 있음에도 불구하고, 이에 대한 정착 가이드라인이 없어, 위험한 교통 사고가 유발되고 있다.-최근 3년간 서울시에서 발생한 전동킥보드 관련 사고 \n",
      "=================================\n",
      "\n",
      "\n",
      "Document 3:\n",
      "binary_score='no'\n",
      "제1절 도시공간구조105기능이 공존하는 미래 도심으로 조성-국제 디지털 금융중심지인 여의도·영등포는 한강을 중심으로 한 글로벌 혁신코어 조성-국제 업무 중심지인 강남은 영동대로와 경부간선도로의 입체복합화로 가용지를 확보하여 업무복합기능을 강화 Ÿ수도 서울의 위상 강화를 위해 “광화문~용산~영등포”축을 국가중심공간으로 조성한다.-북악산~청와대~광화문광장~서울\n",
      "=================================\n",
      "\n",
      "\n",
      "Document 4:\n",
      "binary_score='yes'\n",
      "광화문·시청역을, GTX-B 노선은 종로3가역 또는 동대문역 신설 제안을 검토Ÿ자전거를 비롯하여 개인용 이동수단(PM), 수상교통, 도심항공교통(UAM) 등 신 이동수단으로 도심 간 연결 수단을 다양화하고, 교통수단 상용화에 필요한 인프라를 구축한다.-여의도~잠실종합운동장, 남산공원~용산공원~용산역(정비창)~여의도 등을 연결하는 신 이동수단의 인프라 신설을\n",
      "=================================\n",
      "\n",
      "\n",
      "Document 5:\n",
      "binary_score='no'\n",
      "제3절 권역별 구상147보행 중심 교통체계 전환을 위한 친환경 교통 인프라 구축 및 제도 개선 Ÿ주차상한제 강화, 공해 차량 통행 제한 확대, 탄력적인 주차요금제 적용 등으로 도심 내 승용차 수요관리 체계를 정립하고 도심 우회도로를 조속히 확충하여 서울도심 내 도로·교통시설체계를 재편한다.Ÿ신분당선 서북부연장 등 도시철도망을 확대하고 간선급행버스(BRT) \n",
      "=================================\n",
      "\n",
      "\n",
      "Filtered documents: 3\n"
     ]
    }
   ],
   "source": [
    "# 관련된 청크만 리스트에 추가\n",
    "filtered_docs = []\n",
    "\n",
    "# index 필요할 경우 enumerate 사용\n",
    "for i, doc in enumerate(documents):\n",
    "    print(f\"Document {i + 1}:\")\n",
    "    is_relevant = retrieval_grader.invoke({\"question\": question, \"document\": doc.page_content})\n",
    "    print(is_relevant)\n",
    "    print(doc.page_content[:200])\n",
    "    print(\"=================================\\n\\n\")\n",
    "\n",
    "    if is_relevant.binary_score == \"yes\":\n",
    "        filtered_docs.append(doc)\n",
    "\n",
    "print(f\"Filtered documents: {len(filtered_docs)}\")"
   ]
  },
  {
   "cell_type": "code",
   "execution_count": 12,
   "id": "754d87b3",
   "metadata": {},
   "outputs": [
    {
     "data": {
      "text/plain": [
       "AIMessage(content='서울시는 자율주행 관련 계획을 통해 2030년까지 간선도로급 이상 도로에서 자율주행 자동차 운영을 위한 도로 인프라 환경을 조성하고, 2040년까지는 서울 전역에 자율주행 차량의 운행 환경을 구축할 목표를 세웠습니다. 이 계획의 일환으로, 자율주행차량의 수송 분담률을 10% 달성하는 것을 목표로 하고 있습니다.\\n\\n또한, 서울시는 도심 항공교통(UAM) 기반 마련과 터미널 확충도 추진하고 있으며, 도심에서 김포공항까지의 시범노선을 운영하여 장기적으로는 주요 수변 공간 중심으로 광역노선을 확보할 계획입니다. 이를 위해 다양한 모빌리티 허브를 서울 전역에 구축하여 공공서비스, 물류, 상업 등 여러 기능이 복합적으로 제공되는 지역 거점으로 발전시키려 하고 있습니다.\\n\\n이러한 자율주행 및 미래교통수단의 도입은 서울시 도시 공간과 이동 패턴에 중대한 변화를 가져올 것으로 예상되며, 이에 따라 통합적인 교통수단 정착 가이드라인이 필요하다고 강조하고 있습니다.', additional_kwargs={'refusal': None}, response_metadata={'token_usage': {'completion_tokens': 265, 'prompt_tokens': 1790, 'total_tokens': 2055, 'completion_tokens_details': {'accepted_prediction_tokens': 0, 'audio_tokens': 0, 'reasoning_tokens': 0, 'rejected_prediction_tokens': 0}, 'prompt_tokens_details': {'audio_tokens': 0, 'cached_tokens': 0}}, 'model_name': 'gpt-4o-mini-2024-07-18', 'system_fingerprint': 'fp_34a54ae93c', 'id': 'chatcmpl-BqyI75RC0iq4gTiFfxQ94YzgSieY2', 'service_tier': 'default', 'finish_reason': 'stop', 'logprobs': None}, id='run--6d26f420-446f-4b83-bb57-a86da1d6ed8b-0', usage_metadata={'input_tokens': 1790, 'output_tokens': 265, 'total_tokens': 2055, 'input_token_details': {'audio': 0, 'cache_read': 0}, 'output_token_details': {'audio': 0, 'reasoning': 0}})"
      ]
     },
     "execution_count": 12,
     "metadata": {},
     "output_type": "execute_result"
    }
   ],
   "source": [
    "# RAG를 위한 프롬프트 생성하기\n",
    "rag_generate_system = \"\"\"\n",
    "너는 사용자의 질문에 대해 주어진 context에 기반하여 답변하는 도시 계획 전문가이다.\n",
    "주어진 context는 vectorstore에서 검색된 결과이다.\n",
    "주어진 context를 기반으로 사용자의 question에 대해 답변하라.\n",
    "\n",
    "=================================\n",
    "question: {question}\n",
    "context: {context}\n",
    "\"\"\"\n",
    "\n",
    "# PromptTemplate를 생성해 question과 context를 포매팅\n",
    "rag_prompt = PromptTemplate(\n",
    "    input_variables=[\"question\", \"context\"],\n",
    "    template=rag_generate_system,\n",
    ")\n",
    "\n",
    "# 체인 형성\n",
    "rag_chain = rag_prompt | model\n",
    "\n",
    "# 사용자 질문과 검색된 문서를 입력으로 사용해 RAG를 실행\n",
    "question = \"서울시 자율주행 관련 계획\"\n",
    "\n",
    "rag_chain.invoke({\"question\": question, \"context\": filtered_docs})"
   ]
  },
  {
   "cell_type": "markdown",
   "id": "dfd78c46",
   "metadata": {},
   "source": [
    "### RAG 에이전트에 필요한 기능(노드)를 다 만들었으니 이 기능들을 엮어서 하나의 그래프로 만들기"
   ]
  },
  {
   "cell_type": "code",
   "execution_count": 13,
   "id": "cf259b8d",
   "metadata": {},
   "outputs": [],
   "source": [
    "# 그래프 상태 선언\n",
    "from typing import List\n",
    "from typing_extensions import TypedDict\n",
    "\n",
    "class GraphState(TypedDict):\n",
    "    question: str # 사용자 질문\n",
    "    generation: str # LLM 생성 결과\n",
    "    documents: List[str] # 불필요한 청크 거른 청크 모음"
   ]
  },
  {
   "cell_type": "code",
   "execution_count": 14,
   "id": "874078a7",
   "metadata": {},
   "outputs": [],
   "source": [
    "# 사용자 질문을 vectorstore 또는 casual_talk로 라우팅하는 함수\n",
    "def route_question(state):\n",
    "    \"\"\"\n",
    "    사용자 질문을 용자 질문을 vectorstore 또는 casual_talk로 라우팅합니다.\n",
    "\n",
    "    Args:\n",
    "        state (dict): 현재 graph state\n",
    "\n",
    "    return:\n",
    "        state (dict): 라우팅된 데이터 소스와 사용자 질문을 포함하는 새로운 graph state\n",
    "    \"\"\"\n",
    "    print('-----ROUTE-----')\n",
    "    question = state['question']\n",
    "    # 앞에서 정의한 라우터 프롬프트와 구조화된 출력 모델(vectorstore와 casual_talk만 반환하는)을 결합한 객체\n",
    "    route = question_route.invoke({\"question\": question})\n",
    "\n",
    "    print(f\"---Routing to {route.datasource}---\")\n",
    "    return route.datasource"
   ]
  },
  {
   "cell_type": "code",
   "execution_count": 15,
   "id": "42052c5a",
   "metadata": {},
   "outputs": [],
   "source": [
    "# retrieve 노드 정의\n",
    "def retrieve(state):\n",
    "    \"\"\"\n",
    "    vectorstore에서 질문에 대한 문서를 검색합니다.\n",
    "\n",
    "    Args:\n",
    "        state (dict): 현재 graph state\n",
    "\n",
    "    return:\n",
    "        state (dict): 검색된 문서와 사용자 질문을 포함하는 새로운 graph sate\n",
    "    \"\"\"\n",
    "    print('-----RETRIEVE-----')\n",
    "    question = state['question']\n",
    "\n",
    "    # Retrieve documents\n",
    "    documents = retriever.invoke(question)\n",
    "    return {\"documents\": documents, \"question\": question}"
   ]
  },
  {
   "cell_type": "code",
   "execution_count": 16,
   "id": "2cb4c63c",
   "metadata": {},
   "outputs": [],
   "source": [
    "# grade_documents 노드 정의 - 필요한 청크만 가져오고 state의 documents를 필터된 청크들로 업데이트\n",
    "def grade_documents(state):\n",
    "    \"\"\"\n",
    "    검색된 문서를 평가하여 질문과 관련성이 있는지 확인합니다.\n",
    "\n",
    "    Args:\n",
    "        state (dict): 현재 graph state\n",
    "\n",
    "    return:\n",
    "        state (dict): 관련성이 있는 문서와 사용자 질문을 포함하는 새로운 graph state\n",
    "    \"\"\"\n",
    "    print('-----GRADE-----')\n",
    "    question = state['question']\n",
    "    documents = state['documents']\n",
    "    filtered_docs = []\n",
    "\n",
    "    for i, doc in enumerate(documents):\n",
    "        is_relevant = retrieval_grader.invoke({\"question\": question, \"document\": doc.page_content})\n",
    "        if is_relevant.binary_score == \"yes\":\n",
    "            filtered_docs.append(doc)\n",
    "\n",
    "    return {\"documents\": filtered_docs, \"question\": question}"
   ]
  },
  {
   "cell_type": "code",
   "execution_count": 17,
   "id": "20749fb4",
   "metadata": {},
   "outputs": [],
   "source": [
    "# genertate 노드 정의\n",
    "def generate(state):\n",
    "    \"\"\"\n",
    "    LLM을 사용하여 문서와 사용자 질문에 대한 답변을 생성합니다.\n",
    "\n",
    "    Args:\n",
    "        state (dict): 현재 graph state\n",
    "\n",
    "    return\n",
    "        state (dict): LLM 생성 결과와 사용자 질문을 포함하는 새로운 graph state\n",
    "    \"\"\"\n",
    "    print('-----GENERATE')\n",
    "    question = state['question']\n",
    "    documents = state['documents']\n",
    "    generation = rag_chain.invoke({\"question\": question, \"context\": documents})\n",
    "    return{\n",
    "        \"documents\": documents,\n",
    "        \"question\": question,\n",
    "        \"generation\": generation\n",
    "    }"
   ]
  },
  {
   "cell_type": "code",
   "execution_count": 18,
   "id": "8b022d70",
   "metadata": {},
   "outputs": [],
   "source": [
    "# casual_talk 노드\n",
    "def casual_talk(state):\n",
    "    \"\"\"\n",
    "    일상 대화를 위한 답변을 생성합니다.\n",
    "\n",
    "    Args:\n",
    "        state (dict): 현재 graph state\n",
    "    \n",
    "    return:\n",
    "        state (dict): 일상 대화 결과와 사용자 질문을 포함하는 새로운 graph state\n",
    "    \"\"\"\n",
    "    print('-----CASUAL TALK-----')\n",
    "    question = state['question']\n",
    "    generation = model.invoke(question)\n",
    "    return {\n",
    "        \"question\": question,\n",
    "        \"generation\": generation\n",
    "    }"
   ]
  },
  {
   "cell_type": "markdown",
   "id": "6bbbbfa5",
   "metadata": {},
   "source": [
    "### StateGraph 만들기\n",
    " - 랭그래프를 사용하려면 StateGraph를 만들고 노드들을 등록한 후, 각 노드들의 연결 관계를 정의해야 합니다."
   ]
  },
  {
   "cell_type": "code",
   "execution_count": 19,
   "id": "32aa0c15",
   "metadata": {},
   "outputs": [],
   "source": [
    "# StateGraph 객체 생성\n",
    "from langgraph.graph import START, StateGraph, END\n",
    "workflow = StateGraph(GraphState)  "
   ]
  },
  {
   "cell_type": "code",
   "execution_count": 20,
   "id": "c90f651f",
   "metadata": {},
   "outputs": [
    {
     "data": {
      "text/plain": [
       "<langgraph.graph.state.StateGraph at 0x1e82f83c9b0>"
      ]
     },
     "execution_count": 20,
     "metadata": {},
     "output_type": "execute_result"
    }
   ],
   "source": [
    "# 먼저 만든 함수들을 노드로 등록하고 연결\n",
    "workflow.add_node(\"retrieve\", retrieve)\n",
    "workflow.add_node(\"grade_documents\", grade_documents)\n",
    "workflow.add_node(\"generate\", generate)\n",
    "workflow.add_node(\"casual_talk\", casual_talk)"
   ]
  },
  {
   "cell_type": "code",
   "execution_count": 21,
   "id": "329434c4",
   "metadata": {},
   "outputs": [],
   "source": [
    "# 그래프 정의하기 - .add_edge로 연결\n",
    "workflow.add_conditional_edges(\n",
    "    START,\n",
    "    route_question,\n",
    "    {\n",
    "        \"vectorstore\": \"retrieve\",\n",
    "        \"casual\": \"casual_talk\",\n",
    "    }\n",
    ")\n",
    "\n",
    "workflow.add_edge(\"casual_talk\", END)\n",
    "workflow.add_edge(\"retrieve\", \"grade_documents\")\n",
    "workflow.add_edge(\"grade_documents\", \"generate\")\n",
    "workflow.add_edge(\"generate\", END)\n",
    "\n",
    "# workflow를 실행 가능한 app으로 컴파일\n",
    "app = workflow.compile() "
   ]
  },
  {
   "cell_type": "code",
   "execution_count": 22,
   "id": "c18c193f",
   "metadata": {},
   "outputs": [
    {
     "data": {
      "image/png": "[encoded data removed]",
      "text/plain": [
       "<IPython.core.display.Image object>"
      ]
     },
     "metadata": {},
     "output_type": "display_data"
    }
   ],
   "source": [
    "# 그래프 출력하기\n",
    "from IPython.display import Image, display\n",
    "\n",
    "try:\n",
    "    display(Image(app.get_graph().draw_mermaid_png()))\n",
    "except Exception:\n",
    "    # 실패 시 통과\n",
    "    pass"
   ]
  },
  {
   "cell_type": "code",
   "execution_count": 24,
   "id": "f3444e55",
   "metadata": {},
   "outputs": [
    {
     "name": "stdout",
     "output_type": "stream",
     "text": [
      "-----ROUTE-----\n",
      "---Routing to vectorstore---\n",
      "-----RETRIEVE-----\n",
      "-----GRADE-----\n",
      "-----GENERATE\n"
     ]
    },
    {
     "data": {
      "text/plain": [
       "{'question': '서울시 자율주행 계획',\n",
       " 'generation': AIMessage(content='서울시는 자율주행 교통 수단의 본격 운영 체계를 구축하는 데 중점을 두고 있으며, 2030년까지 간선도로급 이상의 도로에서 자율주행차량을 운영할 수 있는 인프라 환경을 조성할 계획입니다. 2040년까지는 서울 전역에서 자율주행차의 운행 환경을 구축하고, 수송 분담률을 10% 달성하는 것을 목표로 하고 있습니다.\\n\\n이에 따라 서울시는 새로운 도시 인프라의 확충을 필요로 하며, 자율주행차뿐만 아니라 도심 항공교통(UAM) 및 다양한 모빌리티 허브의 구축도 추진하고 있습니다. 이를 통해 도시 내의 기존 교통과 미래의 교통을 통합하여 포괄적인 교통 체계를 조성하겠다는 목표를 가지고 있습니다.\\n\\n자율주행차량의 도입과 관련된 인프라 구축은 개발 단계에서부터 준비해야 하며, 안전하고 효율적인 교통 수단의 조화를 위한 가이드라인 마련이 필요하다고 언급되고 있습니다.', additional_kwargs={'refusal': None}, response_metadata={'token_usage': {'completion_tokens': 238, 'prompt_tokens': 1789, 'total_tokens': 2027, 'completion_tokens_details': {'accepted_prediction_tokens': 0, 'audio_tokens': 0, 'reasoning_tokens': 0, 'rejected_prediction_tokens': 0}, 'prompt_tokens_details': {'audio_tokens': 0, 'cached_tokens': 0}}, 'model_name': 'gpt-4o-mini-2024-07-18', 'system_fingerprint': 'fp_34a54ae93c', 'id': 'chatcmpl-BqyKYg2ebveOxByA7D5IQyG4OToET', 'service_tier': 'default', 'finish_reason': 'stop', 'logprobs': None}, id='run--3896e474-0adf-4be0-830e-fa2579f950e7-0', usage_metadata={'input_tokens': 1789, 'output_tokens': 238, 'total_tokens': 2027, 'input_token_details': {'audio': 0, 'cache_read': 0}, 'output_token_details': {'audio': 0, 'reasoning': 0}}),\n",
       " 'documents': [Document(id='03637187-3b9b-496d-8a08-580b30801c38', metadata={'pdfversion': '1.4', 'page_label': '62', 'moddate': '2024-12-12T18:16:11+09:00', 'creator': 'Hwp 2020 11.0.0.5178', 'producer': 'Hancom PDF 1.3.0.542', 'source': '../data\\\\2040_seoul_plan.pdf', 'total_pages': 205, 'creationdate': '2024-12-12T18:16:11+09:00', 'page': 61, 'author': 'SI'}, page_content='54제2장 미래상과 목표\\n5. 기술발전에 선제적 대응, ‘미래교통 인프라 구축’1) 배경미래교통수단 도입에 따른 도시 활동 변화 및 공간구조 재편 대비Ÿ빠르게 진화하는 미래 신 교통수단은 도시공간에 새로운 변화를 일으킬 것이며, 도시 내 이동패턴의 변화를 가져올 것으로 예측된다. 이러한 점을 고려하여 도시 내 다양한 통행행태가 공존하는 포용적인 교통체계 구축을 준비해야 한다.미래교통수단 정착을 위한 도시 인프라 확충지원 필요Ÿ기존에 없던 새로운 교통은 통상 인프라 구축에 많은 시간이 소요되기 때문에 교통수단이 도입된 이후에 준비하기보다는 개발단계에서부터 이를 지원하기 위한 교통인프라 구축 구상이 요구되며, 새로운 도시 인프라 확충에 대한 도시계획적 지원이 필요하다.2) 추진전략자율주행 자동차 본격 운영 체계 구축Ÿ자율주행은 현재 제일 가시화되고 있는 미래 교통기술로 시장의 주도권을 확보하기 위해 각국의 노력이 집중되고 있다. 단계적으로 2030년까지 간선도로급 이상 도로에서 운영할 수 있는 도로 인프라 환경을 조성하고, 2040년까지 서울 전역 자율주행 운행 환경 구축을 목표로 한다.-2040년까지 서울 전역 자율주행차량의 운행 환경을 구축하고 수송 분담률 10%를 달성서울형 도심 항공교통 기반 마련 및 터미널 확충Ÿ도심에서 김포공항까지 시범노선을 운영하는 등 상용화 노선을 확보하고, 장기적으로 한강, 지천 등 주요 수변 공간 중심으로 광역노선을 확보한다. 또한 UAM 인프라 확보를 위한 인센티브 및 도시계획적인 지원 방안도 함께 검토한다.-UAM 시범노선을 운영하고, 한강 등 주요 수변 공간 중심에 단계적 광역노선을 확장서울 전역에 모빌리티 허브 구축Ÿ도심 및 광역거점에 서울 내부와 외부의 연계를 위한 미래 교통과 기존 교통을 연결하는 시설을 도입한다. 또한 교통뿐 아니라 공공서비스, 물류, 상업 등 다양한 기능들이 복합적으로 제공되는 지역 거점 모빌리티 허브를 서울 전역에 도입한다.'),\n",
       "  Document(id='0065eb79-8234-4bf8-9ebe-0a2a13843405', metadata={'author': 'SI', 'source': '../data\\\\2040_seoul_plan.pdf', 'creator': 'Hwp 2020 11.0.0.5178', 'total_pages': 205, 'producer': 'Hancom PDF 1.3.0.542', 'pdfversion': '1.4', 'creationdate': '2024-12-12T18:16:11+09:00', 'page': 43, 'page_label': '44', 'moddate': '2024-12-12T18:16:11+09:00'}, page_content='36제2장 미래상과 목표\\n6) 미래교통수단의 등장과 첨단 인프라 요구 증대자율주행, UAM 등 미래 교통에 공간적 대응방안 마련 필요Ÿ자율주행차량, 전동킥보드 등 교통 기술의 발전에 따라 새로운 교통환경이 조성되고 있음에도 불구하고, 이에 대한 정착 가이드라인이 없어, 위험한 교통 사고가 유발되고 있다.-최근 3년간 서울시에서 발생한 전동킥보드 관련 사고 대다수는 전동 킥보드와 차량 간 충돌 사고Ÿ안전하고 효율적인 기존-신규 교통수단의 조화를 도모하고, 이와 함께 발생할 도시공간구조 변화에 대비하기 위해 통합적인 교통수단 정착 가이드라인이 필요하다.7) 시가지 공간의 포화, 개발가용지의 부족새로운 도시공간에 대한 수요 대응과 성장동력 확보 한계Ÿ서울의 녹지지역을 제외한 대부분의 개발가용지는 고갈된 상태이며, 남은 공간은 주택공급을 위주로 개발하고 있다.-서울시에서 개발제한구역 25%를 제외하면 65%에 해당하는 시가화면적 366㎢ 중 미개발지는 거의 없는 상태Ÿ외연적 팽창이 아닌, 선택과 집중을 통한 콤팩트 시티로의 공간구조 재편을 지향하고 복합 개발을 통해 약해진 도시경쟁력 강화가 필요한 시점이다.8) 늙어가는 서울, 도시 정비의 정체에 따른 환경 악화정비사업 추진동력 저하, 쾌적한 도시환경에 대한 요구 증대Ÿ2038년 서울시 기반시설 노후화 비율은 2018년 대비 2.7배 급증, 1960~70년대 집중 조성된 기반시설의 노후화에 따른 시설 안전성 확보가 필요하다.-2040년, 서울 전체 주택 중 노후 물량 50%로 추정Ÿ때문에, 쾌적한 도시환경 구축을 위해서는 노후 기반시설로 인한 안전성 검토와 개선비용 증가에 따른 선제적인 대응이 필요하다.\\n[그림 2-19] 서울시 전동킥보드 사고 추이자료: 서울시 소방재난본부'),\n",
       "  Document(id='ac99e746-140d-400b-9389-3300d2e83475', metadata={'page_label': '113', 'page': 112, 'source': '../data\\\\2040_seoul_plan.pdf', 'moddate': '2024-12-12T18:16:11+09:00', 'creator': 'Hwp 2020 11.0.0.5178', 'pdfversion': '1.4', 'creationdate': '2024-12-12T18:16:11+09:00', 'producer': 'Hancom PDF 1.3.0.542', 'total_pages': 205, 'author': 'SI'}, page_content='광화문·시청역을, GTX-B 노선은 종로3가역 또는 동대문역 신설 제안을 검토Ÿ자전거를 비롯하여 개인용 이동수단(PM), 수상교통, 도심항공교통(UAM) 등 신 이동수단으로 도심 간 연결 수단을 다양화하고, 교통수단 상용화에 필요한 인프라를 구축한다.-여의도~잠실종합운동장, 남산공원~용산공원~용산역(정비창)~여의도 등을 연결하는 신 이동수단의 인프라 신설을 검토하여 글로벌 비즈니스 편의와 관광 매력을 증진')]}"
      ]
     },
     "execution_count": 24,
     "metadata": {},
     "output_type": "execute_result"
    }
   ],
   "source": [
    "# 멀티에이전트 테스트\n",
    "inputs = {\n",
    "    \"question\": \"서울시 자율주행 계획\"\n",
    "}\n",
    "\n",
    "app.invoke(inputs) # workflow 실행"
   ]
  },
  {
   "cell_type": "code",
   "execution_count": 25,
   "id": "b8fbb1bb",
   "metadata": {},
   "outputs": [
    {
     "name": "stdout",
     "output_type": "stream",
     "text": [
      "-----ROUTE-----\n",
      "---Routing to casual---\n",
      "-----CASUAL TALK-----\n"
     ]
    },
    {
     "data": {
      "text/plain": [
       "{'question': '잘 지내?',\n",
       " 'generation': AIMessage(content='저는 잘 지내고 있습니다! 당신은 어떻게 지내고 계신가요? 도움이 필요하시면 언제든지 말씀해 주세요.', additional_kwargs={'refusal': None}, response_metadata={'token_usage': {'completion_tokens': 30, 'prompt_tokens': 11, 'total_tokens': 41, 'completion_tokens_details': {'accepted_prediction_tokens': 0, 'audio_tokens': 0, 'reasoning_tokens': 0, 'rejected_prediction_tokens': 0}, 'prompt_tokens_details': {'audio_tokens': 0, 'cached_tokens': 0}}, 'model_name': 'gpt-4o-mini-2024-07-18', 'system_fingerprint': 'fp_34a54ae93c', 'id': 'chatcmpl-BqyL6KsKh3ANyCB6aIbmfO0URNoOV', 'service_tier': 'default', 'finish_reason': 'stop', 'logprobs': None}, id='run--1c87d6ed-b6aa-4e24-8207-516732a09611-0', usage_metadata={'input_tokens': 11, 'output_tokens': 30, 'total_tokens': 41, 'input_token_details': {'audio': 0, 'cache_read': 0}, 'output_token_details': {'audio': 0, 'reasoning': 0}})}"
      ]
     },
     "execution_count": 25,
     "metadata": {},
     "output_type": "execute_result"
    }
   ],
   "source": [
    "# 워크플로 확인하기\n",
    "inputs = {\n",
    "    \"question\": \"잘 지내?\"\n",
    "}\n",
    "\n",
    "app.invoke(inputs) # workflow 실행"
   ]
  },
  {
   "cell_type": "code",
   "execution_count": 27,
   "id": "a7d8fd3e",
   "metadata": {},
   "outputs": [
    {
     "name": "stdout",
     "output_type": "stream",
     "text": [
      "-----ROUTE-----\n",
      "{\"datasource\":\"vectorstore\"}---Routing to vectorstore---\n",
      "-----RETRIEVE-----\n",
      "-----GRADE-----\n",
      "{\"binary_score\":\"yes\"}{\"binary_score\":\"yes\"}{\"binary_score\":\"no\"}{\"binary_score\":\"no\"}{\"binary_score\":\"yes\"}-----GENERATE\n",
      "서울시의 자율주행 차량 계획은 크게 두 가지로 나눌 수 있습니다. \n",
      "\n",
      "첫째, **자율주행 자동차 운영 체계 구축**입니다. 서울시는 2030년까지 간선도로급 이상의 도로에서 자율주행 차량이 운영될 수 있는 인프라 환경을 조성하고, 2040년까지 서울 전역에서 자율주행 차량의 운행 환경을 구축하는 것을 목표로 하고 있습니다. 이 계획의 일환으로 2040년까지 자율주행 차량의 수송 분담률을 10%까지 달성하려고 하고 있습니다.\n",
      "\n",
      "둘째, **모빌리티 허브 및 도심 항공교통(UAM) 기반 마련**입니다. 서울시는 도심에서 김포공항까지의 시범노선을 운영하며, 장기적으로 한강 등 주요 수변 공간을 중심으로 광역노선을 확충할 계획입니다. 이러한 움직임은 자율주행 차량의 정착과 함께 다양한 교통수단을 통합하는 모빌리티 허브의 구축을 포함합니다.\n",
      "\n",
      "이와 같은 계획들은 서울시의 교통 혼잡을 완화하고, 안전하고 효율적인 교통 환경을 조성하기 위한 중요한 기초를 마련하고 있습니다."
     ]
    }
   ],
   "source": [
    "# 스트림 방식으로 출력하기\n",
    "inputs = {\n",
    "    \"question\": \"서울시의 자율주행 차량 계획은 무엇이 있나요?\"\n",
    "}\n",
    "\n",
    "for msg, meta in app.stream(inputs, stream_mode=\"messages\"):\n",
    "    print(msg.content, end='')"
   ]
  }
 ],
 "metadata": {
  "kernelspec": {
   "display_name": "venv",
   "language": "python",
   "name": "python3"
  },
  "language_info": {
   "codemirror_mode": {
    "name": "ipython",
    "version": 3
   },
   "file_extension": ".py",
   "mimetype": "text/x-python",
   "name": "python",
   "nbconvert_exporter": "python",
   "pygments_lexer": "ipython3",
   "version": "3.12.9"
  }
 },
 "nbformat": 4,
 "nbformat_minor": 5
}
